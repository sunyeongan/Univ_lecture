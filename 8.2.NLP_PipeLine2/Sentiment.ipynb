{
 "cells": [
  {
   "cell_type": "code",
   "execution_count": 9,
   "metadata": {},
   "outputs": [],
   "source": [
    "import nltk\n",
    "import nltk.sentiment.sentiment_analyzer\n",
    "import nltk.sentiment.util"
   ]
  },
  {
   "cell_type": "code",
   "execution_count": 10,
   "metadata": {},
   "outputs": [],
   "source": [
    "def wordBasedSentiment():\n",
    "    positive_words = ['love', 'hope', 'joy']#긍정을 나타내는 단어 \n",
    "    text = 'Rainfall this year brings lot of hope and joy to Farmers.'.split()\n",
    "    analysis = nltk.sentiment.util.extract_unigram_feats(text, positive_words)#주어진 단어가 텍스트에 존재하는지 여부를 나타내는\n",
    "    #딕셔너리 형태의 데이터 \n",
    "    print(' -- single word sentiment --')\n",
    "    print(analysis)"
   ]
  },
  {
   "cell_type": "code",
   "execution_count": 11,
   "metadata": {},
   "outputs": [],
   "source": [
    "def multiWordBasedSentiment():# 주어진 단어쌍이 텍스트에 존재하는지 여부를 나타냄 \n",
    "    word_sets = [('heavy', 'rains'), ('flood', 'bengaluru')]\n",
    "    text = 'heavy rains cause flash flooding in bengaluru'.split()\n",
    "    analysis = nltk.sentiment.util.extract_bigram_feats(text, word_sets)\n",
    "    print(' -- multi word sentiment --')\n",
    "    print(analysis)"
   ]
  },
  {
   "cell_type": "code",
   "execution_count": 12,
   "metadata": {},
   "outputs": [],
   "source": [
    "def markNegativity():\n",
    "    text = 'Rainfall last year did not bring joy to Farmers'.split()\n",
    "    negation = nltk.sentiment.util.mark_negation(text)#부정적 의미를 가진 모든 단어는 _NEG를 붙여서 단어 리스트로 반환 \n",
    "    print(' -- negativity --')\n",
    "    print(negation)"
   ]
  },
  {
   "cell_type": "code",
   "execution_count": 13,
   "metadata": {},
   "outputs": [
    {
     "name": "stdout",
     "output_type": "stream",
     "text": [
      " -- single word sentiment --\n",
      "{'contains(love)': False, 'contains(hope)': True, 'contains(joy)': True}\n",
      " -- multi word sentiment --\n",
      "{'contains(heavy - rains)': True, 'contains(flood - bengaluru)': False}\n",
      " -- negativity --\n",
      "['Rainfall', 'last', 'year', 'did', 'not', 'bring_NEG', 'joy_NEG', 'to_NEG', 'Farmers_NEG']\n"
     ]
    }
   ],
   "source": [
    "if __name__ == '__main__':\n",
    "    wordBasedSentiment()\n",
    "    multiWordBasedSentiment()\n",
    "    markNegativity()"
   ]
  },
  {
   "cell_type": "code",
   "execution_count": null,
   "metadata": {},
   "outputs": [],
   "source": []
  }
 ],
 "metadata": {
  "kernelspec": {
   "display_name": "Python 3",
   "language": "python",
   "name": "python3"
  },
  "language_info": {
   "codemirror_mode": {
    "name": "ipython",
    "version": 3
   },
   "file_extension": ".py",
   "mimetype": "text/x-python",
   "name": "python",
   "nbconvert_exporter": "python",
   "pygments_lexer": "ipython3",
   "version": "3.8.5"
  }
 },
 "nbformat": 4,
 "nbformat_minor": 4
}
