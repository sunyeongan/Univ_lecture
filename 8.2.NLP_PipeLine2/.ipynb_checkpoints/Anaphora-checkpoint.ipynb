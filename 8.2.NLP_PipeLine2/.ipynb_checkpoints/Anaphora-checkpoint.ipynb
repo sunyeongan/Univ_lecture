{
 "cells": [
  {
   "cell_type": "code",
   "execution_count": 22,
   "metadata": {},
   "outputs": [
    {
     "name": "stderr",
     "output_type": "stream",
     "text": [
      "[nltk_data] Downloading package names to /Users/anseon-\n",
      "[nltk_data]     yeong/nltk_data...\n",
      "[nltk_data]   Unzipping corpora/names.zip.\n"
     ]
    },
    {
     "data": {
      "text/plain": [
       "True"
      ]
     },
     "execution_count": 22,
     "metadata": {},
     "output_type": "execute_result"
    }
   ],
   "source": [
    "nltk.download('names')"
   ]
  },
  {
   "cell_type": "code",
   "execution_count": 23,
   "metadata": {},
   "outputs": [],
   "source": [
    "import nltk\n",
    "from nltk.chunk import tree2conlltags\n",
    "from nltk.corpus import names\n",
    "import random"
   ]
  },
  {
   "cell_type": "code",
   "execution_count": 24,
   "metadata": {},
   "outputs": [],
   "source": [
    "#자연어에서는 문장을 만들 때 특정 명사를 반복적으로 사용하지 않고 대명사를 사용해 문장구성을 최소화한다.\n",
    "\n",
    "class AnaphoraExample:\n",
    "    def __init__(self):\n",
    "        males = [(name, 'male') for name in names.words('male.txt')]#여성과 남성이름의 말뭉치를 로드\n",
    "        females = [(name, 'female') for name in names.words('female.txt')]\n",
    "        combined = males + females\n",
    "        random.shuffle(combined)\n",
    "        training = [(self.feature(name), gender) for (name, gender) in combined]#gender에서 feautre()를호출 후 training\n",
    "        #변수에 모든 이름을 저장한다.\n",
    "        self._classifier = nltk.NaiveBayesClassifier.train(training)\n",
    "        #training변수에  저장돼있는 남성,여성 특징을 사용해 _classifier라는 객체생성 \n",
    "    def feature(self, word):#이름의 마지막 문자만본다.\n",
    "        return {'last(1)' : word[-1]}\n",
    "\n",
    "    def gender(self, word):#분류기를 사용해 성별 감지\n",
    "        return self._classifier.classify(self.feature(word))\n",
    "\n",
    "    def learnAnaphora(self):#대용어 탐지\n",
    "        sentences = [\n",
    "            \"John is a man. He walks\",\n",
    "            \"John and Mary are married. They have two kids\",\n",
    "            \"In order for Ravi to be successful, he should follow John\",\n",
    "            \"John met Mary in Barista. She asked him to order a Pizza\"\n",
    "        ]\n",
    "#IOB형식 -> 3개의 요소를 갖는 튜플 \n",
    "        for sent in sentences:\n",
    "            chunks = nltk.ne_chunk(nltk.pos_tag(nltk.word_tokenize(sent)), binary=False)#청크(개체명) 추출\n",
    "            stack = []\n",
    "            print(sent)\n",
    "            items = tree2conlltags(chunks)#청크트리 반환\n",
    "            for item in items:#IOB형식의 모든 청크 문장을 탐색\n",
    "                if item[1] == 'NNP' and (item[2] == 'B-PERSON' or item[2] == 'O'):#품사가 NNP이고 IOB문자가 B-PEROSON, O라면\n",
    "                    stack.append((item[0], self.gender(item[0])))#\n",
    "                elif item[1] == 'CC':\n",
    "                    stack.append(item[0])\n",
    "                elif item[1] == 'PRP':\n",
    "                    stack.append(item[0])\n",
    "            print(\"\\t {}\".format(stack))"
   ]
  },
  {
   "cell_type": "code",
   "execution_count": 25,
   "metadata": {},
   "outputs": [
    {
     "name": "stdout",
     "output_type": "stream",
     "text": [
      "John is a man. He walks\n",
      "\t [('John', 'male'), 'He']\n",
      "John and Mary are married. They have two kids\n",
      "\t [('John', 'male'), 'and', ('Mary', 'female'), 'They']\n",
      "In order for Ravi to be successful, he should follow John\n",
      "\t [('Ravi', 'female'), 'he', ('John', 'male')]\n",
      "John met Mary in Barista. She asked him to order a Pizza\n",
      "\t [('John', 'male'), ('Mary', 'female'), 'She', 'him']\n"
     ]
    }
   ],
   "source": [
    "anaphora = AnaphoraExample()\n",
    "anaphora.learnAnaphora()"
   ]
  },
  {
   "cell_type": "code",
   "execution_count": null,
   "metadata": {},
   "outputs": [],
   "source": []
  }
 ],
 "metadata": {
  "kernelspec": {
   "display_name": "Python 3",
   "language": "python",
   "name": "python3"
  },
  "language_info": {
   "codemirror_mode": {
    "name": "ipython",
    "version": 3
   },
   "file_extension": ".py",
   "mimetype": "text/x-python",
   "name": "python",
   "nbconvert_exporter": "python",
   "pygments_lexer": "ipython3",
   "version": "3.8.5"
  }
 },
 "nbformat": 4,
 "nbformat_minor": 4
}
