{
 "cells": [
  {
   "cell_type": "code",
   "execution_count": 5,
   "metadata": {},
   "outputs": [
    {
     "name": "stdout",
     "output_type": "stream",
     "text": [
      "Requirement already satisfied: gensim in /opt/anaconda3/lib/python3.8/site-packages (4.1.2)\n",
      "Requirement already satisfied: numpy>=1.17.0 in /opt/anaconda3/lib/python3.8/site-packages (from gensim) (1.19.2)\n",
      "Requirement already satisfied: smart-open>=1.8.1 in /opt/anaconda3/lib/python3.8/site-packages (from gensim) (5.2.1)\n",
      "Requirement already satisfied: scipy>=0.18.1 in /opt/anaconda3/lib/python3.8/site-packages (from gensim) (1.5.2)\n",
      "Note: you may need to restart the kernel to use updated packages.\n"
     ]
    }
   ],
   "source": [
    "pip install gensim"
   ]
  },
  {
   "cell_type": "code",
   "execution_count": 6,
   "metadata": {},
   "outputs": [],
   "source": [
    "from nltk.tokenize import RegexpTokenizer\n",
    "from nltk.corpus import stopwords\n",
    "from gensim import corpora, models\n",
    "import nltk\n",
    "import feedparser\n"
   ]
  },
  {
   "cell_type": "code",
   "execution_count": 8,
   "metadata": {},
   "outputs": [],
   "source": [
    "#주제식별\n",
    "\n",
    "class IdentifyingTopicExample:\n",
    "    def getDocuments(self):\n",
    "        url = 'https://sports.yahoo.com/mlb/rss.xml'\n",
    "        feed = feedparser.parse(url)\n",
    "        self.documents = []\n",
    "        for entry in feed['entries'][:5]:\n",
    "            text = entry['summary']#요약 \n",
    "            if 'ex' in text:\n",
    "                continue\n",
    "            self.documents.append(text)\n",
    "            print(\"-- {}\".format(text))\n",
    "        print(\"INFO: Fetching documents from {} completed\".format(url))\n",
    "\n",
    "    def cleanDocuments(self):\n",
    "        tokenizer = RegexpTokenizer(r'[a-zA-Z]+')#각 토큰은 a에서 z, A-Z사이의 문자로 구성\n",
    "        en_stop = set(stopwords.words('english'))# 영어 불용어 제거\n",
    "        self.cleaned = []#토큰화, 불용어 된 문서를 저장하는 리스트\n",
    "        for doc in self.documents:\n",
    "            lowercase_doc = doc.lower()#문서를 소문자로 변환\n",
    "            words = tokenizer.tokenize(lowercase_doc)\n",
    "            non_stopped_words = [i for i in words if not i in en_stop]#문장의 모든 단어가 영어 불용어 카테고리에 속해 있으면 무시하고,\n",
    "            #나머지는 모두 non_stopped_words 에 저장\n",
    "            self.cleaned.append(non_stopped_words)\n",
    "        print(\"INFO: Clearning {} documents completed\".format(len(self.documents)))\n",
    "\n",
    "    def doLDA(self):#LDA : 각 문서에 담긴 단어들의 주제를 추출하는 토픽 모델링 기법\n",
    "        dictionary = corpora.Dictionary(self.cleaned)\n",
    "        corpus = [dictionary.doc2bow(cleandoc) for cleandoc in self.cleaned]#입력된 말뭉치는 정리된 각 문장에 대한 단어들의 모음으로 정의\n",
    "        ldamodel = models.ldamodel.LdaModel(corpus, num_topics=2, id2word = dictionary)#주제 수를 2로 정한 말뭉치 모델 생성,어휘크기 설정\n",
    "        print(ldamodel.print_topics(num_topics=2, num_words=4))#각 주제 마다 네 개의 단어를 포함하는 두 개의 주제를 화면에 출력 \n",
    "\n",
    "    def run(self):\n",
    "        self.getDocuments()\n",
    "        self.cleanDocuments()\n",
    "        self.doLDA()"
   ]
  },
  {
   "cell_type": "code",
   "execution_count": 9,
   "metadata": {},
   "outputs": [
    {
     "name": "stdout",
     "output_type": "stream",
     "text": [
      "-- Here is the latest on the New York Mets' front office search...\n",
      "-- Second base just might be the White Sox' biggest need this winter. Here are some free agents who could be the solution.\n",
      "INFO: Fetching documents from https://sports.yahoo.com/mlb/rss.xml completed\n",
      "INFO: Clearning 2 documents completed\n",
      "[(0, '0.071*\"biggest\" + 0.069*\"white\" + 0.067*\"need\" + 0.067*\"could\"'), (1, '0.072*\"latest\" + 0.072*\"search\" + 0.072*\"front\" + 0.072*\"york\"')]\n"
     ]
    }
   ],
   "source": [
    "if __name__ == '__main__':\n",
    "    topicExample = IdentifyingTopicExample()\n",
    "    topicExample.run()"
   ]
  },
  {
   "cell_type": "code",
   "execution_count": null,
   "metadata": {},
   "outputs": [],
   "source": []
  }
 ],
 "metadata": {
  "kernelspec": {
   "display_name": "Python 3",
   "language": "python",
   "name": "python3"
  },
  "language_info": {
   "codemirror_mode": {
    "name": "ipython",
    "version": 3
   },
   "file_extension": ".py",
   "mimetype": "text/x-python",
   "name": "python",
   "nbconvert_exporter": "python",
   "pygments_lexer": "ipython3",
   "version": "3.8.5"
  }
 },
 "nbformat": 4,
 "nbformat_minor": 4
}
