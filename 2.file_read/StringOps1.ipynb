{
 "cells": [
  {
   "cell_type": "code",
   "execution_count": 1,
   "metadata": {},
   "outputs": [],
   "source": [
    "###20196622 안선영 \n",
    "nameList = ['유나', '지은', '스튜어트','케빈']\n",
    "sentence = '우리 강아지는 쇼파 위에서 잔다'"
   ]
  },
  {
   "cell_type": "code",
   "execution_count": 2,
   "metadata": {},
   "outputs": [
    {
     "name": "stdout",
     "output_type": "stream",
     "text": [
      "<class 'str'> : 유나:지은:스튜어트:케빈\n"
     ]
    }
   ],
   "source": [
    "names = ':'.join(nameList)\n",
    "print(type(names), ':', names)"
   ]
  },
  {
   "cell_type": "code",
   "execution_count": 3,
   "metadata": {},
   "outputs": [
    {
     "name": "stdout",
     "output_type": "stream",
     "text": [
      "<class 'list'> : ['우리', '강아지는', '쇼파', '위에서', '잔다']\n"
     ]
    }
   ],
   "source": [
    "wordList = sentence.split(' ')\n",
    "print((type(wordList)), ':', wordList)"
   ]
  },
  {
   "cell_type": "code",
   "execution_count": 6,
   "metadata": {},
   "outputs": [
    {
     "name": "stdout",
     "output_type": "stream",
     "text": [
      "텍스트 덧셈 :  파이썬 파이썬 파이썬 \n",
      "텍스트 곱셈 :  파이썬 파이썬 \n"
     ]
    }
   ],
   "source": [
    "additionExample = '파이썬 ' + '파이썬 ' + '파이썬 '\n",
    "multiplicationExample = '파이썬 ' * 2\n",
    "print('텍스트 덧셈 : ', additionExample)\n",
    "print('텍스트 곱셈 : ', multiplicationExample)"
   ]
  },
  {
   "cell_type": "code",
   "execution_count": 7,
   "metadata": {},
   "outputs": [
    {
     "name": "stdout",
     "output_type": "stream",
     "text": [
      "y\n",
      "L\n"
     ]
    }
   ],
   "source": [
    "str = 'Python NLTK'\n",
    "print(str[1])\n",
    "print(str[-3])"
   ]
  },
  {
   "cell_type": "code",
   "execution_count": null,
   "metadata": {},
   "outputs": [],
   "source": []
  }
 ],
 "metadata": {
  "kernelspec": {
   "display_name": "Python 3",
   "language": "python",
   "name": "python3"
  },
  "language_info": {
   "codemirror_mode": {
    "name": "ipython",
    "version": 3
   },
   "file_extension": ".py",
   "mimetype": "text/x-python",
   "name": "python",
   "nbconvert_exporter": "python",
   "pygments_lexer": "ipython3",
   "version": "3.8.5"
  }
 },
 "nbformat": 4,
 "nbformat_minor": 4
}
