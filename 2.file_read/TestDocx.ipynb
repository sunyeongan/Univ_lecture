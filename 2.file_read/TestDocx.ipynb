{
 "cells": [
  {
   "cell_type": "code",
   "execution_count": 12,
   "metadata": {},
   "outputs": [],
   "source": [
    "import docx\n",
    "\n",
    "## word.ipynb 파일 임포트가 안돼서 word.py로 변경후 임포트 하였습니다"
   ]
  },
  {
   "cell_type": "code",
   "execution_count": 13,
   "metadata": {},
   "outputs": [],
   "source": [
    "import word"
   ]
  },
  {
   "cell_type": "code",
   "execution_count": 14,
   "metadata": {},
   "outputs": [
    {
     "name": "stdout",
     "output_type": "stream",
     "text": [
      "Document in full :\n",
      " 몇몇 볼드체, 이탤릭체, 밑줄 친 텍스트가 있는 샘플 PDF 문서입니다. 다음과 같은 제목도 포함돼 있습니다.\n",
      "제목입니다.\n",
      "세 번째 단락입니다.\n"
     ]
    }
   ],
   "source": [
    "docName = \"./samples/sample_word.docx\"\n",
    "print('Document in full :\\n',getTextWord(docName))"
   ]
  },
  {
   "cell_type": "code",
   "execution_count": 15,
   "metadata": {},
   "outputs": [
    {
     "name": "stdout",
     "output_type": "stream",
     "text": [
      "단락 수 :  3\n",
      "2번 단락 :  제목입니다.\n",
      "2번 단락 스타일 :  _ParagraphStyle('Normal') id: 140330140600400\n"
     ]
    }
   ],
   "source": [
    "doc = docx.Document(docName)\n",
    "print('단락 수 : ', len(doc.paragraphs))\n",
    "print('2번 단락 : ', doc.paragraphs[1].text)\n",
    "print('2번 단락 스타일 : ', doc.paragraphs[1].style)"
   ]
  },
  {
   "cell_type": "code",
   "execution_count": 16,
   "metadata": {},
   "outputs": [
    {
     "name": "stdout",
     "output_type": "stream",
     "text": [
      "Paragraph 1:  몇몇 볼드체, 이탤릭체, 밑줄 친 텍스트가 있는 샘플 PDF 문서입니다. 다음과 같은 제목도 포함돼 있습니다.\n",
      "Number of runs in paragraph 1:  13\n",
      "Run 0 : 몇몇 \n",
      "Run 1 : 볼드체\n",
      "Run 2 : ,\n",
      "Run 3 :  \n",
      "Run 4 : 이탤릭체\n",
      "Run 5 : ,\n",
      "Run 6 :  \n",
      "Run 7 : 밑줄 친 텍스트가 있는 샘플\n",
      "Run 8 :  \n",
      "Run 9 : PDF \n",
      "Run 10 : 문서입니다.\n",
      "Run 11 :  \n",
      "Run 12 : 다음과 같은 제목도 포함돼 있습니다.\n"
     ]
    }
   ],
   "source": [
    "print('Paragraph 1: ', doc.paragraphs[0].text)\n",
    "print('Number of runs in paragraph 1: ', len(doc.paragraphs[0].runs))\n",
    "for idx, run in enumerate(doc.paragraphs[0].runs):\n",
    "    print('Run %s : %s' %(idx, run.text))"
   ]
  },
  {
   "cell_type": "code",
   "execution_count": 11,
   "metadata": {},
   "outputs": [
    {
     "name": "stdout",
     "output_type": "stream",
     "text": [
      "is Run 0 underlined: True\n",
      "is Run 2 bold: None\n",
      "is Run 7 italic: True\n"
     ]
    }
   ],
   "source": [
    "print('is Run 0 underlined:', doc.paragraphs[0].runs[7].underline)\n",
    "print('is Run 2 bold:', doc.paragraphs[0].runs[1].bold)\n",
    "print('is Run 7 italic:', doc.paragraphs[0].runs[4].italic)\n",
    "\n"
   ]
  },
  {
   "cell_type": "code",
   "execution_count": null,
   "metadata": {},
   "outputs": [],
   "source": []
  }
 ],
 "metadata": {
  "kernelspec": {
   "display_name": "Python 3",
   "language": "python",
   "name": "python3"
  },
  "language_info": {
   "codemirror_mode": {
    "name": "ipython",
    "version": 3
   },
   "file_extension": ".py",
   "mimetype": "text/x-python",
   "name": "python",
   "nbconvert_exporter": "python",
   "pygments_lexer": "ipython3",
   "version": "3.8.5"
  }
 },
 "nbformat": 4,
 "nbformat_minor": 4
}
