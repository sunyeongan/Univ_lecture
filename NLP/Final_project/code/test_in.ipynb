{
 "cells": [
  {
   "cell_type": "code",
   "execution_count": 1,
   "metadata": {},
   "outputs": [
    {
     "data": {
      "text/plain": [
       "'/Users/anseon-yeong/수업/2021-2/텍스트정보처리/프로젝트'"
      ]
     },
     "execution_count": 1,
     "metadata": {},
     "output_type": "execute_result"
    }
   ],
   "source": [
    "%pwd"
   ]
  },
  {
   "cell_type": "code",
   "execution_count": 2,
   "metadata": {},
   "outputs": [],
   "source": [
    "import pandas as pd\n",
    "import numpy as np\n",
    "import matplotlib.pyplot as plt\n",
    "from konlpy.tag import Mecab\n",
    "from tensorflow.keras.preprocessing.text import Tokenizer\n",
    "from tensorflow.keras.preprocessing.sequence import pad_sequences"
   ]
  },
  {
   "cell_type": "code",
   "execution_count": 3,
   "metadata": {},
   "outputs": [],
   "source": [
    "total_data = pd.read_excel(io='./test_data.xlsx')\n",
    "#pd.read_excel('./')"
   ]
  },
  {
   "cell_type": "code",
   "execution_count": 4,
   "metadata": {},
   "outputs": [
    {
     "name": "stdout",
     "output_type": "stream",
     "text": [
      "전체 리뷰 개수 :  1002\n"
     ]
    }
   ],
   "source": [
    "print('전체 리뷰 개수 : ', len(total_data))"
   ]
  },
  {
   "cell_type": "code",
   "execution_count": 5,
   "metadata": {},
   "outputs": [
    {
     "data": {
      "text/html": [
       "<div>\n",
       "<style scoped>\n",
       "    .dataframe tbody tr th:only-of-type {\n",
       "        vertical-align: middle;\n",
       "    }\n",
       "\n",
       "    .dataframe tbody tr th {\n",
       "        vertical-align: top;\n",
       "    }\n",
       "\n",
       "    .dataframe thead th {\n",
       "        text-align: right;\n",
       "    }\n",
       "</style>\n",
       "<table border=\"1\" class=\"dataframe\">\n",
       "  <thead>\n",
       "    <tr style=\"text-align: right;\">\n",
       "      <th></th>\n",
       "      <th>Unnamed: 0</th>\n",
       "      <th>text</th>\n",
       "    </tr>\n",
       "  </thead>\n",
       "  <tbody>\n",
       "    <tr>\n",
       "      <th>0</th>\n",
       "      <td>0</td>\n",
       "      <td>오늘 도착해서 바로 먹어봤네요~괴산이 고향이라 고향의 과일을 먹으니 더 맛있네요 많...</td>\n",
       "    </tr>\n",
       "    <tr>\n",
       "      <th>1</th>\n",
       "      <td>1</td>\n",
       "      <td>앱 깔고 지웠다만 세번째네요. 처음에는 앱 구동 시 튕기면서 계속 꺼졌고, 앱을 새...</td>\n",
       "    </tr>\n",
       "    <tr>\n",
       "      <th>2</th>\n",
       "      <td>2</td>\n",
       "      <td>이거 완전 재밌게봤는데..평점 왜이리 낮음??ㅠ</td>\n",
       "    </tr>\n",
       "    <tr>\n",
       "      <th>3</th>\n",
       "      <td>3</td>\n",
       "      <td>영국 거리를 활보 하고 다니면서 마차로 동네 파괴하고 다니는게임 노가다 수집요소만 ...</td>\n",
       "    </tr>\n",
       "    <tr>\n",
       "      <th>4</th>\n",
       "      <td>4</td>\n",
       "      <td>괴산대학찰옥수수는 정말 맛있어요 씹으면톡톡 터지는 그맛은 찰지고  맛있어서 자꾸자꾸...</td>\n",
       "    </tr>\n",
       "    <tr>\n",
       "      <th>...</th>\n",
       "      <td>...</td>\n",
       "      <td>...</td>\n",
       "    </tr>\n",
       "    <tr>\n",
       "      <th>997</th>\n",
       "      <td>997</td>\n",
       "      <td>멀 말하고자하는지 아직도 이해가....공포도 아니여서 실망;ㅁ;</td>\n",
       "    </tr>\n",
       "    <tr>\n",
       "      <th>998</th>\n",
       "      <td>998</td>\n",
       "      <td>캐시관련 이벤트 관련 미지급이 매우 많고 문의를 해도 동문서답이 많음 뽑기권은 제대...</td>\n",
       "    </tr>\n",
       "    <tr>\n",
       "      <th>999</th>\n",
       "      <td>999</td>\n",
       "      <td>잘 보고있긴한데 점점 갈수록 짜지는거같아요;; 처음에는 걍 만화 3편보면 100캐시...</td>\n",
       "    </tr>\n",
       "    <tr>\n",
       "      <th>1000</th>\n",
       "      <td>1000</td>\n",
       "      <td>여자 친구와 제주도로 첫 여행을 가게되어 숙소를 어디로 예약할 지 고민하다가 이왕하...</td>\n",
       "    </tr>\n",
       "    <tr>\n",
       "      <th>1001</th>\n",
       "      <td>1001</td>\n",
       "      <td>추억의 게임 ㅎㅎ 데모로만 플레이해봤는데 다시 해보니 너무 재밌어요 스타처럼 3종족...</td>\n",
       "    </tr>\n",
       "  </tbody>\n",
       "</table>\n",
       "<p>1002 rows × 2 columns</p>\n",
       "</div>"
      ],
      "text/plain": [
       "      Unnamed: 0                                               text\n",
       "0              0  오늘 도착해서 바로 먹어봤네요~괴산이 고향이라 고향의 과일을 먹으니 더 맛있네요 많...\n",
       "1              1  앱 깔고 지웠다만 세번째네요. 처음에는 앱 구동 시 튕기면서 계속 꺼졌고, 앱을 새...\n",
       "2              2                         이거 완전 재밌게봤는데..평점 왜이리 낮음??ㅠ\n",
       "3              3  영국 거리를 활보 하고 다니면서 마차로 동네 파괴하고 다니는게임 노가다 수집요소만 ...\n",
       "4              4  괴산대학찰옥수수는 정말 맛있어요 씹으면톡톡 터지는 그맛은 찰지고  맛있어서 자꾸자꾸...\n",
       "...          ...                                                ...\n",
       "997          997                멀 말하고자하는지 아직도 이해가....공포도 아니여서 실망;ㅁ;\n",
       "998          998  캐시관련 이벤트 관련 미지급이 매우 많고 문의를 해도 동문서답이 많음 뽑기권은 제대...\n",
       "999          999  잘 보고있긴한데 점점 갈수록 짜지는거같아요;; 처음에는 걍 만화 3편보면 100캐시...\n",
       "1000        1000  여자 친구와 제주도로 첫 여행을 가게되어 숙소를 어디로 예약할 지 고민하다가 이왕하...\n",
       "1001        1001  추억의 게임 ㅎㅎ 데모로만 플레이해봤는데 다시 해보니 너무 재밌어요 스타처럼 3종족...\n",
       "\n",
       "[1002 rows x 2 columns]"
      ]
     },
     "execution_count": 5,
     "metadata": {},
     "output_type": "execute_result"
    }
   ],
   "source": [
    "total_data"
   ]
  },
  {
   "cell_type": "code",
   "execution_count": 6,
   "metadata": {},
   "outputs": [
    {
     "data": {
      "text/html": [
       "<div>\n",
       "<style scoped>\n",
       "    .dataframe tbody tr th:only-of-type {\n",
       "        vertical-align: middle;\n",
       "    }\n",
       "\n",
       "    .dataframe tbody tr th {\n",
       "        vertical-align: top;\n",
       "    }\n",
       "\n",
       "    .dataframe thead th {\n",
       "        text-align: right;\n",
       "    }\n",
       "</style>\n",
       "<table border=\"1\" class=\"dataframe\">\n",
       "  <thead>\n",
       "    <tr style=\"text-align: right;\">\n",
       "      <th></th>\n",
       "      <th>text</th>\n",
       "    </tr>\n",
       "  </thead>\n",
       "  <tbody>\n",
       "    <tr>\n",
       "      <th>0</th>\n",
       "      <td>오늘 도착해서 바로 먹어봤네요~괴산이 고향이라 고향의 과일을 먹으니 더 맛있네요 많...</td>\n",
       "    </tr>\n",
       "    <tr>\n",
       "      <th>1</th>\n",
       "      <td>앱 깔고 지웠다만 세번째네요. 처음에는 앱 구동 시 튕기면서 계속 꺼졌고, 앱을 새...</td>\n",
       "    </tr>\n",
       "    <tr>\n",
       "      <th>2</th>\n",
       "      <td>이거 완전 재밌게봤는데..평점 왜이리 낮음??ㅠ</td>\n",
       "    </tr>\n",
       "    <tr>\n",
       "      <th>3</th>\n",
       "      <td>영국 거리를 활보 하고 다니면서 마차로 동네 파괴하고 다니는게임 노가다 수집요소만 ...</td>\n",
       "    </tr>\n",
       "    <tr>\n",
       "      <th>4</th>\n",
       "      <td>괴산대학찰옥수수는 정말 맛있어요 씹으면톡톡 터지는 그맛은 찰지고  맛있어서 자꾸자꾸...</td>\n",
       "    </tr>\n",
       "    <tr>\n",
       "      <th>...</th>\n",
       "      <td>...</td>\n",
       "    </tr>\n",
       "    <tr>\n",
       "      <th>997</th>\n",
       "      <td>멀 말하고자하는지 아직도 이해가....공포도 아니여서 실망;ㅁ;</td>\n",
       "    </tr>\n",
       "    <tr>\n",
       "      <th>998</th>\n",
       "      <td>캐시관련 이벤트 관련 미지급이 매우 많고 문의를 해도 동문서답이 많음 뽑기권은 제대...</td>\n",
       "    </tr>\n",
       "    <tr>\n",
       "      <th>999</th>\n",
       "      <td>잘 보고있긴한데 점점 갈수록 짜지는거같아요;; 처음에는 걍 만화 3편보면 100캐시...</td>\n",
       "    </tr>\n",
       "    <tr>\n",
       "      <th>1000</th>\n",
       "      <td>여자 친구와 제주도로 첫 여행을 가게되어 숙소를 어디로 예약할 지 고민하다가 이왕하...</td>\n",
       "    </tr>\n",
       "    <tr>\n",
       "      <th>1001</th>\n",
       "      <td>추억의 게임 ㅎㅎ 데모로만 플레이해봤는데 다시 해보니 너무 재밌어요 스타처럼 3종족...</td>\n",
       "    </tr>\n",
       "  </tbody>\n",
       "</table>\n",
       "<p>1002 rows × 1 columns</p>\n",
       "</div>"
      ],
      "text/plain": [
       "                                                   text\n",
       "0     오늘 도착해서 바로 먹어봤네요~괴산이 고향이라 고향의 과일을 먹으니 더 맛있네요 많...\n",
       "1     앱 깔고 지웠다만 세번째네요. 처음에는 앱 구동 시 튕기면서 계속 꺼졌고, 앱을 새...\n",
       "2                            이거 완전 재밌게봤는데..평점 왜이리 낮음??ㅠ\n",
       "3     영국 거리를 활보 하고 다니면서 마차로 동네 파괴하고 다니는게임 노가다 수집요소만 ...\n",
       "4     괴산대학찰옥수수는 정말 맛있어요 씹으면톡톡 터지는 그맛은 찰지고  맛있어서 자꾸자꾸...\n",
       "...                                                 ...\n",
       "997                 멀 말하고자하는지 아직도 이해가....공포도 아니여서 실망;ㅁ;\n",
       "998   캐시관련 이벤트 관련 미지급이 매우 많고 문의를 해도 동문서답이 많음 뽑기권은 제대...\n",
       "999   잘 보고있긴한데 점점 갈수록 짜지는거같아요;; 처음에는 걍 만화 3편보면 100캐시...\n",
       "1000  여자 친구와 제주도로 첫 여행을 가게되어 숙소를 어디로 예약할 지 고민하다가 이왕하...\n",
       "1001  추억의 게임 ㅎㅎ 데모로만 플레이해봤는데 다시 해보니 너무 재밌어요 스타처럼 3종족...\n",
       "\n",
       "[1002 rows x 1 columns]"
      ]
     },
     "execution_count": 6,
     "metadata": {},
     "output_type": "execute_result"
    }
   ],
   "source": [
    "total_data = total_data.drop(total_data.columns[0],axis='columns')\n",
    "total_data"
   ]
  },
  {
   "cell_type": "code",
   "execution_count": 8,
   "metadata": {},
   "outputs": [],
   "source": [
    "total_data['text'] = total_data['text'].str.replace(\"[^ㄱ-하-ㅣ가-힣]\",\"\")\n",
    "total_data['text'].replace('',np.nan, inplace=True)"
   ]
  },
  {
   "cell_type": "code",
   "execution_count": 9,
   "metadata": {},
   "outputs": [
    {
     "name": "stdout",
     "output_type": "stream",
     "text": [
      "/Users/anseon-yeong/수업/2021-2/텍스트정보처리/프로젝트/Mecab-ko-for-Google-Colab\n"
     ]
    }
   ],
   "source": [
    "%cd Mecab-ko-for-Google-Colab"
   ]
  },
  {
   "cell_type": "code",
   "execution_count": 28,
   "metadata": {},
   "outputs": [
    {
     "data": {
      "text/plain": [
       "'/Users/anseon-yeong/수업/2021-2/텍스트정보처리/프로젝트'"
      ]
     },
     "execution_count": 28,
     "metadata": {},
     "output_type": "execute_result"
    }
   ],
   "source": [
    "pwd"
   ]
  },
  {
   "cell_type": "code",
   "execution_count": null,
   "metadata": {},
   "outputs": [],
   "source": []
  },
  {
   "cell_type": "code",
   "execution_count": 10,
   "metadata": {},
   "outputs": [],
   "source": [
    "\n",
    "#형태소 분석기로 토큰화\n",
    "mecab = Mecab()\n",
    "\n",
    "#불용어 정의\n",
    "stopwords = ['은','는','이','가','도','다','의','한','에','하','고','을','를','인','듯','과','와','네','들','게','임','.','!','영화','..']"
   ]
  },
  {
   "cell_type": "code",
   "execution_count": 11,
   "metadata": {},
   "outputs": [],
   "source": [
    "total_data = total_data.dropna(axis=0)"
   ]
  },
  {
   "cell_type": "code",
   "execution_count": 12,
   "metadata": {},
   "outputs": [
    {
     "name": "stderr",
     "output_type": "stream",
     "text": [
      "<ipython-input-12-9d689f122e7f>:1: SettingWithCopyWarning: \n",
      "A value is trying to be set on a copy of a slice from a DataFrame.\n",
      "Try using .loc[row_indexer,col_indexer] = value instead\n",
      "\n",
      "See the caveats in the documentation: https://pandas.pydata.org/pandas-docs/stable/user_guide/indexing.html#returning-a-view-versus-a-copy\n",
      "  total_data['tokenized'] = total_data['text'].apply(mecab.morphs)\n",
      "<ipython-input-12-9d689f122e7f>:2: SettingWithCopyWarning: \n",
      "A value is trying to be set on a copy of a slice from a DataFrame.\n",
      "Try using .loc[row_indexer,col_indexer] = value instead\n",
      "\n",
      "See the caveats in the documentation: https://pandas.pydata.org/pandas-docs/stable/user_guide/indexing.html#returning-a-view-versus-a-copy\n",
      "  total_data['tokenized'] = total_data['tokenized'].apply(lambda x: [item for item in x if item not in stopwords])\n"
     ]
    }
   ],
   "source": [
    "total_data['tokenized'] = total_data['text'].apply(mecab.morphs)\n",
    "total_data['tokenized'] = total_data['tokenized'].apply(lambda x: [item for item in x if item not in stopwords])"
   ]
  },
  {
   "cell_type": "code",
   "execution_count": 14,
   "metadata": {},
   "outputs": [],
   "source": [
    "X_val = total_data['tokenized'].values\n",
    "#y_val = total_data['label'].values"
   ]
  },
  {
   "cell_type": "code",
   "execution_count": 42,
   "metadata": {},
   "outputs": [
    {
     "data": {
      "text/html": [
       "<div>\n",
       "<style scoped>\n",
       "    .dataframe tbody tr th:only-of-type {\n",
       "        vertical-align: middle;\n",
       "    }\n",
       "\n",
       "    .dataframe tbody tr th {\n",
       "        vertical-align: top;\n",
       "    }\n",
       "\n",
       "    .dataframe thead th {\n",
       "        text-align: right;\n",
       "    }\n",
       "</style>\n",
       "<table border=\"1\" class=\"dataframe\">\n",
       "  <thead>\n",
       "    <tr style=\"text-align: right;\">\n",
       "      <th></th>\n",
       "      <th>0</th>\n",
       "    </tr>\n",
       "  </thead>\n",
       "  <tbody>\n",
       "    <tr>\n",
       "      <th>0</th>\n",
       "      <td>0</td>\n",
       "    </tr>\n",
       "    <tr>\n",
       "      <th>1</th>\n",
       "      <td>0</td>\n",
       "    </tr>\n",
       "    <tr>\n",
       "      <th>2</th>\n",
       "      <td>0</td>\n",
       "    </tr>\n",
       "    <tr>\n",
       "      <th>3</th>\n",
       "      <td>0</td>\n",
       "    </tr>\n",
       "    <tr>\n",
       "      <th>4</th>\n",
       "      <td>0</td>\n",
       "    </tr>\n",
       "    <tr>\n",
       "      <th>...</th>\n",
       "      <td>...</td>\n",
       "    </tr>\n",
       "    <tr>\n",
       "      <th>996</th>\n",
       "      <td>0</td>\n",
       "    </tr>\n",
       "    <tr>\n",
       "      <th>997</th>\n",
       "      <td>0</td>\n",
       "    </tr>\n",
       "    <tr>\n",
       "      <th>998</th>\n",
       "      <td>0</td>\n",
       "    </tr>\n",
       "    <tr>\n",
       "      <th>999</th>\n",
       "      <td>0</td>\n",
       "    </tr>\n",
       "    <tr>\n",
       "      <th>1000</th>\n",
       "      <td>0</td>\n",
       "    </tr>\n",
       "  </tbody>\n",
       "</table>\n",
       "<p>1001 rows × 1 columns</p>\n",
       "</div>"
      ],
      "text/plain": [
       "      0\n",
       "0     0\n",
       "1     0\n",
       "2     0\n",
       "3     0\n",
       "4     0\n",
       "...  ..\n",
       "996   0\n",
       "997   0\n",
       "998   0\n",
       "999   0\n",
       "1000  0\n",
       "\n",
       "[1001 rows x 1 columns]"
      ]
     },
     "execution_count": 42,
     "metadata": {},
     "output_type": "execute_result"
    }
   ],
   "source": [
    "a = pd.read_csv('./prediction_data.csv')\n",
    "y2 = a.drop(a.columns[0],axis='columns')\n",
    "y2"
   ]
  },
  {
   "cell_type": "code",
   "execution_count": 15,
   "metadata": {},
   "outputs": [],
   "source": [
    "#단어 집합 생성\n",
    "tokenizer = Tokenizer()\n",
    "tokenizer.fit_on_texts(X_val)"
   ]
  },
  {
   "cell_type": "code",
   "execution_count": 16,
   "metadata": {},
   "outputs": [
    {
     "name": "stdout",
     "output_type": "stream",
     "text": [
      "단어 집합(vocabulary)의 크기 :  6036\n"
     ]
    }
   ],
   "source": [
    "#등장 횟수가 1회인 단어들은 제거\n",
    "threshold = 2\n",
    "\n",
    "total_cnt = len(tokenizer.word_index)#총 단어수\n",
    "rare_cnt = 0 # 등장 횟수가 1회인 단어 카운트\n",
    "\n",
    "for key, value in tokenizer.word_counts.items():\n",
    "    \n",
    "    if(value < threshold):\n",
    "        rare_cnt = rare_cnt + 1\n",
    "        \n",
    "print('단어 집합(vocabulary)의 크기 : ',total_cnt)\n"
   ]
  },
  {
   "cell_type": "code",
   "execution_count": 17,
   "metadata": {},
   "outputs": [
    {
     "name": "stdout",
     "output_type": "stream",
     "text": [
      "단어 집합의 크기 : 2838\n"
     ]
    }
   ],
   "source": [
    "vocab_size = total_cnt - rare_cnt + 2\n",
    "print('단어 집합의 크기 :',vocab_size)"
   ]
  },
  {
   "cell_type": "code",
   "execution_count": 18,
   "metadata": {},
   "outputs": [],
   "source": [
    "tokenzier = Tokenizer(vocab_size, oov_token = 'OOV')\n",
    "tokenzier.fit_on_texts(X_val)\n",
    "X_val = tokenizer.texts_to_sequences(X_val)"
   ]
  },
  {
   "cell_type": "code",
   "execution_count": 19,
   "metadata": {},
   "outputs": [
    {
     "name": "stdout",
     "output_type": "stream",
     "text": [
      "[239, 361, 35, 189, 34, 14, 106, 10, 190, 1954, 62, 1954, 1955, 34, 327, 70, 43, 10, 81, 681, 75]\n"
     ]
    }
   ],
   "source": [
    "print(X_val[0])"
   ]
  },
  {
   "cell_type": "code",
   "execution_count": 20,
   "metadata": {},
   "outputs": [
    {
     "name": "stdout",
     "output_type": "stream",
     "text": [
      "리뷰의 최대 길이 :  632\n",
      "리뷰의 평균 길이 : 39.93606393606394\n"
     ]
    },
    {
     "data": {
      "image/png": "[encoded data removed]",
      "text/plain": [
       "<Figure size 432x288 with 1 Axes>"
      ]
     },
     "metadata": {
      "needs_background": "light"
     },
     "output_type": "display_data"
    }
   ],
   "source": [
    "#패딩을 위해 최대 길이와 길이 분포 확인\n",
    "\n",
    "print('리뷰의 최대 길이 : ', max(len(l) for l in X_val))\n",
    "print('리뷰의 평균 길이 :' , sum(map(len, X_val))/len(X_val))\n",
    "\n",
    "plt.hist([len(s) for s in X_val], bins = 50)\n",
    "plt.xlabel('length of samples')\n",
    "plt.ylabel('number of samples')\n",
    "plt.show()"
   ]
  },
  {
   "cell_type": "code",
   "execution_count": 46,
   "metadata": {},
   "outputs": [
    {
     "name": "stdout",
     "output_type": "stream",
     "text": [
      "(1001, 80)\n",
      "[   0    0    0    0    0    0    0    0    0    0    0    0    0    0\n",
      "    0    0    0    0    0    0    0    0    0    0    0    0    0    0\n",
      "    0    0    0    0    0    0    0    0    0    0    0    0    0    0\n",
      "    0    0    0    0    0    0    0    0    0    0    0    0    0    0\n",
      "    0    0    0  239  361   35  189   34   14  106   10  190 1954   62\n",
      " 1954 1955   34  327   70   43   10   81  681   75]\n"
     ]
    }
   ],
   "source": [
    "#최대 길이 80으로 패딩\n",
    "\n",
    "max_len = 80\n",
    "X_val = pad_sequences(X_val, maxlen = max_len)\n",
    "\n",
    "print(X_val.shape)\n",
    "print(X_val[0])"
   ]
  },
  {
   "cell_type": "code",
   "execution_count": 22,
   "metadata": {},
   "outputs": [
    {
     "name": "stdout",
     "output_type": "stream",
     "text": [
      "/Users/anseon-yeong/수업/2021-2/텍스트정보처리/프로젝트\n"
     ]
    }
   ],
   "source": [
    "%cd .."
   ]
  },
  {
   "cell_type": "code",
   "execution_count": 47,
   "metadata": {},
   "outputs": [
    {
     "data": {
      "text/plain": [
       "'/Users/anseon-yeong/수업/2021-2/텍스트정보처리/프로젝트'"
      ]
     },
     "execution_count": 47,
     "metadata": {},
     "output_type": "execute_result"
    }
   ],
   "source": [
    "pwd\n"
   ]
  },
  {
   "cell_type": "code",
   "execution_count": 48,
   "metadata": {},
   "outputs": [],
   "source": [
    "from keras.models import load_model\n",
    "loaded_model = load_model('./best_model_916.h5')#저장한 모델 불러오기\n",
    "\n",
    "y_pred = loaded_model.predict(X_val)\n",
    "y_pred = np.round(y_pred)"
   ]
  },
  {
   "cell_type": "code",
   "execution_count": 49,
   "metadata": {},
   "outputs": [
    {
     "data": {
      "text/plain": [
       "array([[0],\n",
       "       [0],\n",
       "       [0],\n",
       "       ...,\n",
       "       [0],\n",
       "       [0],\n",
       "       [0]], dtype=int32)"
      ]
     },
     "execution_count": 49,
     "metadata": {},
     "output_type": "execute_result"
    }
   ],
   "source": [
    "y_pred = y_pred.astype('int32')\n",
    "y_pred"
   ]
  },
  {
   "cell_type": "code",
   "execution_count": 25,
   "metadata": {},
   "outputs": [],
   "source": [
    "import pandas as pd\n",
    "predictions = pd.DataFrame(y_pred).to_csv('./prediction_data.csv')"
   ]
  },
  {
   "cell_type": "code",
   "execution_count": 50,
   "metadata": {},
   "outputs": [
    {
     "name": "stdout",
     "output_type": "stream",
     "text": [
      "32/32 [==============================] - 0s 5ms/step - loss: 0.0945 - accuracy: 0.9930\n",
      "\n",
      " 테스트 정확도 : 0.993007\n"
     ]
    }
   ],
   "source": [
    "print(\"\\n 테스트 정확도 : %4f\"%(loaded_model.evaluate(X_val,y2)[1]))"
   ]
  },
  {
   "cell_type": "code",
   "execution_count": 51,
   "metadata": {},
   "outputs": [
    {
     "name": "stdout",
     "output_type": "stream",
     "text": [
      "Accuracy score :  0.993006993006993\n",
      "              precision    recall  f1-score   support\n",
      "\n",
      "           0       1.00      0.99      1.00       939\n",
      "           1       0.91      0.98      0.95        62\n",
      "\n",
      "    accuracy                           0.99      1001\n",
      "   macro avg       0.95      0.99      0.97      1001\n",
      "weighted avg       0.99      0.99      0.99      1001\n",
      "\n"
     ]
    }
   ],
   "source": [
    "from sklearn.metrics import accuracy_score\n",
    "from sklearn.metrics import classification_report\n",
    "\n",
    "print(\"Accuracy score : \", accuracy_score(y2,y_pred))\n",
    "print(classification_report(y2,y_pred))"
   ]
  },
  {
   "cell_type": "code",
   "execution_count": null,
   "metadata": {},
   "outputs": [],
   "source": []
  }
 ],
 "metadata": {
  "kernelspec": {
   "display_name": "Python 3",
   "language": "python",
   "name": "python3"
  },
  "language_info": {
   "codemirror_mode": {
    "name": "ipython",
    "version": 3
   },
   "file_extension": ".py",
   "mimetype": "text/x-python",
   "name": "python",
   "nbconvert_exporter": "python",
   "pygments_lexer": "ipython3",
   "version": "3.8.5"
  }
 },
 "nbformat": 4,
 "nbformat_minor": 4
}
