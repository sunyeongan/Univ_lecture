{
 "cells": [
  {
   "cell_type": "code",
   "execution_count": 1,
   "metadata": {},
   "outputs": [
    {
     "name": "stdout",
     "output_type": "stream",
     "text": [
      "Requirement already satisfied: konlpy in /opt/anaconda3/lib/python3.8/site-packages (0.5.2)\n",
      "Requirement already satisfied: numpy>=1.6 in /opt/anaconda3/lib/python3.8/site-packages (from konlpy) (1.19.2)\n",
      "Requirement already satisfied: JPype1>=0.7.0 in /opt/anaconda3/lib/python3.8/site-packages (from konlpy) (1.3.0)\n",
      "Requirement already satisfied: colorama in /opt/anaconda3/lib/python3.8/site-packages (from konlpy) (0.4.4)\n",
      "Requirement already satisfied: lxml>=4.1.0 in /opt/anaconda3/lib/python3.8/site-packages (from konlpy) (4.6.1)\n",
      "Requirement already satisfied: beautifulsoup4==4.6.0 in /opt/anaconda3/lib/python3.8/site-packages (from konlpy) (4.6.0)\n",
      "Requirement already satisfied: tweepy>=3.7.0 in /opt/anaconda3/lib/python3.8/site-packages (from konlpy) (3.10.0)\n",
      "Requirement already satisfied: requests[socks]>=2.11.1 in /opt/anaconda3/lib/python3.8/site-packages (from tweepy>=3.7.0->konlpy) (2.24.0)\n",
      "Requirement already satisfied: six>=1.10.0 in /opt/anaconda3/lib/python3.8/site-packages (from tweepy>=3.7.0->konlpy) (1.15.0)\n",
      "Requirement already satisfied: requests-oauthlib>=0.7.0 in /opt/anaconda3/lib/python3.8/site-packages (from tweepy>=3.7.0->konlpy) (1.3.0)\n",
      "Requirement already satisfied: oauthlib>=3.0.0 in /opt/anaconda3/lib/python3.8/site-packages (from requests-oauthlib>=0.7.0->tweepy>=3.7.0->konlpy) (3.1.0)\n",
      "Requirement already satisfied: certifi>=2017.4.17 in /opt/anaconda3/lib/python3.8/site-packages (from requests[socks]>=2.11.1->tweepy>=3.7.0->konlpy) (2020.6.20)\n",
      "Requirement already satisfied: urllib3!=1.25.0,!=1.25.1,<1.26,>=1.21.1 in /opt/anaconda3/lib/python3.8/site-packages (from requests[socks]>=2.11.1->tweepy>=3.7.0->konlpy) (1.25.11)\n",
      "Requirement already satisfied: idna<3,>=2.5 in /opt/anaconda3/lib/python3.8/site-packages (from requests[socks]>=2.11.1->tweepy>=3.7.0->konlpy) (2.10)\n",
      "Requirement already satisfied: chardet<4,>=3.0.2 in /opt/anaconda3/lib/python3.8/site-packages (from requests[socks]>=2.11.1->tweepy>=3.7.0->konlpy) (3.0.4)\n",
      "Requirement already satisfied: PySocks!=1.5.7,>=1.5.6 in /opt/anaconda3/lib/python3.8/site-packages (from requests[socks]>=2.11.1->tweepy>=3.7.0->konlpy) (1.7.1)\n"
     ]
    }
   ],
   "source": [
    "!pip install konlpy"
   ]
  },
  {
   "cell_type": "code",
   "execution_count": 2,
   "metadata": {},
   "outputs": [],
   "source": [
    "#어떤 리뷰인지 모른다 . 다나와, 영화감상리뷰 등등 네이버쇼핑리뷰 데이터만 쓰지말 것 "
   ]
  },
  {
   "cell_type": "code",
   "execution_count": 1,
   "metadata": {},
   "outputs": [
    {
     "name": "stdout",
     "output_type": "stream",
     "text": [
      "/Users/anseon-yeong/수업/2021-2/텍스트정보처리/프로젝트\n"
     ]
    }
   ],
   "source": [
    "%cd /Users/anseon-yeong/수업/2021-2/텍스트정보처리/프로젝트"
   ]
  },
  {
   "cell_type": "code",
   "execution_count": 253,
   "metadata": {},
   "outputs": [],
   "source": [
    "#!git clone https://github.com/SOMJANG/Mecab-ko-for-Google-Colab.git"
   ]
  },
  {
   "cell_type": "code",
   "execution_count": 2,
   "metadata": {},
   "outputs": [
    {
     "data": {
      "text/plain": [
       "'/Users/anseon-yeong/수업/2021-2/텍스트정보처리/프로젝트'"
      ]
     },
     "execution_count": 2,
     "metadata": {},
     "output_type": "execute_result"
    }
   ],
   "source": [
    "pwd"
   ]
  },
  {
   "cell_type": "code",
   "execution_count": 255,
   "metadata": {},
   "outputs": [],
   "source": [
    "#cd .."
   ]
  },
  {
   "cell_type": "code",
   "execution_count": 256,
   "metadata": {},
   "outputs": [
    {
     "data": {
      "text/plain": [
       "'2.7.0'"
      ]
     },
     "execution_count": 256,
     "metadata": {},
     "output_type": "execute_result"
    }
   ],
   "source": [
    "import tensorflow as tf\n",
    "tf.__version__"
   ]
  },
  {
   "cell_type": "code",
   "execution_count": 257,
   "metadata": {},
   "outputs": [
    {
     "name": "stdout",
     "output_type": "stream",
     "text": [
      "2.7.0\n"
     ]
    }
   ],
   "source": [
    "import keras\n",
    "\n",
    "print(keras.__version__)"
   ]
  },
  {
   "cell_type": "code",
   "execution_count": 3,
   "metadata": {},
   "outputs": [
    {
     "name": "stdout",
     "output_type": "stream",
     "text": [
      "/Users/anseon-yeong/수업/2021-2/텍스트정보처리/프로젝트/Mecab-ko-for-Google-Colab\n"
     ]
    }
   ],
   "source": [
    "%cd Mecab-ko-for-Google-Colab"
   ]
  },
  {
   "cell_type": "code",
   "execution_count": 259,
   "metadata": {},
   "outputs": [],
   "source": [
    "#!bash install_mecab-ko_on_colab190912.sh"
   ]
  },
  {
   "cell_type": "code",
   "execution_count": 260,
   "metadata": {},
   "outputs": [],
   "source": [
    "#!bash <(curl -s https://raw.githubusercontent.com/konlpy/konlpy/master/scripts/mecab.sh)"
   ]
  },
  {
   "cell_type": "code",
   "execution_count": 261,
   "metadata": {
    "scrolled": true
   },
   "outputs": [],
   "source": [
    "#pip install tweepy==3.10.0"
   ]
  },
  {
   "cell_type": "code",
   "execution_count": 4,
   "metadata": {},
   "outputs": [],
   "source": [
    "import pandas as pd\n",
    "import numpy as np\n",
    "import matplotlib.pyplot as plt\n",
    "\n",
    "from collections import Counter\n",
    "from konlpy.tag import Mecab\n",
    "#from eunjeon import Mecab\n",
    "from sklearn.model_selection import train_test_split\n",
    "from tensorflow.keras.preprocessing.text import Tokenizer\n",
    "from tensorflow.keras.preprocessing.sequence import pad_sequences\n",
    "from numpy import nan\n"
   ]
  },
  {
   "cell_type": "code",
   "execution_count": 128,
   "metadata": {},
   "outputs": [
    {
     "name": "stdout",
     "output_type": "stream",
     "text": [
      "전체 리뷰 개수  :  304341\n"
     ]
    }
   ],
   "source": [
    "total_data = pd.read_table('/Users/anseon-yeong/수업/2021-2/텍스트정보처리/프로젝트/naver_shopping.txt', names = ['ratings','reviews'])\n",
    "steam_data = pd.read_table('/Users/anseon-yeong/수업/2021-2/텍스트정보처리/프로젝트/steam.txt', names = ['ratings','reviews'])\n",
    "map_data = pd.read_table('/Users/anseon-yeong/수업/2021-2/텍스트정보처리/프로젝트/kakao_place_review13.txt', names = ['ratings','reviews'])\n",
    "total_data = pd.concat([total_data, steam_data],ignore_index=True)\n",
    "total_data = pd.concat([total_data, map_data],ignore_index=True)\n",
    "print('전체 리뷰 개수  : ', len(total_data))"
   ]
  },
  {
   "cell_type": "code",
   "execution_count": 76,
   "metadata": {},
   "outputs": [
    {
     "data": {
      "text/html": [
       "<div>\n",
       "<style scoped>\n",
       "    .dataframe tbody tr th:only-of-type {\n",
       "        vertical-align: middle;\n",
       "    }\n",
       "\n",
       "    .dataframe tbody tr th {\n",
       "        vertical-align: top;\n",
       "    }\n",
       "\n",
       "    .dataframe thead th {\n",
       "        text-align: right;\n",
       "    }\n",
       "</style>\n",
       "<table border=\"1\" class=\"dataframe\">\n",
       "  <thead>\n",
       "    <tr style=\"text-align: right;\">\n",
       "      <th></th>\n",
       "      <th>ratings</th>\n",
       "      <th>reviews</th>\n",
       "    </tr>\n",
       "  </thead>\n",
       "  <tbody>\n",
       "    <tr>\n",
       "      <th>0</th>\n",
       "      <td>5</td>\n",
       "      <td>배공빠르고 굿</td>\n",
       "    </tr>\n",
       "    <tr>\n",
       "      <th>1</th>\n",
       "      <td>2</td>\n",
       "      <td>택배가 엉망이네용 저희집 밑에층에 말도없이 놔두고가고</td>\n",
       "    </tr>\n",
       "    <tr>\n",
       "      <th>2</th>\n",
       "      <td>5</td>\n",
       "      <td>아주좋아요 바지 정말 좋아서2개 더 구매했어요 이가격에 대박입니다. 바느질이 조금 ...</td>\n",
       "    </tr>\n",
       "    <tr>\n",
       "      <th>3</th>\n",
       "      <td>2</td>\n",
       "      <td>선물용으로 빨리 받아서 전달했어야 하는 상품이었는데 머그컵만 와서 당황했습니다. 전...</td>\n",
       "    </tr>\n",
       "    <tr>\n",
       "      <th>4</th>\n",
       "      <td>5</td>\n",
       "      <td>민트색상 예뻐요. 옆 손잡이는 거는 용도로도 사용되네요 ㅎㅎ</td>\n",
       "    </tr>\n",
       "  </tbody>\n",
       "</table>\n",
       "</div>"
      ],
      "text/plain": [
       "   ratings                                            reviews\n",
       "0        5                                            배공빠르고 굿\n",
       "1        2                      택배가 엉망이네용 저희집 밑에층에 말도없이 놔두고가고\n",
       "2        5  아주좋아요 바지 정말 좋아서2개 더 구매했어요 이가격에 대박입니다. 바느질이 조금 ...\n",
       "3        2  선물용으로 빨리 받아서 전달했어야 하는 상품이었는데 머그컵만 와서 당황했습니다. 전...\n",
       "4        5                  민트색상 예뻐요. 옆 손잡이는 거는 용도로도 사용되네요 ㅎㅎ"
      ]
     },
     "execution_count": 76,
     "metadata": {},
     "output_type": "execute_result"
    }
   ],
   "source": [
    "total_data.head()"
   ]
  },
  {
   "cell_type": "code",
   "execution_count": 129,
   "metadata": {},
   "outputs": [
    {
     "data": {
      "text/plain": [
       "((243472, 2), (60869, 2))"
      ]
     },
     "execution_count": 129,
     "metadata": {},
     "output_type": "execute_result"
    }
   ],
   "source": [
    "train_data, val_data = train_test_split(total_data, test_size = 0.2, random_state = 11)\n",
    "train_data.shape, val_data.shape"
   ]
  },
  {
   "cell_type": "code",
   "execution_count": 130,
   "metadata": {},
   "outputs": [
    {
     "name": "stderr",
     "output_type": "stream",
     "text": [
      "<ipython-input-130-53a073507d23>:10: SettingWithCopyWarning: \n",
      "A value is trying to be set on a copy of a slice from a DataFrame.\n",
      "Try using .loc[row_indexer,col_indexer] = value instead\n",
      "\n",
      "See the caveats in the documentation: https://pandas.pydata.org/pandas-docs/stable/user_guide/indexing.html#returning-a-view-versus-a-copy\n",
      "  train_data['label'] = train_data['ratings'].apply(labeling)\n",
      "<ipython-input-130-53a073507d23>:11: SettingWithCopyWarning: \n",
      "A value is trying to be set on a copy of a slice from a DataFrame.\n",
      "Try using .loc[row_indexer,col_indexer] = value instead\n",
      "\n",
      "See the caveats in the documentation: https://pandas.pydata.org/pandas-docs/stable/user_guide/indexing.html#returning-a-view-versus-a-copy\n",
      "  val_data['label'] = val_data['ratings'].apply(labeling)\n"
     ]
    }
   ],
   "source": [
    "#별점 4점 이상 : 긍정(1), 그 외: 부정(0)\n",
    "\n",
    "def labeling(rating):\n",
    "    if rating >=4:\n",
    "        return 1\n",
    "    else:\n",
    "        return 0\n",
    "#train_data = train_data.copy()\n",
    "#val_data = val_data.copy()\n",
    "train_data['label'] = train_data['ratings'].apply(labeling)\n",
    "val_data['label'] = val_data['ratings'].apply(labeling)\n"
   ]
  },
  {
   "cell_type": "code",
   "execution_count": 132,
   "metadata": {},
   "outputs": [
    {
     "data": {
      "text/html": [
       "<div>\n",
       "<style scoped>\n",
       "    .dataframe tbody tr th:only-of-type {\n",
       "        vertical-align: middle;\n",
       "    }\n",
       "\n",
       "    .dataframe tbody tr th {\n",
       "        vertical-align: top;\n",
       "    }\n",
       "\n",
       "    .dataframe thead th {\n",
       "        text-align: right;\n",
       "    }\n",
       "</style>\n",
       "<table border=\"1\" class=\"dataframe\">\n",
       "  <thead>\n",
       "    <tr style=\"text-align: right;\">\n",
       "      <th></th>\n",
       "      <th>ratings</th>\n",
       "      <th>reviews</th>\n",
       "      <th>label</th>\n",
       "    </tr>\n",
       "  </thead>\n",
       "  <tbody>\n",
       "    <tr>\n",
       "      <th>176887</th>\n",
       "      <td>1</td>\n",
       "      <td>구매하고 두번썻는데 갑자기 사진처럼 분리되면서 떨어지네요 갑자기 떨어지길래 바닥에 ...</td>\n",
       "      <td>0</td>\n",
       "    </tr>\n",
       "    <tr>\n",
       "      <th>30287</th>\n",
       "      <td>1</td>\n",
       "      <td>많은 상품 시킨것도 아니고 꼴랑 화분 두개 시켰는데 커피색으로 주문했는데 회색화분을...</td>\n",
       "      <td>0</td>\n",
       "    </tr>\n",
       "    <tr>\n",
       "      <th>33904</th>\n",
       "      <td>5</td>\n",
       "      <td>온도금방올라가서 너무좋네요</td>\n",
       "      <td>1</td>\n",
       "    </tr>\n",
       "    <tr>\n",
       "      <th>214818</th>\n",
       "      <td>0</td>\n",
       "      <td>캐릭터는 이쁘다. 제작사는 꾸졌다. 게임은 추천 안한다. 요시 토바츠다!</td>\n",
       "      <td>0</td>\n",
       "    </tr>\n",
       "    <tr>\n",
       "      <th>111869</th>\n",
       "      <td>1</td>\n",
       "      <td>6월3일날 시켰는데 6월 8일날 오네요 휴가때 쓰려고 샀는데 휴가 끝나고왔습니다</td>\n",
       "      <td>0</td>\n",
       "    </tr>\n",
       "    <tr>\n",
       "      <th>...</th>\n",
       "      <td>...</td>\n",
       "      <td>...</td>\n",
       "      <td>...</td>\n",
       "    </tr>\n",
       "    <tr>\n",
       "      <th>57676</th>\n",
       "      <td>5</td>\n",
       "      <td>물흡수 엄청 잘되요</td>\n",
       "      <td>1</td>\n",
       "    </tr>\n",
       "    <tr>\n",
       "      <th>102327</th>\n",
       "      <td>1</td>\n",
       "      <td>완전 잘깨져요 이건 뭐 잠깐 바닥에 스치기만해도 깨져있어요</td>\n",
       "      <td>0</td>\n",
       "    </tr>\n",
       "    <tr>\n",
       "      <th>203867</th>\n",
       "      <td>1</td>\n",
       "      <td>나.는.살아있다.</td>\n",
       "      <td>0</td>\n",
       "    </tr>\n",
       "    <tr>\n",
       "      <th>283728</th>\n",
       "      <td>0</td>\n",
       "      <td>그냥 크게 대단히 재밌지도 않고 적당히 재밌는 턴제 RPG임. 어려운건 없는데 확률...</td>\n",
       "      <td>0</td>\n",
       "    </tr>\n",
       "    <tr>\n",
       "      <th>298687</th>\n",
       "      <td>1</td>\n",
       "      <td>외계인과함꼐하는재미있는레인저총놀이</td>\n",
       "      <td>0</td>\n",
       "    </tr>\n",
       "  </tbody>\n",
       "</table>\n",
       "<p>243472 rows × 3 columns</p>\n",
       "</div>"
      ],
      "text/plain": [
       "        ratings                                            reviews  label\n",
       "176887        1  구매하고 두번썻는데 갑자기 사진처럼 분리되면서 떨어지네요 갑자기 떨어지길래 바닥에 ...      0\n",
       "30287         1  많은 상품 시킨것도 아니고 꼴랑 화분 두개 시켰는데 커피색으로 주문했는데 회색화분을...      0\n",
       "33904         5                                     온도금방올라가서 너무좋네요      1\n",
       "214818        0           캐릭터는 이쁘다. 제작사는 꾸졌다. 게임은 추천 안한다. 요시 토바츠다!      0\n",
       "111869        1       6월3일날 시켰는데 6월 8일날 오네요 휴가때 쓰려고 샀는데 휴가 끝나고왔습니다      0\n",
       "...         ...                                                ...    ...\n",
       "57676         5                                         물흡수 엄청 잘되요      1\n",
       "102327        1                   완전 잘깨져요 이건 뭐 잠깐 바닥에 스치기만해도 깨져있어요      0\n",
       "203867        1                                          나.는.살아있다.      0\n",
       "283728        0  그냥 크게 대단히 재밌지도 않고 적당히 재밌는 턴제 RPG임. 어려운건 없는데 확률...      0\n",
       "298687        1                                 외계인과함꼐하는재미있는레인저총놀이      0\n",
       "\n",
       "[243472 rows x 3 columns]"
      ]
     },
     "execution_count": 132,
     "metadata": {},
     "output_type": "execute_result"
    }
   ],
   "source": [
    "train_data "
   ]
  },
  {
   "cell_type": "code",
   "execution_count": 133,
   "metadata": {
    "scrolled": true
   },
   "outputs": [
    {
     "data": {
      "text/plain": [
       "0    161076\n",
       "1     82396\n",
       "Name: label, dtype: int64"
      ]
     },
     "execution_count": 133,
     "metadata": {},
     "output_type": "execute_result"
    }
   ],
   "source": [
    "train_data['label'].value_counts()"
   ]
  },
  {
   "cell_type": "code",
   "execution_count": 134,
   "metadata": {},
   "outputs": [
    {
     "data": {
      "text/plain": [
       "0    40527\n",
       "1    20342\n",
       "Name: label, dtype: int64"
      ]
     },
     "execution_count": 134,
     "metadata": {},
     "output_type": "execute_result"
    }
   ],
   "source": [
    "val_data['label'].value_counts()"
   ]
  },
  {
   "cell_type": "code",
   "execution_count": 82,
   "metadata": {},
   "outputs": [
    {
     "data": {
      "text/html": [
       "<div>\n",
       "<style scoped>\n",
       "    .dataframe tbody tr th:only-of-type {\n",
       "        vertical-align: middle;\n",
       "    }\n",
       "\n",
       "    .dataframe tbody tr th {\n",
       "        vertical-align: top;\n",
       "    }\n",
       "\n",
       "    .dataframe thead th {\n",
       "        text-align: right;\n",
       "    }\n",
       "</style>\n",
       "<table border=\"1\" class=\"dataframe\">\n",
       "  <thead>\n",
       "    <tr style=\"text-align: right;\">\n",
       "      <th></th>\n",
       "      <th>ratings</th>\n",
       "      <th>reviews</th>\n",
       "      <th>label</th>\n",
       "    </tr>\n",
       "  </thead>\n",
       "  <tbody>\n",
       "    <tr>\n",
       "      <th>172542</th>\n",
       "      <td>1</td>\n",
       "      <td>배송은 빠르나 옷걸이가 비닐이나 상자에 정리되서 온게.아니라 막 담은 느낌?????...</td>\n",
       "      <td>0</td>\n",
       "    </tr>\n",
       "    <tr>\n",
       "      <th>265418</th>\n",
       "      <td>0</td>\n",
       "      <td>좆같은거 하지마셈</td>\n",
       "      <td>0</td>\n",
       "    </tr>\n",
       "    <tr>\n",
       "      <th>290953</th>\n",
       "      <td>0</td>\n",
       "      <td>계속 하다보면 어느샌가 컴퓨터 의자에 위쳐처럼 되어있는 나의 모습을 볼 수가 있다.</td>\n",
       "      <td>0</td>\n",
       "    </tr>\n",
       "    <tr>\n",
       "      <th>60627</th>\n",
       "      <td>1</td>\n",
       "      <td>무료체험 별로입니다. 비추합니다.</td>\n",
       "      <td>0</td>\n",
       "    </tr>\n",
       "    <tr>\n",
       "      <th>14820</th>\n",
       "      <td>1</td>\n",
       "      <td>최악~~ 쫄바지 임.... 개콘 발레코너에서 입던바지 하고 동일인듯..</td>\n",
       "      <td>0</td>\n",
       "    </tr>\n",
       "  </tbody>\n",
       "</table>\n",
       "</div>"
      ],
      "text/plain": [
       "        ratings                                            reviews  label\n",
       "172542        1  배송은 빠르나 옷걸이가 비닐이나 상자에 정리되서 온게.아니라 막 담은 느낌?????...      0\n",
       "265418        0                                          좆같은거 하지마셈      0\n",
       "290953        0     계속 하다보면 어느샌가 컴퓨터 의자에 위쳐처럼 되어있는 나의 모습을 볼 수가 있다.      0\n",
       "60627         1                                 무료체험 별로입니다. 비추합니다.      0\n",
       "14820         1            최악~~ 쫄바지 임.... 개콘 발레코너에서 입던바지 하고 동일인듯..      0"
      ]
     },
     "execution_count": 82,
     "metadata": {},
     "output_type": "execute_result"
    }
   ],
   "source": [
    "train_data.head()"
   ]
  },
  {
   "cell_type": "code",
   "execution_count": 13,
   "metadata": {},
   "outputs": [
    {
     "data": {
      "text/plain": [
       "'배공빠르고 굿'"
      ]
     },
     "execution_count": 13,
     "metadata": {},
     "output_type": "execute_result"
    }
   ],
   "source": [
    "train_data['reviews'][0]"
   ]
  },
  {
   "cell_type": "code",
   "execution_count": 135,
   "metadata": {},
   "outputs": [
    {
     "data": {
      "text/plain": [
       "'/Users/anseon-yeong/수업/2021-2/텍스트정보처리/프로젝트/Mecab-ko-for-Google-Colab'"
      ]
     },
     "execution_count": 135,
     "metadata": {},
     "output_type": "execute_result"
    }
   ],
   "source": [
    "pwd"
   ]
  },
  {
   "cell_type": "code",
   "execution_count": 136,
   "metadata": {},
   "outputs": [
    {
     "name": "stdout",
     "output_type": "stream",
     "text": [
      "/Users/anseon-yeong/수업/2021-2/텍스트정보처리/프로젝트\n"
     ]
    }
   ],
   "source": [
    "%cd .."
   ]
  },
  {
   "cell_type": "code",
   "execution_count": 137,
   "metadata": {},
   "outputs": [
    {
     "data": {
      "text/html": [
       "<div>\n",
       "<style scoped>\n",
       "    .dataframe tbody tr th:only-of-type {\n",
       "        vertical-align: middle;\n",
       "    }\n",
       "\n",
       "    .dataframe tbody tr th {\n",
       "        vertical-align: top;\n",
       "    }\n",
       "\n",
       "    .dataframe thead th {\n",
       "        text-align: right;\n",
       "    }\n",
       "</style>\n",
       "<table border=\"1\" class=\"dataframe\">\n",
       "  <thead>\n",
       "    <tr style=\"text-align: right;\">\n",
       "      <th></th>\n",
       "      <th>id</th>\n",
       "      <th>reviews</th>\n",
       "      <th>label</th>\n",
       "    </tr>\n",
       "  </thead>\n",
       "  <tbody>\n",
       "    <tr>\n",
       "      <th>0</th>\n",
       "      <td>9976970</td>\n",
       "      <td>아 더빙 진짜 짜증나네요 목소리</td>\n",
       "      <td>0</td>\n",
       "    </tr>\n",
       "    <tr>\n",
       "      <th>1</th>\n",
       "      <td>3819312</td>\n",
       "      <td>흠포스터보고 초딩영화줄오버연기조차 가볍지 않구나</td>\n",
       "      <td>1</td>\n",
       "    </tr>\n",
       "    <tr>\n",
       "      <th>2</th>\n",
       "      <td>10265843</td>\n",
       "      <td>너무재밓었다그래서보는것을추천한다</td>\n",
       "      <td>0</td>\n",
       "    </tr>\n",
       "    <tr>\n",
       "      <th>3</th>\n",
       "      <td>9045019</td>\n",
       "      <td>교도소 이야기구먼 솔직히 재미는 없다평점 조정</td>\n",
       "      <td>0</td>\n",
       "    </tr>\n",
       "    <tr>\n",
       "      <th>4</th>\n",
       "      <td>6483659</td>\n",
       "      <td>사이몬페그의 익살스런 연기가 돋보였던 영화스파이더맨에서 늙어보이기만 했던 커스틴 던...</td>\n",
       "      <td>1</td>\n",
       "    </tr>\n",
       "  </tbody>\n",
       "</table>\n",
       "</div>"
      ],
      "text/plain": [
       "         id                                            reviews  label\n",
       "0   9976970                                  아 더빙 진짜 짜증나네요 목소리      0\n",
       "1   3819312                         흠포스터보고 초딩영화줄오버연기조차 가볍지 않구나      1\n",
       "2  10265843                                  너무재밓었다그래서보는것을추천한다      0\n",
       "3   9045019                          교도소 이야기구먼 솔직히 재미는 없다평점 조정      0\n",
       "4   6483659  사이몬페그의 익살스런 연기가 돋보였던 영화스파이더맨에서 늙어보이기만 했던 커스틴 던...      1"
      ]
     },
     "execution_count": 137,
     "metadata": {},
     "output_type": "execute_result"
    }
   ],
   "source": [
    "train_data2 = pd.read_table('movie_reivews.txt')#영화리뷰 불러오기\n",
    "train_data2[:5]"
   ]
  },
  {
   "cell_type": "code",
   "execution_count": 138,
   "metadata": {},
   "outputs": [
    {
     "data": {
      "text/plain": [
       "(149995, 3)"
      ]
     },
     "execution_count": 138,
     "metadata": {},
     "output_type": "execute_result"
    }
   ],
   "source": [
    "train_data2.shape"
   ]
  },
  {
   "cell_type": "code",
   "execution_count": 139,
   "metadata": {},
   "outputs": [
    {
     "data": {
      "text/html": [
       "<div>\n",
       "<style scoped>\n",
       "    .dataframe tbody tr th:only-of-type {\n",
       "        vertical-align: middle;\n",
       "    }\n",
       "\n",
       "    .dataframe tbody tr th {\n",
       "        vertical-align: top;\n",
       "    }\n",
       "\n",
       "    .dataframe thead th {\n",
       "        text-align: right;\n",
       "    }\n",
       "</style>\n",
       "<table border=\"1\" class=\"dataframe\">\n",
       "  <thead>\n",
       "    <tr style=\"text-align: right;\">\n",
       "      <th></th>\n",
       "      <th>id</th>\n",
       "      <th>reviews</th>\n",
       "      <th>label</th>\n",
       "      <th>ratings</th>\n",
       "    </tr>\n",
       "  </thead>\n",
       "  <tbody>\n",
       "    <tr>\n",
       "      <th>0</th>\n",
       "      <td>9976970</td>\n",
       "      <td>아 더빙 진짜 짜증나네요 목소리</td>\n",
       "      <td>0</td>\n",
       "      <td>0</td>\n",
       "    </tr>\n",
       "    <tr>\n",
       "      <th>1</th>\n",
       "      <td>3819312</td>\n",
       "      <td>흠포스터보고 초딩영화줄오버연기조차 가볍지 않구나</td>\n",
       "      <td>1</td>\n",
       "      <td>0</td>\n",
       "    </tr>\n",
       "    <tr>\n",
       "      <th>2</th>\n",
       "      <td>10265843</td>\n",
       "      <td>너무재밓었다그래서보는것을추천한다</td>\n",
       "      <td>0</td>\n",
       "      <td>0</td>\n",
       "    </tr>\n",
       "    <tr>\n",
       "      <th>3</th>\n",
       "      <td>9045019</td>\n",
       "      <td>교도소 이야기구먼 솔직히 재미는 없다평점 조정</td>\n",
       "      <td>0</td>\n",
       "      <td>0</td>\n",
       "    </tr>\n",
       "    <tr>\n",
       "      <th>4</th>\n",
       "      <td>6483659</td>\n",
       "      <td>사이몬페그의 익살스런 연기가 돋보였던 영화스파이더맨에서 늙어보이기만 했던 커스틴 던...</td>\n",
       "      <td>1</td>\n",
       "      <td>0</td>\n",
       "    </tr>\n",
       "    <tr>\n",
       "      <th>...</th>\n",
       "      <td>...</td>\n",
       "      <td>...</td>\n",
       "      <td>...</td>\n",
       "      <td>...</td>\n",
       "    </tr>\n",
       "    <tr>\n",
       "      <th>149990</th>\n",
       "      <td>6222902</td>\n",
       "      <td>인간이 문제지 소는 뭔죄인가</td>\n",
       "      <td>0</td>\n",
       "      <td>0</td>\n",
       "    </tr>\n",
       "    <tr>\n",
       "      <th>149991</th>\n",
       "      <td>8549745</td>\n",
       "      <td>평점이 너무 낮아서</td>\n",
       "      <td>1</td>\n",
       "      <td>0</td>\n",
       "    </tr>\n",
       "    <tr>\n",
       "      <th>149992</th>\n",
       "      <td>9311800</td>\n",
       "      <td>이게 뭐요 한국인은 거들먹거리고 필리핀 혼혈은 착하다</td>\n",
       "      <td>0</td>\n",
       "      <td>0</td>\n",
       "    </tr>\n",
       "    <tr>\n",
       "      <th>149993</th>\n",
       "      <td>2376369</td>\n",
       "      <td>청춘 영화의 최고봉방황과 우울했던 날들의 자화상</td>\n",
       "      <td>1</td>\n",
       "      <td>0</td>\n",
       "    </tr>\n",
       "    <tr>\n",
       "      <th>149994</th>\n",
       "      <td>9619869</td>\n",
       "      <td>한국 영화 최초로 수간하는 내용이 담긴 영화</td>\n",
       "      <td>0</td>\n",
       "      <td>0</td>\n",
       "    </tr>\n",
       "  </tbody>\n",
       "</table>\n",
       "<p>149995 rows × 4 columns</p>\n",
       "</div>"
      ],
      "text/plain": [
       "              id                                            reviews  label  \\\n",
       "0        9976970                                  아 더빙 진짜 짜증나네요 목소리      0   \n",
       "1        3819312                         흠포스터보고 초딩영화줄오버연기조차 가볍지 않구나      1   \n",
       "2       10265843                                  너무재밓었다그래서보는것을추천한다      0   \n",
       "3        9045019                          교도소 이야기구먼 솔직히 재미는 없다평점 조정      0   \n",
       "4        6483659  사이몬페그의 익살스런 연기가 돋보였던 영화스파이더맨에서 늙어보이기만 했던 커스틴 던...      1   \n",
       "...          ...                                                ...    ...   \n",
       "149990   6222902                                    인간이 문제지 소는 뭔죄인가      0   \n",
       "149991   8549745                                         평점이 너무 낮아서      1   \n",
       "149992   9311800                      이게 뭐요 한국인은 거들먹거리고 필리핀 혼혈은 착하다      0   \n",
       "149993   2376369                         청춘 영화의 최고봉방황과 우울했던 날들의 자화상      1   \n",
       "149994   9619869                           한국 영화 최초로 수간하는 내용이 담긴 영화      0   \n",
       "\n",
       "        ratings  \n",
       "0             0  \n",
       "1             0  \n",
       "2             0  \n",
       "3             0  \n",
       "4             0  \n",
       "...         ...  \n",
       "149990        0  \n",
       "149991        0  \n",
       "149992        0  \n",
       "149993        0  \n",
       "149994        0  \n",
       "\n",
       "[149995 rows x 4 columns]"
      ]
     },
     "execution_count": 139,
     "metadata": {},
     "output_type": "execute_result"
    }
   ],
   "source": [
    "train_data2['ratings'] = 0 #영화리뷰데이터 rating = 0으로 초기화\n",
    "train_data2"
   ]
  },
  {
   "cell_type": "code",
   "execution_count": 140,
   "metadata": {},
   "outputs": [
    {
     "data": {
      "text/html": [
       "<div>\n",
       "<style scoped>\n",
       "    .dataframe tbody tr th:only-of-type {\n",
       "        vertical-align: middle;\n",
       "    }\n",
       "\n",
       "    .dataframe tbody tr th {\n",
       "        vertical-align: top;\n",
       "    }\n",
       "\n",
       "    .dataframe thead th {\n",
       "        text-align: right;\n",
       "    }\n",
       "</style>\n",
       "<table border=\"1\" class=\"dataframe\">\n",
       "  <thead>\n",
       "    <tr style=\"text-align: right;\">\n",
       "      <th></th>\n",
       "      <th>reviews</th>\n",
       "      <th>label</th>\n",
       "      <th>ratings</th>\n",
       "    </tr>\n",
       "  </thead>\n",
       "  <tbody>\n",
       "    <tr>\n",
       "      <th>0</th>\n",
       "      <td>아 더빙 진짜 짜증나네요 목소리</td>\n",
       "      <td>0</td>\n",
       "      <td>0</td>\n",
       "    </tr>\n",
       "    <tr>\n",
       "      <th>1</th>\n",
       "      <td>흠포스터보고 초딩영화줄오버연기조차 가볍지 않구나</td>\n",
       "      <td>1</td>\n",
       "      <td>0</td>\n",
       "    </tr>\n",
       "    <tr>\n",
       "      <th>2</th>\n",
       "      <td>너무재밓었다그래서보는것을추천한다</td>\n",
       "      <td>0</td>\n",
       "      <td>0</td>\n",
       "    </tr>\n",
       "    <tr>\n",
       "      <th>3</th>\n",
       "      <td>교도소 이야기구먼 솔직히 재미는 없다평점 조정</td>\n",
       "      <td>0</td>\n",
       "      <td>0</td>\n",
       "    </tr>\n",
       "    <tr>\n",
       "      <th>4</th>\n",
       "      <td>사이몬페그의 익살스런 연기가 돋보였던 영화스파이더맨에서 늙어보이기만 했던 커스틴 던...</td>\n",
       "      <td>1</td>\n",
       "      <td>0</td>\n",
       "    </tr>\n",
       "    <tr>\n",
       "      <th>...</th>\n",
       "      <td>...</td>\n",
       "      <td>...</td>\n",
       "      <td>...</td>\n",
       "    </tr>\n",
       "    <tr>\n",
       "      <th>149990</th>\n",
       "      <td>인간이 문제지 소는 뭔죄인가</td>\n",
       "      <td>0</td>\n",
       "      <td>0</td>\n",
       "    </tr>\n",
       "    <tr>\n",
       "      <th>149991</th>\n",
       "      <td>평점이 너무 낮아서</td>\n",
       "      <td>1</td>\n",
       "      <td>0</td>\n",
       "    </tr>\n",
       "    <tr>\n",
       "      <th>149992</th>\n",
       "      <td>이게 뭐요 한국인은 거들먹거리고 필리핀 혼혈은 착하다</td>\n",
       "      <td>0</td>\n",
       "      <td>0</td>\n",
       "    </tr>\n",
       "    <tr>\n",
       "      <th>149993</th>\n",
       "      <td>청춘 영화의 최고봉방황과 우울했던 날들의 자화상</td>\n",
       "      <td>1</td>\n",
       "      <td>0</td>\n",
       "    </tr>\n",
       "    <tr>\n",
       "      <th>149994</th>\n",
       "      <td>한국 영화 최초로 수간하는 내용이 담긴 영화</td>\n",
       "      <td>0</td>\n",
       "      <td>0</td>\n",
       "    </tr>\n",
       "  </tbody>\n",
       "</table>\n",
       "<p>149995 rows × 3 columns</p>\n",
       "</div>"
      ],
      "text/plain": [
       "                                                  reviews  label  ratings\n",
       "0                                       아 더빙 진짜 짜증나네요 목소리      0        0\n",
       "1                              흠포스터보고 초딩영화줄오버연기조차 가볍지 않구나      1        0\n",
       "2                                       너무재밓었다그래서보는것을추천한다      0        0\n",
       "3                               교도소 이야기구먼 솔직히 재미는 없다평점 조정      0        0\n",
       "4       사이몬페그의 익살스런 연기가 돋보였던 영화스파이더맨에서 늙어보이기만 했던 커스틴 던...      1        0\n",
       "...                                                   ...    ...      ...\n",
       "149990                                    인간이 문제지 소는 뭔죄인가      0        0\n",
       "149991                                         평점이 너무 낮아서      1        0\n",
       "149992                      이게 뭐요 한국인은 거들먹거리고 필리핀 혼혈은 착하다      0        0\n",
       "149993                         청춘 영화의 최고봉방황과 우울했던 날들의 자화상      1        0\n",
       "149994                           한국 영화 최초로 수간하는 내용이 담긴 영화      0        0\n",
       "\n",
       "[149995 rows x 3 columns]"
      ]
     },
     "execution_count": 140,
     "metadata": {},
     "output_type": "execute_result"
    }
   ],
   "source": [
    "train_data2 = train_data2.drop(train_data2.columns[0],axis='columns')\n",
    "train_data2\n",
    "#id열 삭제"
   ]
  },
  {
   "cell_type": "code",
   "execution_count": 25,
   "metadata": {},
   "outputs": [
    {
     "data": {
      "text/html": [
       "<div>\n",
       "<style scoped>\n",
       "    .dataframe tbody tr th:only-of-type {\n",
       "        vertical-align: middle;\n",
       "    }\n",
       "\n",
       "    .dataframe tbody tr th {\n",
       "        vertical-align: top;\n",
       "    }\n",
       "\n",
       "    .dataframe thead th {\n",
       "        text-align: right;\n",
       "    }\n",
       "</style>\n",
       "<table border=\"1\" class=\"dataframe\">\n",
       "  <thead>\n",
       "    <tr style=\"text-align: right;\">\n",
       "      <th></th>\n",
       "      <th>reviews</th>\n",
       "      <th>label</th>\n",
       "      <th>ratings</th>\n",
       "    </tr>\n",
       "  </thead>\n",
       "  <tbody>\n",
       "    <tr>\n",
       "      <th>0</th>\n",
       "      <td>True</td>\n",
       "      <td>True</td>\n",
       "      <td>True</td>\n",
       "    </tr>\n",
       "    <tr>\n",
       "      <th>1</th>\n",
       "      <td>True</td>\n",
       "      <td>True</td>\n",
       "      <td>True</td>\n",
       "    </tr>\n",
       "    <tr>\n",
       "      <th>2</th>\n",
       "      <td>True</td>\n",
       "      <td>True</td>\n",
       "      <td>True</td>\n",
       "    </tr>\n",
       "    <tr>\n",
       "      <th>3</th>\n",
       "      <td>True</td>\n",
       "      <td>True</td>\n",
       "      <td>True</td>\n",
       "    </tr>\n",
       "    <tr>\n",
       "      <th>4</th>\n",
       "      <td>True</td>\n",
       "      <td>True</td>\n",
       "      <td>True</td>\n",
       "    </tr>\n",
       "    <tr>\n",
       "      <th>...</th>\n",
       "      <td>...</td>\n",
       "      <td>...</td>\n",
       "      <td>...</td>\n",
       "    </tr>\n",
       "    <tr>\n",
       "      <th>149990</th>\n",
       "      <td>True</td>\n",
       "      <td>True</td>\n",
       "      <td>True</td>\n",
       "    </tr>\n",
       "    <tr>\n",
       "      <th>149991</th>\n",
       "      <td>True</td>\n",
       "      <td>True</td>\n",
       "      <td>True</td>\n",
       "    </tr>\n",
       "    <tr>\n",
       "      <th>149992</th>\n",
       "      <td>True</td>\n",
       "      <td>True</td>\n",
       "      <td>True</td>\n",
       "    </tr>\n",
       "    <tr>\n",
       "      <th>149993</th>\n",
       "      <td>True</td>\n",
       "      <td>True</td>\n",
       "      <td>True</td>\n",
       "    </tr>\n",
       "    <tr>\n",
       "      <th>149994</th>\n",
       "      <td>True</td>\n",
       "      <td>True</td>\n",
       "      <td>True</td>\n",
       "    </tr>\n",
       "  </tbody>\n",
       "</table>\n",
       "<p>149995 rows × 3 columns</p>\n",
       "</div>"
      ],
      "text/plain": [
       "        reviews  label  ratings\n",
       "0          True   True     True\n",
       "1          True   True     True\n",
       "2          True   True     True\n",
       "3          True   True     True\n",
       "4          True   True     True\n",
       "...         ...    ...      ...\n",
       "149990     True   True     True\n",
       "149991     True   True     True\n",
       "149992     True   True     True\n",
       "149993     True   True     True\n",
       "149994     True   True     True\n",
       "\n",
       "[149995 rows x 3 columns]"
      ]
     },
     "execution_count": 25,
     "metadata": {},
     "output_type": "execute_result"
    }
   ],
   "source": [
    "pd.notnull(train_data2)"
   ]
  },
  {
   "cell_type": "code",
   "execution_count": 141,
   "metadata": {},
   "outputs": [
    {
     "name": "stdout",
     "output_type": "stream",
     "text": [
      "reviews    809\n",
      "label        0\n",
      "ratings      0\n",
      "dtype: int64\n"
     ]
    }
   ],
   "source": [
    "print(train_data2.isnull().sum())\n",
    "train_data2=train_data2.dropna(axis=0)"
   ]
  },
  {
   "cell_type": "code",
   "execution_count": 142,
   "metadata": {},
   "outputs": [
    {
     "data": {
      "text/html": [
       "<div>\n",
       "<style scoped>\n",
       "    .dataframe tbody tr th:only-of-type {\n",
       "        vertical-align: middle;\n",
       "    }\n",
       "\n",
       "    .dataframe tbody tr th {\n",
       "        vertical-align: top;\n",
       "    }\n",
       "\n",
       "    .dataframe thead th {\n",
       "        text-align: right;\n",
       "    }\n",
       "</style>\n",
       "<table border=\"1\" class=\"dataframe\">\n",
       "  <thead>\n",
       "    <tr style=\"text-align: right;\">\n",
       "      <th></th>\n",
       "      <th>reviews</th>\n",
       "      <th>label</th>\n",
       "      <th>ratings</th>\n",
       "    </tr>\n",
       "  </thead>\n",
       "  <tbody>\n",
       "    <tr>\n",
       "      <th>0</th>\n",
       "      <td>아 더빙 진짜 짜증나네요 목소리</td>\n",
       "      <td>0</td>\n",
       "      <td>0</td>\n",
       "    </tr>\n",
       "    <tr>\n",
       "      <th>1</th>\n",
       "      <td>흠포스터보고 초딩영화줄오버연기조차 가볍지 않구나</td>\n",
       "      <td>1</td>\n",
       "      <td>0</td>\n",
       "    </tr>\n",
       "    <tr>\n",
       "      <th>2</th>\n",
       "      <td>너무재밓었다그래서보는것을추천한다</td>\n",
       "      <td>0</td>\n",
       "      <td>0</td>\n",
       "    </tr>\n",
       "    <tr>\n",
       "      <th>3</th>\n",
       "      <td>교도소 이야기구먼 솔직히 재미는 없다평점 조정</td>\n",
       "      <td>0</td>\n",
       "      <td>0</td>\n",
       "    </tr>\n",
       "    <tr>\n",
       "      <th>4</th>\n",
       "      <td>사이몬페그의 익살스런 연기가 돋보였던 영화스파이더맨에서 늙어보이기만 했던 커스틴 던...</td>\n",
       "      <td>1</td>\n",
       "      <td>0</td>\n",
       "    </tr>\n",
       "    <tr>\n",
       "      <th>...</th>\n",
       "      <td>...</td>\n",
       "      <td>...</td>\n",
       "      <td>...</td>\n",
       "    </tr>\n",
       "    <tr>\n",
       "      <th>149990</th>\n",
       "      <td>인간이 문제지 소는 뭔죄인가</td>\n",
       "      <td>0</td>\n",
       "      <td>0</td>\n",
       "    </tr>\n",
       "    <tr>\n",
       "      <th>149991</th>\n",
       "      <td>평점이 너무 낮아서</td>\n",
       "      <td>1</td>\n",
       "      <td>0</td>\n",
       "    </tr>\n",
       "    <tr>\n",
       "      <th>149992</th>\n",
       "      <td>이게 뭐요 한국인은 거들먹거리고 필리핀 혼혈은 착하다</td>\n",
       "      <td>0</td>\n",
       "      <td>0</td>\n",
       "    </tr>\n",
       "    <tr>\n",
       "      <th>149993</th>\n",
       "      <td>청춘 영화의 최고봉방황과 우울했던 날들의 자화상</td>\n",
       "      <td>1</td>\n",
       "      <td>0</td>\n",
       "    </tr>\n",
       "    <tr>\n",
       "      <th>149994</th>\n",
       "      <td>한국 영화 최초로 수간하는 내용이 담긴 영화</td>\n",
       "      <td>0</td>\n",
       "      <td>0</td>\n",
       "    </tr>\n",
       "  </tbody>\n",
       "</table>\n",
       "<p>149186 rows × 3 columns</p>\n",
       "</div>"
      ],
      "text/plain": [
       "                                                  reviews  label  ratings\n",
       "0                                       아 더빙 진짜 짜증나네요 목소리      0        0\n",
       "1                              흠포스터보고 초딩영화줄오버연기조차 가볍지 않구나      1        0\n",
       "2                                       너무재밓었다그래서보는것을추천한다      0        0\n",
       "3                               교도소 이야기구먼 솔직히 재미는 없다평점 조정      0        0\n",
       "4       사이몬페그의 익살스런 연기가 돋보였던 영화스파이더맨에서 늙어보이기만 했던 커스틴 던...      1        0\n",
       "...                                                   ...    ...      ...\n",
       "149990                                    인간이 문제지 소는 뭔죄인가      0        0\n",
       "149991                                         평점이 너무 낮아서      1        0\n",
       "149992                      이게 뭐요 한국인은 거들먹거리고 필리핀 혼혈은 착하다      0        0\n",
       "149993                         청춘 영화의 최고봉방황과 우울했던 날들의 자화상      1        0\n",
       "149994                           한국 영화 최초로 수간하는 내용이 담긴 영화      0        0\n",
       "\n",
       "[149186 rows x 3 columns]"
      ]
     },
     "execution_count": 142,
     "metadata": {},
     "output_type": "execute_result"
    }
   ],
   "source": [
    "train_data2"
   ]
  },
  {
   "cell_type": "code",
   "execution_count": 143,
   "metadata": {},
   "outputs": [
    {
     "data": {
      "text/html": [
       "<div>\n",
       "<style scoped>\n",
       "    .dataframe tbody tr th:only-of-type {\n",
       "        vertical-align: middle;\n",
       "    }\n",
       "\n",
       "    .dataframe tbody tr th {\n",
       "        vertical-align: top;\n",
       "    }\n",
       "\n",
       "    .dataframe thead th {\n",
       "        text-align: right;\n",
       "    }\n",
       "</style>\n",
       "<table border=\"1\" class=\"dataframe\">\n",
       "  <thead>\n",
       "    <tr style=\"text-align: right;\">\n",
       "      <th></th>\n",
       "      <th>ratings</th>\n",
       "      <th>reviews</th>\n",
       "      <th>label</th>\n",
       "    </tr>\n",
       "  </thead>\n",
       "  <tbody>\n",
       "    <tr>\n",
       "      <th>0</th>\n",
       "      <td>1</td>\n",
       "      <td>구매하고 두번썻는데 갑자기 사진처럼 분리되면서 떨어지네요 갑자기 떨어지길래 바닥에 ...</td>\n",
       "      <td>0</td>\n",
       "    </tr>\n",
       "    <tr>\n",
       "      <th>1</th>\n",
       "      <td>1</td>\n",
       "      <td>많은 상품 시킨것도 아니고 꼴랑 화분 두개 시켰는데 커피색으로 주문했는데 회색화분을...</td>\n",
       "      <td>0</td>\n",
       "    </tr>\n",
       "    <tr>\n",
       "      <th>2</th>\n",
       "      <td>5</td>\n",
       "      <td>온도금방올라가서 너무좋네요</td>\n",
       "      <td>1</td>\n",
       "    </tr>\n",
       "    <tr>\n",
       "      <th>3</th>\n",
       "      <td>0</td>\n",
       "      <td>캐릭터는 이쁘다. 제작사는 꾸졌다. 게임은 추천 안한다. 요시 토바츠다!</td>\n",
       "      <td>0</td>\n",
       "    </tr>\n",
       "    <tr>\n",
       "      <th>4</th>\n",
       "      <td>1</td>\n",
       "      <td>6월3일날 시켰는데 6월 8일날 오네요 휴가때 쓰려고 샀는데 휴가 끝나고왔습니다</td>\n",
       "      <td>0</td>\n",
       "    </tr>\n",
       "    <tr>\n",
       "      <th>...</th>\n",
       "      <td>...</td>\n",
       "      <td>...</td>\n",
       "      <td>...</td>\n",
       "    </tr>\n",
       "    <tr>\n",
       "      <th>392653</th>\n",
       "      <td>0</td>\n",
       "      <td>인간이 문제지 소는 뭔죄인가</td>\n",
       "      <td>0</td>\n",
       "    </tr>\n",
       "    <tr>\n",
       "      <th>392654</th>\n",
       "      <td>0</td>\n",
       "      <td>평점이 너무 낮아서</td>\n",
       "      <td>1</td>\n",
       "    </tr>\n",
       "    <tr>\n",
       "      <th>392655</th>\n",
       "      <td>0</td>\n",
       "      <td>이게 뭐요 한국인은 거들먹거리고 필리핀 혼혈은 착하다</td>\n",
       "      <td>0</td>\n",
       "    </tr>\n",
       "    <tr>\n",
       "      <th>392656</th>\n",
       "      <td>0</td>\n",
       "      <td>청춘 영화의 최고봉방황과 우울했던 날들의 자화상</td>\n",
       "      <td>1</td>\n",
       "    </tr>\n",
       "    <tr>\n",
       "      <th>392657</th>\n",
       "      <td>0</td>\n",
       "      <td>한국 영화 최초로 수간하는 내용이 담긴 영화</td>\n",
       "      <td>0</td>\n",
       "    </tr>\n",
       "  </tbody>\n",
       "</table>\n",
       "<p>392658 rows × 3 columns</p>\n",
       "</div>"
      ],
      "text/plain": [
       "        ratings                                            reviews  label\n",
       "0             1  구매하고 두번썻는데 갑자기 사진처럼 분리되면서 떨어지네요 갑자기 떨어지길래 바닥에 ...      0\n",
       "1             1  많은 상품 시킨것도 아니고 꼴랑 화분 두개 시켰는데 커피색으로 주문했는데 회색화분을...      0\n",
       "2             5                                     온도금방올라가서 너무좋네요      1\n",
       "3             0           캐릭터는 이쁘다. 제작사는 꾸졌다. 게임은 추천 안한다. 요시 토바츠다!      0\n",
       "4             1       6월3일날 시켰는데 6월 8일날 오네요 휴가때 쓰려고 샀는데 휴가 끝나고왔습니다      0\n",
       "...         ...                                                ...    ...\n",
       "392653        0                                    인간이 문제지 소는 뭔죄인가      0\n",
       "392654        0                                         평점이 너무 낮아서      1\n",
       "392655        0                      이게 뭐요 한국인은 거들먹거리고 필리핀 혼혈은 착하다      0\n",
       "392656        0                         청춘 영화의 최고봉방황과 우울했던 날들의 자화상      1\n",
       "392657        0                           한국 영화 최초로 수간하는 내용이 담긴 영화      0\n",
       "\n",
       "[392658 rows x 3 columns]"
      ]
     },
     "execution_count": 143,
     "metadata": {},
     "output_type": "execute_result"
    }
   ],
   "source": [
    "train_data = pd.concat([train_data, train_data2],ignore_index=True)\n",
    "train_data"
   ]
  },
  {
   "cell_type": "code",
   "execution_count": 74,
   "metadata": {},
   "outputs": [],
   "source": [
    "#train_data['ratings'] = pd.to_numeric(train_data['ratings'], errors='coerce')\n",
    "#train_data2= train_data.astype('int64',errors='ignore')\n",
    "#train_data['ratings'] = train_data['ratings'].fillna(0)\n",
    "#train_data['ratings'] = train_data['ratings'].astype(int)\n",
    "#train_data['ratings'] = train_data['ratings'].astype(str)\n",
    "#train_data['ratings'] = train_data['ratings'].replace('0',np.nan)\n",
    "\n"
   ]
  },
  {
   "cell_type": "code",
   "execution_count": 144,
   "metadata": {},
   "outputs": [
    {
     "data": {
      "text/html": [
       "<div>\n",
       "<style scoped>\n",
       "    .dataframe tbody tr th:only-of-type {\n",
       "        vertical-align: middle;\n",
       "    }\n",
       "\n",
       "    .dataframe tbody tr th {\n",
       "        vertical-align: top;\n",
       "    }\n",
       "\n",
       "    .dataframe thead th {\n",
       "        text-align: right;\n",
       "    }\n",
       "</style>\n",
       "<table border=\"1\" class=\"dataframe\">\n",
       "  <thead>\n",
       "    <tr style=\"text-align: right;\">\n",
       "      <th></th>\n",
       "      <th>ratings</th>\n",
       "      <th>reviews</th>\n",
       "      <th>label</th>\n",
       "    </tr>\n",
       "  </thead>\n",
       "  <tbody>\n",
       "    <tr>\n",
       "      <th>0</th>\n",
       "      <td>1</td>\n",
       "      <td>구매하고 두번썻는데 갑자기 사진처럼 분리되면서 떨어지네요 갑자기 떨어지길래 바닥에 ...</td>\n",
       "      <td>0</td>\n",
       "    </tr>\n",
       "    <tr>\n",
       "      <th>1</th>\n",
       "      <td>1</td>\n",
       "      <td>많은 상품 시킨것도 아니고 꼴랑 화분 두개 시켰는데 커피색으로 주문했는데 회색화분을...</td>\n",
       "      <td>0</td>\n",
       "    </tr>\n",
       "    <tr>\n",
       "      <th>2</th>\n",
       "      <td>5</td>\n",
       "      <td>온도금방올라가서 너무좋네요</td>\n",
       "      <td>1</td>\n",
       "    </tr>\n",
       "    <tr>\n",
       "      <th>3</th>\n",
       "      <td>0</td>\n",
       "      <td>캐릭터는 이쁘다. 제작사는 꾸졌다. 게임은 추천 안한다. 요시 토바츠다!</td>\n",
       "      <td>0</td>\n",
       "    </tr>\n",
       "    <tr>\n",
       "      <th>4</th>\n",
       "      <td>1</td>\n",
       "      <td>6월3일날 시켰는데 6월 8일날 오네요 휴가때 쓰려고 샀는데 휴가 끝나고왔습니다</td>\n",
       "      <td>0</td>\n",
       "    </tr>\n",
       "    <tr>\n",
       "      <th>...</th>\n",
       "      <td>...</td>\n",
       "      <td>...</td>\n",
       "      <td>...</td>\n",
       "    </tr>\n",
       "    <tr>\n",
       "      <th>392653</th>\n",
       "      <td>0</td>\n",
       "      <td>인간이 문제지 소는 뭔죄인가</td>\n",
       "      <td>0</td>\n",
       "    </tr>\n",
       "    <tr>\n",
       "      <th>392654</th>\n",
       "      <td>0</td>\n",
       "      <td>평점이 너무 낮아서</td>\n",
       "      <td>1</td>\n",
       "    </tr>\n",
       "    <tr>\n",
       "      <th>392655</th>\n",
       "      <td>0</td>\n",
       "      <td>이게 뭐요 한국인은 거들먹거리고 필리핀 혼혈은 착하다</td>\n",
       "      <td>0</td>\n",
       "    </tr>\n",
       "    <tr>\n",
       "      <th>392656</th>\n",
       "      <td>0</td>\n",
       "      <td>청춘 영화의 최고봉방황과 우울했던 날들의 자화상</td>\n",
       "      <td>1</td>\n",
       "    </tr>\n",
       "    <tr>\n",
       "      <th>392657</th>\n",
       "      <td>0</td>\n",
       "      <td>한국 영화 최초로 수간하는 내용이 담긴 영화</td>\n",
       "      <td>0</td>\n",
       "    </tr>\n",
       "  </tbody>\n",
       "</table>\n",
       "<p>392658 rows × 3 columns</p>\n",
       "</div>"
      ],
      "text/plain": [
       "        ratings                                            reviews  label\n",
       "0             1  구매하고 두번썻는데 갑자기 사진처럼 분리되면서 떨어지네요 갑자기 떨어지길래 바닥에 ...      0\n",
       "1             1  많은 상품 시킨것도 아니고 꼴랑 화분 두개 시켰는데 커피색으로 주문했는데 회색화분을...      0\n",
       "2             5                                     온도금방올라가서 너무좋네요      1\n",
       "3             0           캐릭터는 이쁘다. 제작사는 꾸졌다. 게임은 추천 안한다. 요시 토바츠다!      0\n",
       "4             1       6월3일날 시켰는데 6월 8일날 오네요 휴가때 쓰려고 샀는데 휴가 끝나고왔습니다      0\n",
       "...         ...                                                ...    ...\n",
       "392653        0                                    인간이 문제지 소는 뭔죄인가      0\n",
       "392654        0                                         평점이 너무 낮아서      1\n",
       "392655        0                      이게 뭐요 한국인은 거들먹거리고 필리핀 혼혈은 착하다      0\n",
       "392656        0                         청춘 영화의 최고봉방황과 우울했던 날들의 자화상      1\n",
       "392657        0                           한국 영화 최초로 수간하는 내용이 담긴 영화      0\n",
       "\n",
       "[392658 rows x 3 columns]"
      ]
     },
     "execution_count": 144,
     "metadata": {},
     "output_type": "execute_result"
    }
   ],
   "source": [
    "train_data"
   ]
  },
  {
   "cell_type": "code",
   "execution_count": 145,
   "metadata": {},
   "outputs": [
    {
     "data": {
      "text/plain": [
       "ratings     int64\n",
       "reviews    object\n",
       "label       int64\n",
       "dtype: object"
      ]
     },
     "execution_count": 145,
     "metadata": {},
     "output_type": "execute_result"
    }
   ],
   "source": [
    "train_data.dtypes"
   ]
  },
  {
   "cell_type": "code",
   "execution_count": 146,
   "metadata": {},
   "outputs": [
    {
     "name": "stdout",
     "output_type": "stream",
     "text": [
      "/Users/anseon-yeong/수업/2021-2/텍스트정보처리/프로젝트/Mecab-ko-for-Google-Colab\n"
     ]
    }
   ],
   "source": [
    "%cd Mecab-ko-for-Google-Colab"
   ]
  },
  {
   "cell_type": "code",
   "execution_count": 95,
   "metadata": {},
   "outputs": [
    {
     "data": {
      "text/plain": [
       "'/Users/anseon-yeong/수업/2021-2/텍스트정보처리/프로젝트/Mecab-ko-for-Google-Colab'"
      ]
     },
     "execution_count": 95,
     "metadata": {},
     "output_type": "execute_result"
    }
   ],
   "source": [
    "pwd"
   ]
  },
  {
   "cell_type": "code",
   "execution_count": 147,
   "metadata": {},
   "outputs": [],
   "source": [
    "\n",
    "#형태소 분석기로 토큰화\n",
    "mecab = Mecab()\n",
    "\n",
    "#불용어 정의\n",
    "stopwords = ['은','는','이','가','도','다','의','한','에','하','고','을','를','인','듯','과','와','네','들','게','임','.','!','영화','..']"
   ]
  },
  {
   "cell_type": "code",
   "execution_count": 148,
   "metadata": {},
   "outputs": [
    {
     "name": "stderr",
     "output_type": "stream",
     "text": [
      "<ipython-input-148-2e4ce7832e47>:7: SettingWithCopyWarning: \n",
      "A value is trying to be set on a copy of a slice from a DataFrame.\n",
      "Try using .loc[row_indexer,col_indexer] = value instead\n",
      "\n",
      "See the caveats in the documentation: https://pandas.pydata.org/pandas-docs/stable/user_guide/indexing.html#returning-a-view-versus-a-copy\n",
      "  val_data['tokenized'] = val_data['reviews'].apply(mecab.morphs)\n",
      "<ipython-input-148-2e4ce7832e47>:8: SettingWithCopyWarning: \n",
      "A value is trying to be set on a copy of a slice from a DataFrame.\n",
      "Try using .loc[row_indexer,col_indexer] = value instead\n",
      "\n",
      "See the caveats in the documentation: https://pandas.pydata.org/pandas-docs/stable/user_guide/indexing.html#returning-a-view-versus-a-copy\n",
      "  val_data['tokenized'] = val_data['tokenized'].apply(lambda x: [item for item in x if item not in stopwords])\n"
     ]
    }
   ],
   "source": [
    "#훈련, 검증데이터 토큰화 및 불용어 제거\n",
    "train_data = train_data.copy()\n",
    "#val_data = val_data.copy()\n",
    "\n",
    "train_data['tokenized'] = train_data['reviews'].apply(mecab.morphs)\n",
    "train_data['tokenized'] = train_data['tokenized'].apply(lambda x: [item for item in x if item not in stopwords])\n",
    "val_data['tokenized'] = val_data['reviews'].apply(mecab.morphs)\n",
    "val_data['tokenized'] = val_data['tokenized'].apply(lambda x: [item for item in x if item not in stopwords])"
   ]
  },
  {
   "cell_type": "code",
   "execution_count": 149,
   "metadata": {},
   "outputs": [
    {
     "data": {
      "text/html": [
       "<div>\n",
       "<style scoped>\n",
       "    .dataframe tbody tr th:only-of-type {\n",
       "        vertical-align: middle;\n",
       "    }\n",
       "\n",
       "    .dataframe tbody tr th {\n",
       "        vertical-align: top;\n",
       "    }\n",
       "\n",
       "    .dataframe thead th {\n",
       "        text-align: right;\n",
       "    }\n",
       "</style>\n",
       "<table border=\"1\" class=\"dataframe\">\n",
       "  <thead>\n",
       "    <tr style=\"text-align: right;\">\n",
       "      <th></th>\n",
       "      <th>ratings</th>\n",
       "      <th>reviews</th>\n",
       "      <th>label</th>\n",
       "      <th>tokenized</th>\n",
       "    </tr>\n",
       "  </thead>\n",
       "  <tbody>\n",
       "    <tr>\n",
       "      <th>0</th>\n",
       "      <td>1</td>\n",
       "      <td>구매하고 두번썻는데 갑자기 사진처럼 분리되면서 떨어지네요 갑자기 떨어지길래 바닥에 ...</td>\n",
       "      <td>0</td>\n",
       "      <td>[구매, 두, 번, 썻는데, 갑자기, 사진, 처럼, 분리, 되, 면서, 떨어지, 네...</td>\n",
       "    </tr>\n",
       "    <tr>\n",
       "      <th>1</th>\n",
       "      <td>1</td>\n",
       "      <td>많은 상품 시킨것도 아니고 꼴랑 화분 두개 시켰는데 커피색으로 주문했는데 회색화분을...</td>\n",
       "      <td>0</td>\n",
       "      <td>[많, 상품, 시킨, 것, 아니, 꼴, 랑, 화분, 두, 개, 시켰, 는데, 커피색...</td>\n",
       "    </tr>\n",
       "    <tr>\n",
       "      <th>2</th>\n",
       "      <td>5</td>\n",
       "      <td>온도금방올라가서 너무좋네요</td>\n",
       "      <td>1</td>\n",
       "      <td>[온도, 금방, 올라가, 서, 너무, 좋, 네요]</td>\n",
       "    </tr>\n",
       "    <tr>\n",
       "      <th>3</th>\n",
       "      <td>0</td>\n",
       "      <td>캐릭터는 이쁘다. 제작사는 꾸졌다. 게임은 추천 안한다. 요시 토바츠다!</td>\n",
       "      <td>0</td>\n",
       "      <td>[캐릭터, 이쁘, 제작사, 꾸졌, 게임, 추천, 안, 한다, 요시, 토바, 츠다]</td>\n",
       "    </tr>\n",
       "    <tr>\n",
       "      <th>4</th>\n",
       "      <td>1</td>\n",
       "      <td>6월3일날 시켰는데 6월 8일날 오네요 휴가때 쓰려고 샀는데 휴가 끝나고왔습니다</td>\n",
       "      <td>0</td>\n",
       "      <td>[6, 월, 3, 일, 날, 시켰, 는데, 6, 월, 8, 일, 날, 오, 네요, ...</td>\n",
       "    </tr>\n",
       "    <tr>\n",
       "      <th>...</th>\n",
       "      <td>...</td>\n",
       "      <td>...</td>\n",
       "      <td>...</td>\n",
       "      <td>...</td>\n",
       "    </tr>\n",
       "    <tr>\n",
       "      <th>392653</th>\n",
       "      <td>0</td>\n",
       "      <td>인간이 문제지 소는 뭔죄인가</td>\n",
       "      <td>0</td>\n",
       "      <td>[인간, 문제지, 소, 뭔, 죄, 인가]</td>\n",
       "    </tr>\n",
       "    <tr>\n",
       "      <th>392654</th>\n",
       "      <td>0</td>\n",
       "      <td>평점이 너무 낮아서</td>\n",
       "      <td>1</td>\n",
       "      <td>[평점, 너무, 낮, 아서]</td>\n",
       "    </tr>\n",
       "    <tr>\n",
       "      <th>392655</th>\n",
       "      <td>0</td>\n",
       "      <td>이게 뭐요 한국인은 거들먹거리고 필리핀 혼혈은 착하다</td>\n",
       "      <td>0</td>\n",
       "      <td>[이게, 뭐, 요, 한국인, 거들먹거리, 필리핀, 혼혈, 착하]</td>\n",
       "    </tr>\n",
       "    <tr>\n",
       "      <th>392656</th>\n",
       "      <td>0</td>\n",
       "      <td>청춘 영화의 최고봉방황과 우울했던 날들의 자화상</td>\n",
       "      <td>1</td>\n",
       "      <td>[청춘, 최고봉, 방황, 우울, 했, 던, 날, 자화상]</td>\n",
       "    </tr>\n",
       "    <tr>\n",
       "      <th>392657</th>\n",
       "      <td>0</td>\n",
       "      <td>한국 영화 최초로 수간하는 내용이 담긴 영화</td>\n",
       "      <td>0</td>\n",
       "      <td>[한국, 최초, 로, 수간, 내용, 담긴]</td>\n",
       "    </tr>\n",
       "  </tbody>\n",
       "</table>\n",
       "<p>392658 rows × 4 columns</p>\n",
       "</div>"
      ],
      "text/plain": [
       "        ratings                                            reviews  label  \\\n",
       "0             1  구매하고 두번썻는데 갑자기 사진처럼 분리되면서 떨어지네요 갑자기 떨어지길래 바닥에 ...      0   \n",
       "1             1  많은 상품 시킨것도 아니고 꼴랑 화분 두개 시켰는데 커피색으로 주문했는데 회색화분을...      0   \n",
       "2             5                                     온도금방올라가서 너무좋네요      1   \n",
       "3             0           캐릭터는 이쁘다. 제작사는 꾸졌다. 게임은 추천 안한다. 요시 토바츠다!      0   \n",
       "4             1       6월3일날 시켰는데 6월 8일날 오네요 휴가때 쓰려고 샀는데 휴가 끝나고왔습니다      0   \n",
       "...         ...                                                ...    ...   \n",
       "392653        0                                    인간이 문제지 소는 뭔죄인가      0   \n",
       "392654        0                                         평점이 너무 낮아서      1   \n",
       "392655        0                      이게 뭐요 한국인은 거들먹거리고 필리핀 혼혈은 착하다      0   \n",
       "392656        0                         청춘 영화의 최고봉방황과 우울했던 날들의 자화상      1   \n",
       "392657        0                           한국 영화 최초로 수간하는 내용이 담긴 영화      0   \n",
       "\n",
       "                                                tokenized  \n",
       "0       [구매, 두, 번, 썻는데, 갑자기, 사진, 처럼, 분리, 되, 면서, 떨어지, 네...  \n",
       "1       [많, 상품, 시킨, 것, 아니, 꼴, 랑, 화분, 두, 개, 시켰, 는데, 커피색...  \n",
       "2                             [온도, 금방, 올라가, 서, 너무, 좋, 네요]  \n",
       "3           [캐릭터, 이쁘, 제작사, 꾸졌, 게임, 추천, 안, 한다, 요시, 토바, 츠다]  \n",
       "4       [6, 월, 3, 일, 날, 시켰, 는데, 6, 월, 8, 일, 날, 오, 네요, ...  \n",
       "...                                                   ...  \n",
       "392653                             [인간, 문제지, 소, 뭔, 죄, 인가]  \n",
       "392654                                    [평점, 너무, 낮, 아서]  \n",
       "392655                [이게, 뭐, 요, 한국인, 거들먹거리, 필리핀, 혼혈, 착하]  \n",
       "392656                    [청춘, 최고봉, 방황, 우울, 했, 던, 날, 자화상]  \n",
       "392657                            [한국, 최초, 로, 수간, 내용, 담긴]  \n",
       "\n",
       "[392658 rows x 4 columns]"
      ]
     },
     "execution_count": 149,
     "metadata": {},
     "output_type": "execute_result"
    }
   ],
   "source": [
    "train_data"
   ]
  },
  {
   "cell_type": "code",
   "execution_count": 150,
   "metadata": {},
   "outputs": [
    {
     "data": {
      "text/plain": [
       "[('네요', 43311),\n",
       " ('안', 40385),\n",
       " ('는데', 37686),\n",
       " ('있', 37135),\n",
       " ('게임', 36697),\n",
       " ('지', 35671),\n",
       " ('없', 32691),\n",
       " ('보', 25488),\n",
       " ('너무', 25462),\n",
       " ('만', 25409),\n",
       " ('좋', 24458),\n",
       " ('했', 23786),\n",
       " ('면', 22926),\n",
       " ('나', 22838),\n",
       " ('같', 22143),\n",
       " ('되', 21896),\n",
       " ('거', 21744),\n",
       " ('어', 20982),\n",
       " ('로', 20938),\n",
       " ('어요', 19567)]"
      ]
     },
     "execution_count": 150,
     "metadata": {},
     "output_type": "execute_result"
    }
   ],
   "source": [
    "#긍정리뷰와 부정리뷰에 자주 등장하는 단어 확인\n",
    "negative_words = np.hstack(train_data[train_data.label == 0]['tokenized'].values)\n",
    "positive_words = np.hstack(train_data[train_data.label == 1]['tokenized'].values)\n",
    "\n",
    "negative_word_count = Counter(negative_words)\n",
    "negative_word_count.most_common(20)\n",
    "\n"
   ]
  },
  {
   "cell_type": "code",
   "execution_count": 151,
   "metadata": {},
   "outputs": [
    {
     "data": {
      "text/plain": [
       "[('좋', 52890),\n",
       " ('네요', 27547),\n",
       " ('어요', 26182),\n",
       " ('잘', 24865),\n",
       " ('있', 24317),\n",
       " ('아요', 24078),\n",
       " ('습니다', 18918),\n",
       " ('는데', 18688),\n",
       " ('보', 17762),\n",
       " ('구매', 17393),\n",
       " ('너무', 15196),\n",
       " ('했', 14774),\n",
       " ('지', 13746),\n",
       " ('배송', 13055),\n",
       " ('같', 12817),\n",
       " ('었', 12221),\n",
       " ('합니다', 11993),\n",
       " ('먹', 11438),\n",
       " ('재', 11415),\n",
       " ('아', 11169)]"
      ]
     },
     "execution_count": 151,
     "metadata": {},
     "output_type": "execute_result"
    }
   ],
   "source": [
    "positive_word_count = Counter(positive_words)\n",
    "positive_word_count.most_common(20)"
   ]
  },
  {
   "cell_type": "code",
   "execution_count": 152,
   "metadata": {},
   "outputs": [],
   "source": [
    "X_train = train_data['tokenized'].values\n",
    "y_train = train_data['label'].values\n",
    "X_val = val_data['tokenized'].values\n",
    "y_val = val_data['label'].values"
   ]
  },
  {
   "cell_type": "code",
   "execution_count": 153,
   "metadata": {},
   "outputs": [],
   "source": [
    "#단어 집합 생성\n",
    "tokenizer = Tokenizer()\n",
    "tokenizer.fit_on_texts(X_train)\n"
   ]
  },
  {
   "cell_type": "code",
   "execution_count": 154,
   "metadata": {},
   "outputs": [
    {
     "name": "stdout",
     "output_type": "stream",
     "text": [
      "단어 집합(vocabulary)의 크기 :  87739\n"
     ]
    }
   ],
   "source": [
    "#등장 횟수가 1회인 단어들은 제거\n",
    "threshold = 2\n",
    "\n",
    "total_cnt = len(tokenizer.word_index)#총 단어수\n",
    "rare_cnt = 0 # 등장 횟수가 1회인 단어 카운트\n",
    "\n",
    "for key, value in tokenizer.word_counts.items():\n",
    "    \n",
    "    if(value < threshold):\n",
    "        rare_cnt = rare_cnt + 1\n",
    "        \n",
    "print('단어 집합(vocabulary)의 크기 : ',total_cnt)\n",
    "\n"
   ]
  },
  {
   "cell_type": "code",
   "execution_count": 155,
   "metadata": {},
   "outputs": [
    {
     "name": "stdout",
     "output_type": "stream",
     "text": [
      "단어 집합의 크기 : 49387\n"
     ]
    }
   ],
   "source": [
    "vocab_size = total_cnt - rare_cnt + 2\n",
    "print('단어 집합의 크기 :',vocab_size)"
   ]
  },
  {
   "cell_type": "code",
   "execution_count": 156,
   "metadata": {},
   "outputs": [],
   "source": [
    "tokenzier = Tokenizer(vocab_size, oov_token = 'OOV')\n",
    "tokenzier.fit_on_texts(X_train)\n",
    "X_train = tokenizer.texts_to_sequences(X_train)\n",
    "X_val = tokenizer.texts_to_sequences(X_val)"
   ]
  },
  {
   "cell_type": "code",
   "execution_count": 157,
   "metadata": {},
   "outputs": [
    {
     "name": "stdout",
     "output_type": "stream",
     "text": [
      "[25, 110, 75, 5249, 837, 305, 268, 2014, 21, 137, 460, 2, 837, 460, 667, 933, 2959, 416, 10, 1358, 2]\n",
      "[1745, 9, 63, 170, 73, 79, 12, 13]\n"
     ]
    }
   ],
   "source": [
    "print(X_train[0])\n",
    "print(X_val[0])"
   ]
  },
  {
   "cell_type": "code",
   "execution_count": 158,
   "metadata": {},
   "outputs": [
    {
     "name": "stdout",
     "output_type": "stream",
     "text": [
      "리뷰의 최대 길이 :  91\n",
      "리뷰의 평균 길이 : 14.744999465183442\n"
     ]
    },
    {
     "data": {
      "image/png": "[encoded data removed]",
      "text/plain": [
       "<Figure size 432x288 with 1 Axes>"
      ]
     },
     "metadata": {
      "needs_background": "light"
     },
     "output_type": "display_data"
    }
   ],
   "source": [
    "#패딩을 위해 최대 길이와 길이 분포 확인\n",
    "\n",
    "print('리뷰의 최대 길이 : ', max(len(l) for l in X_train))\n",
    "print('리뷰의 평균 길이 :' , sum(map(len, X_train))/len(X_train))\n",
    "\n",
    "plt.hist([len(s) for s in X_train], bins = 50)\n",
    "plt.xlabel('length of samples')\n",
    "plt.ylabel('number of samples')\n",
    "plt.show()"
   ]
  },
  {
   "cell_type": "code",
   "execution_count": 159,
   "metadata": {},
   "outputs": [
    {
     "name": "stdout",
     "output_type": "stream",
     "text": [
      "(392658, 80)\n",
      "(60869, 80)\n"
     ]
    }
   ],
   "source": [
    "#최대 길이 80으로 패딩\n",
    "\n",
    "max_len = 80\n",
    "X_train = pad_sequences(X_train, maxlen = max_len)\n",
    "X_val = pad_sequences(X_val, maxlen = max_len)\n",
    "\n",
    "print(X_train.shape)\n",
    "print(X_val.shape)"
   ]
  },
  {
   "cell_type": "code",
   "execution_count": 160,
   "metadata": {},
   "outputs": [
    {
     "name": "stdout",
     "output_type": "stream",
     "text": [
      "[   0    0    0    0    0    0    0    0    0    0    0    0    0    0\n",
      "    0    0    0    0    0    0    0    0    0    0    0    0    0    0\n",
      "    0    0    0    0    0    0    0    0    0    0    0    0    0    0\n",
      "    0    0    0    0    0    0    0    0    0    0    0    0    0    0\n",
      "    0    0    0   25  110   75 5249  837  305  268 2014   21  137  460\n",
      "    2  837  460  667  933 2959  416   10 1358    2]\n",
      "[   0    0    0    0    0    0    0    0    0    0    0    0    0    0\n",
      "    0    0    0    0    0    0    0    0    0    0    0    0    0    0\n",
      "    0    0    0    0    0    0    0    0    0    0    0    0    0    0\n",
      "    0    0    0    0    0    0    0    0    0    0    0    0    0    0\n",
      "    0    0    0    0    0    0    0    0    0    0    0    0    0    0\n",
      "    0    0 1745    9   63  170   73   79   12   13]\n"
     ]
    }
   ],
   "source": [
    "print(X_train[0])\n",
    "print(X_val[0])"
   ]
  },
  {
   "cell_type": "code",
   "execution_count": 161,
   "metadata": {},
   "outputs": [],
   "source": [
    "from tensorflow.keras.layers import Dense, LSTM, Dropout, Conv1D, MaxPooling1D, Activation, Bidirectional\n",
    "from tensorflow.keras.models import Sequential\n",
    "from keras.layers.embeddings import Embedding\n",
    "from tensorflow.keras.callbacks import EarlyStopping, ModelCheckpoint"
   ]
  },
  {
   "cell_type": "code",
   "execution_count": 57,
   "metadata": {},
   "outputs": [
    {
     "name": "stdout",
     "output_type": "stream",
     "text": [
      "Model: \"sequential\"\n",
      "_________________________________________________________________\n",
      " Layer (type)                Output Shape              Param #   \n",
      "=================================================================\n",
      " dense (Dense)               (None, 128)               10368     \n",
      "                                                                 \n",
      " dense_1 (Dense)             (None, 64)                8256      \n",
      "                                                                 \n",
      " dropout (Dropout)           (None, 64)                0         \n",
      "                                                                 \n",
      " dense_2 (Dense)             (None, 32)                2080      \n",
      "                                                                 \n",
      " dense_3 (Dense)             (None, 1)                 33        \n",
      "                                                                 \n",
      "=================================================================\n",
      "Total params: 20,737\n",
      "Trainable params: 20,737\n",
      "Non-trainable params: 0\n",
      "_________________________________________________________________\n"
     ]
    }
   ],
   "source": [
    "#모델1 Dense layers\n",
    "model = Sequential()\n",
    "\n",
    "model.add(Dense(128, input_shape=(80,)))\n",
    "model.add(Dense(64))\n",
    "model.add(Dropout(0.5))\n",
    "model.add(Dense(32,activation='relu'))\n",
    "model.add(Dense(1,activation='sigmoid'))\n",
    "\n",
    "model.compile(optimizer='rmsprop', loss='binary_crossentropy', metrics='accuracy')\n",
    "model.summary()"
   ]
  },
  {
   "cell_type": "code",
   "execution_count": 58,
   "metadata": {},
   "outputs": [
    {
     "name": "stdout",
     "output_type": "stream",
     "text": [
      "Epoch 1/10\n",
      "3865/3865 [==============================] - 5s 1ms/step - loss: 26.8481 - accuracy: 0.5045 - val_loss: 0.6932 - val_accuracy: 0.5009\n",
      "Epoch 2/10\n",
      "3865/3865 [==============================] - 4s 1ms/step - loss: 0.7128 - accuracy: 0.5015 - val_loss: 0.6931 - val_accuracy: 0.5009\n",
      "Epoch 3/10\n",
      "3865/3865 [==============================] - 4s 1ms/step - loss: 0.7029 - accuracy: 0.5009 - val_loss: 0.6932 - val_accuracy: 0.4991\n",
      "Epoch 4/10\n",
      "3865/3865 [==============================] - 4s 1ms/step - loss: 0.6993 - accuracy: 0.4997 - val_loss: 0.6931 - val_accuracy: 0.4991\n",
      "Epoch 5/10\n",
      "3865/3865 [==============================] - 4s 1ms/step - loss: 0.7002 - accuracy: 0.5014 - val_loss: 0.6931 - val_accuracy: 0.5009\n",
      "Epoch 6/10\n",
      "3865/3865 [==============================] - 4s 1ms/step - loss: 0.6983 - accuracy: 0.5008 - val_loss: 0.6931 - val_accuracy: 0.4991\n",
      "Epoch 7/10\n",
      "3865/3865 [==============================] - 4s 1ms/step - loss: 0.6961 - accuracy: 0.4988 - val_loss: 0.6932 - val_accuracy: 0.4991\n",
      "Epoch 8/10\n",
      "3865/3865 [==============================] - 4s 1ms/step - loss: 0.6950 - accuracy: 0.4987 - val_loss: 0.6932 - val_accuracy: 0.4991\n",
      "Epoch 9/10\n",
      "3865/3865 [==============================] - 4s 1ms/step - loss: 0.6971 - accuracy: 0.5000 - val_loss: 0.6931 - val_accuracy: 0.5009\n",
      "Epoch 10/10\n",
      "3865/3865 [==============================] - 4s 1ms/step - loss: 0.7031 - accuracy: 0.4982 - val_loss: 0.6931 - val_accuracy: 0.5009\n"
     ]
    }
   ],
   "source": [
    "history = model.fit(X_train, y_train, epochs=10, batch_size=64,validation_split=0.2)"
   ]
  },
  {
   "cell_type": "code",
   "execution_count": 59,
   "metadata": {},
   "outputs": [
    {
     "name": "stdout",
     "output_type": "stream",
     "text": [
      "1250/1250 [==============================] - 1s 879us/step - loss: 0.6932 - accuracy: 0.4970\n",
      "\n",
      " 테스트 정확도 : 0.497000\n"
     ]
    }
   ],
   "source": [
    "print(\"\\n 테스트 정확도 : %4f\"%(model.evaluate(X_val,y_val)[1]))"
   ]
  },
  {
   "cell_type": "code",
   "execution_count": 60,
   "metadata": {},
   "outputs": [
    {
     "name": "stdout",
     "output_type": "stream",
     "text": [
      "80\n"
     ]
    }
   ],
   "source": [
    "print(max_len)"
   ]
  },
  {
   "cell_type": "code",
   "execution_count": 122,
   "metadata": {},
   "outputs": [
    {
     "name": "stdout",
     "output_type": "stream",
     "text": [
      "48970\n"
     ]
    }
   ],
   "source": [
    "print(vocab_size)"
   ]
  },
  {
   "cell_type": "code",
   "execution_count": 165,
   "metadata": {},
   "outputs": [
    {
     "name": "stdout",
     "output_type": "stream",
     "text": [
      "Model: \"sequential_5\"\n",
      "_________________________________________________________________\n",
      " Layer (type)                Output Shape              Param #   \n",
      "=================================================================\n",
      " embedding_4 (Embedding)     (None, None, 80)          31412640  \n",
      "                                                                 \n",
      " lstm_4 (LSTM)               (None, 64)                37120     \n",
      "                                                                 \n",
      " dropout_5 (Dropout)         (None, 64)                0         \n",
      "                                                                 \n",
      " dense_8 (Dense)             (None, 1)                 65        \n",
      "                                                                 \n",
      "=================================================================\n",
      "Total params: 31,449,825\n",
      "Trainable params: 31,449,825\n",
      "Non-trainable params: 0\n",
      "_________________________________________________________________\n"
     ]
    }
   ],
   "source": [
    "#모델2 Simple LSTM\n",
    "\n",
    "model_ = Sequential()\n",
    "\n",
    "#model_.add(Embedding(vocab_size,80))\n",
    "model_.add(Embedding(392658,80))\n",
    "\n",
    "model_.add(LSTM(64, input_shape=(80,)))\n",
    "model_.add(Dropout(0.5))\n",
    "model_.add(Dense(1,activation='sigmoid'))\n",
    "\n",
    "model_.compile(optimizer='rmsprop', loss='binary_crossentropy', metrics='accuracy')\n",
    "model_.summary()"
   ]
  },
  {
   "cell_type": "code",
   "execution_count": 166,
   "metadata": {},
   "outputs": [
    {
     "data": {
      "text/plain": [
       "(392658, 80)"
      ]
     },
     "execution_count": 166,
     "metadata": {},
     "output_type": "execute_result"
    }
   ],
   "source": [
    "X_train.shape"
   ]
  },
  {
   "cell_type": "code",
   "execution_count": 167,
   "metadata": {},
   "outputs": [
    {
     "name": "stdout",
     "output_type": "stream",
     "text": [
      "Epoch 1/5\n",
      "4909/4909 [==============================] - 460s 93ms/step - loss: 0.2877 - accuracy: 0.8819 - val_loss: 0.4104 - val_accuracy: 0.8125\n",
      "Epoch 2/5\n",
      "4909/4909 [==============================] - 456s 93ms/step - loss: 0.2431 - accuracy: 0.9037 - val_loss: 0.3913 - val_accuracy: 0.8228\n",
      "Epoch 3/5\n",
      "4909/4909 [==============================] - 455s 93ms/step - loss: 0.2261 - accuracy: 0.9127 - val_loss: 0.3976 - val_accuracy: 0.8247\n",
      "Epoch 4/5\n",
      "4909/4909 [==============================] - 439s 89ms/step - loss: 0.2141 - accuracy: 0.9183 - val_loss: 0.4178 - val_accuracy: 0.8223\n",
      "Epoch 5/5\n",
      "4909/4909 [==============================] - 439s 90ms/step - loss: 0.2056 - accuracy: 0.9225 - val_loss: 0.3855 - val_accuracy: 0.8285\n"
     ]
    }
   ],
   "source": [
    "history_ = model_.fit(X_train, y_train, epochs = 5,batch_size=64,validation_split=0.2)"
   ]
  },
  {
   "cell_type": "code",
   "execution_count": 168,
   "metadata": {},
   "outputs": [
    {
     "name": "stdout",
     "output_type": "stream",
     "text": [
      "1903/1903 [==============================] - 10s 5ms/step - loss: 0.1904 - accuracy: 0.9295\n",
      "\n",
      " 테스트 정확도 : 0.929504\n"
     ]
    }
   ],
   "source": [
    "print(\"\\n 테스트 정확도 : %4f\"%(model_.evaluate(X_val,y_val)[1]))"
   ]
  },
  {
   "cell_type": "code",
   "execution_count": 51,
   "metadata": {},
   "outputs": [
    {
     "data": {
      "text/plain": [
       "'/Users/anseon-yeong/수업/2021-2/텍스트정보처리/프로젝트/Mecab-ko-for-Google-Colab'"
      ]
     },
     "execution_count": 51,
     "metadata": {},
     "output_type": "execute_result"
    }
   ],
   "source": [
    "pwd"
   ]
  },
  {
   "cell_type": "code",
   "execution_count": 172,
   "metadata": {},
   "outputs": [
    {
     "name": "stdout",
     "output_type": "stream",
     "text": [
      "Model: \"sequential_6\"\n",
      "_________________________________________________________________\n",
      " Layer (type)                Output Shape              Param #   \n",
      "=================================================================\n",
      " embedding_5 (Embedding)     (None, None, 80)          31412640  \n",
      "                                                                 \n",
      " dropout_6 (Dropout)         (None, None, 80)          0         \n",
      "                                                                 \n",
      " conv1d (Conv1D)             (None, None, 300)         72300     \n",
      "                                                                 \n",
      " max_pooling1d (MaxPooling1D  (None, None, 300)        0         \n",
      " )                                                               \n",
      "                                                                 \n",
      " bidirectional (Bidirectiona  (None, 200)              320800    \n",
      " l)                                                              \n",
      "                                                                 \n",
      " dropout_7 (Dropout)         (None, 200)               0         \n",
      "                                                                 \n",
      " dense_9 (Dense)             (None, 32)                6432      \n",
      "                                                                 \n",
      " dense_10 (Dense)            (None, 1)                 33        \n",
      "                                                                 \n",
      "=================================================================\n",
      "Total params: 31,812,205\n",
      "Trainable params: 31,812,205\n",
      "Non-trainable params: 0\n",
      "_________________________________________________________________\n"
     ]
    }
   ],
   "source": [
    "#모델3 CNN+bi-LSTM\n",
    "\n",
    "model__ = Sequential()\n",
    "\n",
    "model__.add(Embedding(392658,80))\n",
    "model__.add(Dropout(0.5))\n",
    "model__.add(Conv1D(300,3,padding = 'same', activation = \"relu\", strides=1))\n",
    "model__.add(MaxPooling1D(pool_size=4))\n",
    "model__.add(Bidirectional(LSTM(100,activation='relu')))\n",
    "model__.add(Dropout(0.5))\n",
    "model__.add(Dense(32, activation='relu'))\n",
    "model__.add(Dense(1, activation = 'sigmoid'))\n",
    "\n",
    "\n",
    "model__.compile(optimizer='rmsprop', loss='binary_crossentropy', metrics='accuracy')\n",
    "model__.summary()\n"
   ]
  },
  {
   "cell_type": "code",
   "execution_count": 173,
   "metadata": {},
   "outputs": [
    {
     "name": "stdout",
     "output_type": "stream",
     "text": [
      "Epoch 1/5\n",
      "4909/4909 [==============================] - 523s 106ms/step - loss: 0.3100 - accuracy: 0.8767 - val_loss: 0.5127 - val_accuracy: 0.7804\n",
      "Epoch 2/5\n",
      "4909/4909 [==============================] - 526s 107ms/step - loss: 0.3908 - accuracy: 0.8951 - val_loss: 0.4350 - val_accuracy: 0.8039\n",
      "Epoch 3/5\n",
      "4909/4909 [==============================] - 530s 108ms/step - loss: 1.0168 - accuracy: 0.8708 - val_loss: 0.4550 - val_accuracy: 0.7928\n",
      "Epoch 4/5\n",
      "4909/4909 [==============================] - 530s 108ms/step - loss: 0.8566 - accuracy: 0.6820 - val_loss: 0.7185 - val_accuracy: 0.5016\n",
      "Epoch 5/5\n",
      "4909/4909 [==============================] - 530s 108ms/step - loss: 0.9505 - accuracy: 0.7053 - val_loss: 0.7226 - val_accuracy: 0.5009\n"
     ]
    }
   ],
   "source": [
    "history__ = model__.fit(X_train, y_train, epochs = 5, batch_size=64,validation_split=0.2)"
   ]
  },
  {
   "cell_type": "code",
   "execution_count": 174,
   "metadata": {},
   "outputs": [
    {
     "name": "stdout",
     "output_type": "stream",
     "text": [
      "1903/1903 [==============================] - 9s 5ms/step - loss: 0.6415 - accuracy: 0.6658\n",
      "\n",
      " 테스트 정확도 : 0.665807\n"
     ]
    }
   ],
   "source": [
    "print(\"\\n 테스트 정확도 : %4f\"%(model__.evaluate(X_val,y_val)[1]))"
   ]
  },
  {
   "cell_type": "code",
   "execution_count": 52,
   "metadata": {},
   "outputs": [
    {
     "name": "stdout",
     "output_type": "stream",
     "text": [
      "/Users/anseon-yeong/수업/2021-2/텍스트정보처리/프로젝트\n"
     ]
    }
   ],
   "source": [
    "%cd .."
   ]
  },
  {
   "cell_type": "code",
   "execution_count": null,
   "metadata": {},
   "outputs": [],
   "source": [
    "model_.save('best_model.h5')#학습 모델 저장"
   ]
  },
  {
   "cell_type": "code",
   "execution_count": null,
   "metadata": {},
   "outputs": [],
   "source": [
    "from keras.models import load_model\n",
    "loaded_model = load_model('./best_model.h5')#저장한 모델 불러오기"
   ]
  },
  {
   "cell_type": "code",
   "execution_count": null,
   "metadata": {},
   "outputs": [],
   "source": [
    "y_pred = loaded_model.predict(X_val)\n",
    "y_pred = np.round(y_pred)"
   ]
  },
  {
   "cell_type": "code",
   "execution_count": null,
   "metadata": {},
   "outputs": [],
   "source": [
    "import pandas as pd\n",
    "predictions = pd.DataFrame(y_pred).to_csv('./prediction.csv')"
   ]
  },
  {
   "cell_type": "code",
   "execution_count": 169,
   "metadata": {},
   "outputs": [
    {
     "name": "stdout",
     "output_type": "stream",
     "text": [
      "Accuracy score :  0.9295043453974929\n",
      "              precision    recall  f1-score   support\n",
      "\n",
      "           0       0.97      0.93      0.95     40527\n",
      "           1       0.87      0.93      0.90     20342\n",
      "\n",
      "    accuracy                           0.93     60869\n",
      "   macro avg       0.92      0.93      0.92     60869\n",
      "weighted avg       0.93      0.93      0.93     60869\n",
      "\n"
     ]
    }
   ],
   "source": [
    "from sklearn.metrics import accuracy_score\n",
    "from sklearn.metrics import classification_report\n",
    "\n",
    "y_pred = model_.predict(X_val)\n",
    "y_pred = np.round(y_pred)\n",
    "print(\"Accuracy score : \", accuracy_score(y_val,y_pred))\n",
    "print(classification_report(y_val,y_pred))"
   ]
  },
  {
   "cell_type": "code",
   "execution_count": 170,
   "metadata": {},
   "outputs": [],
   "source": [
    "def sentiment_predict(sentence, load_model):\n",
    "  sentence = mecab.morphs(sentence)\n",
    "  sentence = [word for word in sentence if not word in stopwords]\n",
    "  encoded = tokenizer.texts_to_sequences([sentence])\n",
    "  padding = pad_sequences(encoded,maxlen=max_len)\n",
    "  score = float(load_model.predict(padding))\n",
    "\n",
    "  if score > 0.5:\n",
    "    print('{:.2f}% 긍정 리뷰'.format(score*100))\n",
    "  else:\n",
    "    print('{:.2f}% 부정 리뷰'.format((1-score)*100))"
   ]
  },
  {
   "cell_type": "code",
   "execution_count": 171,
   "metadata": {},
   "outputs": [
    {
     "name": "stdout",
     "output_type": "stream",
     "text": [
      "94.19% 부정 리뷰\n"
     ]
    }
   ],
   "source": [
    "sentiment_predict('케이크 엄청 늦게 나오고 테이크아웃도 안돼요. 직원들 전반적으로 불친절함', model_)"
   ]
  },
  {
   "cell_type": "code",
   "execution_count": null,
   "metadata": {},
   "outputs": [],
   "source": []
  }
 ],
 "metadata": {
  "kernelspec": {
   "display_name": "Python 3",
   "language": "python",
   "name": "python3"
  },
  "language_info": {
   "codemirror_mode": {
    "name": "ipython",
    "version": 3
   },
   "file_extension": ".py",
   "mimetype": "text/x-python",
   "name": "python",
   "nbconvert_exporter": "python",
   "pygments_lexer": "ipython3",
   "version": "3.8.5"
  }
 },
 "nbformat": 4,
 "nbformat_minor": 4
}
