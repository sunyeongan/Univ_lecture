{
 "cells": [
  {
   "cell_type": "code",
   "execution_count": 16,
   "metadata": {},
   "outputs": [
    {
     "name": "stdout",
     "output_type": "stream",
     "text": [
      "Requirement already satisfied: feedparser in /opt/anaconda3/lib/python3.8/site-packages (6.0.8)\r\n",
      "Requirement already satisfied: sgmllib3k in /opt/anaconda3/lib/python3.8/site-packages (from feedparser) (1.0.0)\r\n"
     ]
    }
   ],
   "source": [
    "!pip install feedparser"
   ]
  },
  {
   "cell_type": "code",
   "execution_count": 17,
   "metadata": {},
   "outputs": [],
   "source": [
    "import feedparser"
   ]
  },
  {
   "cell_type": "code",
   "execution_count": 18,
   "metadata": {},
   "outputs": [],
   "source": [
    "myFeed = feedparser.parse(\"http://feeds.mashable.com/Mashable\")"
   ]
  },
  {
   "cell_type": "code",
   "execution_count": 19,
   "metadata": {},
   "outputs": [
    {
     "name": "stdout",
     "output_type": "stream",
     "text": [
      "피드 제목 : Mashable\n",
      "포스트 수 : 100\n"
     ]
    }
   ],
   "source": [
    "print('피드 제목 :', myFeed['feed']['title'])\n",
    "print('포스트 수 :', len(myFeed.entries))"
   ]
  },
  {
   "cell_type": "code",
   "execution_count": 24,
   "metadata": {},
   "outputs": [
    {
     "name": "stdout",
     "output_type": "stream",
     "text": [
      "포스트 제목 : SpaceX civilian crew has an update from space featuring a stuffed dog and a ukulele\n"
     ]
    }
   ],
   "source": [
    "post = myFeed.entries[0]\n",
    "print('포스트 제목 :', post.title)"
   ]
  },
  {
   "cell_type": "code",
   "execution_count": 32,
   "metadata": {
    "scrolled": false
   },
   "outputs": [
    {
     "name": "stdout",
     "output_type": "stream",
     "text": [
      "콘텐츠 원본 : \n",
      " {'title': 'SpaceX civilian crew has an update from space featuring a stuffed dog and a ukulele', 'title_detail': {'type': 'text/plain', 'language': None, 'base': 'http://feeds.mashable.com/Mashable', 'value': 'SpaceX civilian crew has an update from space featuring a stuffed dog and a ukulele'}, 'links': [{'rel': 'alternate', 'type': 'text/html', 'href': 'http://feeds.mashable.com/~r/Mashable/~3/Y0TGso0eIeM/spacex-inspiration4-civilian-crew-video'}], 'link': 'http://feeds.mashable.com/~r/Mashable/~3/Y0TGso0eIeM/spacex-inspiration4-civilian-crew-video', 'id': '02BLqNTMOuW6e4YHurKXiZm', 'guidislink': False, 'published': 'Sat, 18 Sep 21 16:00:19 +0000', 'published_parsed': time.struct_time(tm_year=2021, tm_mon=9, tm_mday=18, tm_hour=16, tm_min=0, tm_sec=19, tm_wday=5, tm_yday=261, tm_isdst=0), 'summary': '<img alt=\"\" src=\"https://helios-i.mashable.com/imagery/videos/02BLqNTMOuW6e4YHurKXiZm/hero-image.png\" /><p>Look at the four space geeks reveling in the thrill of spending time in outer space.</p><p>The all-civilian crew of SpaceX\\'s Inspiration4 mission, who have been circling the Earth from orbit <a href=\"https://mashable.com/article/spacex-inspiration4-first-civilian-spaceflight\">since Wednesday evening</a>, stepped in front of a camera to deliver an update on Friday night. If you\\'re looking for big news and dense discussions of science, look elsewhere. This is just four people having an absolute blast.</p><p>After a less-than-impressive attempt to show off their view from space &mdash; <a href=\"https://mashable.com/article/spacex-inspiration4-orbit-photos\">they already sent back better looks</a> &mdash; civilian astronauts Hayley Arceneaux, Jared Isaacman, Dr. Sian Proctor, and Chris Sembroski spend the rest of their video time showing off what they\\'ve been doing since Wednesday.</p><p>Dr. Proctor shows off some of the fantasy-meets-SpaceX art she\\'s created using metallic markers (specifically for science). Sembroski talks about bringing more of our \"humanities\" to space before he strums a brief tune on his ukulele. The video caps off with Arceneaux showing off the stuffed dog that was used to confirm that the <i>Resilience</i> had reached a zero-gravity environment &mdash; <a href=\"https://mashable.com/article/stuffed-animals-nasa-space-station-soyuz\">actually a common practice!</a> &mdash; and explain its connection to the St. Jude Children\\'s Research Hospital, <a href=\"https://www.stjude.org/get-involved/other-ways/inspiration4.html\">which the mission is raising funds to support</a>.</p><img alt=\"\" height=\"1\" src=\"http://feeds.feedburner.com/~r/Mashable/~4/Y0TGso0eIeM\" width=\"1\" />', 'summary_detail': {'type': 'text/html', 'language': None, 'base': 'http://feeds.mashable.com/Mashable', 'value': '<img alt=\"\" src=\"https://helios-i.mashable.com/imagery/videos/02BLqNTMOuW6e4YHurKXiZm/hero-image.png\" /><p>Look at the four space geeks reveling in the thrill of spending time in outer space.</p><p>The all-civilian crew of SpaceX\\'s Inspiration4 mission, who have been circling the Earth from orbit <a href=\"https://mashable.com/article/spacex-inspiration4-first-civilian-spaceflight\">since Wednesday evening</a>, stepped in front of a camera to deliver an update on Friday night. If you\\'re looking for big news and dense discussions of science, look elsewhere. This is just four people having an absolute blast.</p><p>After a less-than-impressive attempt to show off their view from space &mdash; <a href=\"https://mashable.com/article/spacex-inspiration4-orbit-photos\">they already sent back better looks</a> &mdash; civilian astronauts Hayley Arceneaux, Jared Isaacman, Dr. Sian Proctor, and Chris Sembroski spend the rest of their video time showing off what they\\'ve been doing since Wednesday.</p><p>Dr. Proctor shows off some of the fantasy-meets-SpaceX art she\\'s created using metallic markers (specifically for science). Sembroski talks about bringing more of our \"humanities\" to space before he strums a brief tune on his ukulele. The video caps off with Arceneaux showing off the stuffed dog that was used to confirm that the <i>Resilience</i> had reached a zero-gravity environment &mdash; <a href=\"https://mashable.com/article/stuffed-animals-nasa-space-station-soyuz\">actually a common practice!</a> &mdash; and explain its connection to the St. Jude Children\\'s Research Hospital, <a href=\"https://www.stjude.org/get-involved/other-ways/inspiration4.html\">which the mission is raising funds to support</a>.</p><img alt=\"\" height=\"1\" src=\"http://feeds.feedburner.com/~r/Mashable/~4/Y0TGso0eIeM\" width=\"1\" />'}, 'feedburner_origlink': 'https://mashable.com/video/spacex-inspiration4-civilian-crew-video'}\n"
     ]
    }
   ],
   "source": [
    "#content2 = post.content[0].value -> error 발생 \n",
    "print('콘텐츠 원본 : \\n', post)"
   ]
  },
  {
   "cell_type": "code",
   "execution_count": null,
   "metadata": {},
   "outputs": [],
   "source": []
  }
 ],
 "metadata": {
  "kernelspec": {
   "display_name": "Python 3",
   "language": "python",
   "name": "python3"
  },
  "language_info": {
   "codemirror_mode": {
    "name": "ipython",
    "version": 3
   },
   "file_extension": ".py",
   "mimetype": "text/x-python",
   "name": "python",
   "nbconvert_exporter": "python",
   "pygments_lexer": "ipython3",
   "version": "3.8.5"
  }
 },
 "nbformat": 4,
 "nbformat_minor": 4
}
