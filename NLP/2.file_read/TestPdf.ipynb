{
 "cells": [
  {
   "cell_type": "code",
   "execution_count": 1,
   "metadata": {},
   "outputs": [
    {
     "name": "stdout",
     "output_type": "stream",
     "text": [
      "Requirement already satisfied: PyPDF2 in /opt/anaconda3/lib/python3.8/site-packages (1.26.0)\r\n"
     ]
    }
   ],
   "source": [
    "!pip3 install PyPDF2"
   ]
  },
  {
   "cell_type": "code",
   "execution_count": 2,
   "metadata": {},
   "outputs": [],
   "source": [
    "from PyPDF2 import PdfFileReader"
   ]
  },
  {
   "cell_type": "code",
   "execution_count": 5,
   "metadata": {},
   "outputs": [],
   "source": [
    "import pdf"
   ]
  },
  {
   "cell_type": "code",
   "execution_count": 6,
   "metadata": {},
   "outputs": [
    {
     "name": "stdout",
     "output_type": "stream",
     "text": [
      "getTextPDF 입장\n",
      "PDF 1: \n",
      " This is a sample PDF document I am using to demonstrate in the tutorial.\n",
      " \n",
      "\n",
      "getTextPDF 입장\n",
      "PDF 2: \n",
      " This is a sample PDF document\n",
      " \n",
      "password protected.\n",
      " \n",
      "\n"
     ]
    }
   ],
   "source": [
    "pdfFile = './samples/sample-one-line.pdf'\n",
    "pdfFileEncrypted = './samples/sample-one-line.protected.pdf'\n",
    "print('PDF 1: \\n', getTextPDF(pdfFile))\n",
    "print('PDF 2: \\n', getTextPDF(pdfFileEncrypted,'tuffy'))"
   ]
  },
  {
   "cell_type": "code",
   "execution_count": null,
   "metadata": {},
   "outputs": [],
   "source": []
  },
  {
   "cell_type": "code",
   "execution_count": null,
   "metadata": {},
   "outputs": [],
   "source": []
  }
 ],
 "metadata": {
  "kernelspec": {
   "display_name": "Python 3",
   "language": "python",
   "name": "python3"
  },
  "language_info": {
   "codemirror_mode": {
    "name": "ipython",
    "version": 3
   },
   "file_extension": ".py",
   "mimetype": "text/x-python",
   "name": "python",
   "nbconvert_exporter": "python",
   "pygments_lexer": "ipython3",
   "version": "3.8.5"
  }
 },
 "nbformat": 4,
 "nbformat_minor": 4
}
