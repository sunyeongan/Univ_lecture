{
 "cells": [
  {
   "cell_type": "code",
   "execution_count": 1,
   "id": "45546e37",
   "metadata": {},
   "outputs": [],
   "source": [
    "import nltk"
   ]
  },
  {
   "cell_type": "code",
   "execution_count": 2,
   "id": "d06b0d0e",
   "metadata": {},
   "outputs": [
    {
     "name": "stderr",
     "output_type": "stream",
     "text": [
      "[nltk_data] Downloading package punkt to\n",
      "[nltk_data]     C:\\Users\\ghd92\\AppData\\Roaming\\nltk_data...\n",
      "[nltk_data]   Package punkt is already up-to-date!\n",
      "[nltk_data] Downloading package averaged_perceptron_tagger to\n",
      "[nltk_data]     C:\\Users\\ghd92\\AppData\\Roaming\\nltk_data...\n",
      "[nltk_data]   Package averaged_perceptron_tagger is already up-to-\n",
      "[nltk_data]       date!\n"
     ]
    },
    {
     "data": {
      "text/plain": [
       "True"
      ]
     },
     "execution_count": 2,
     "metadata": {},
     "output_type": "execute_result"
    }
   ],
   "source": [
    "import pickle\n",
    "nltk.download('punkt')\n",
    "nltk.download('averaged_perceptron_tagger')"
   ]
  },
  {
   "cell_type": "code",
   "execution_count": 3,
   "id": "6431190b",
   "metadata": {},
   "outputs": [],
   "source": [
    "def sampleData():\n",
    "    return[\n",
    "        \"Bengalore is the capital of Karnataka.\",\n",
    "        \"Steve Jobs was the CEO of Apple.\",\n",
    "        \"iPhone was lnvented by Apple\",\n",
    "        \"Books can be purchased in Market.\"\n",
    "    ]"
   ]
  },
  {
   "cell_type": "code",
   "execution_count": 14,
   "id": "8f5d52d3",
   "metadata": {},
   "outputs": [],
   "source": [
    "def buildDictionary():\n",
    "    dictionar = {}\n",
    "    for sent in sampleData():\n",
    "        partsOfSpeechTags = nltk.pos_tag(nltk.word_tokenize(sent))\n",
    "        for tag in partsOfSpeechTags:\n",
    "            value = tag[0]\n",
    "            pos = tag[1]\n",
    "            dictionar[value] = pos\n",
    "    return dictionar"
   ]
  },
  {
   "cell_type": "code",
   "execution_count": 15,
   "id": "76424e1d",
   "metadata": {},
   "outputs": [],
   "source": [
    "def saveMyTagger(tagger,fileName):\n",
    "    fileHandle = open(fileName,'wb')\n",
    "    pickle.dump(tagger,fileHandle)\n",
    "    fileHandle.close()"
   ]
  },
  {
   "cell_type": "code",
   "execution_count": 16,
   "id": "0bdad596",
   "metadata": {},
   "outputs": [],
   "source": [
    "def saveMyTraining(fileName):\n",
    "    tagger = nltk.UnigramTagger(model = buildDictionary())\n",
    "    saveMyTagger(tagger,fileName)"
   ]
  },
  {
   "cell_type": "code",
   "execution_count": 17,
   "id": "79bf9268",
   "metadata": {},
   "outputs": [],
   "source": [
    "def loadMyTagger(fileName):\n",
    "    return pickle.load(open(fileName, \"rb\"))"
   ]
  },
  {
   "cell_type": "code",
   "execution_count": 18,
   "id": "fbdeebc3",
   "metadata": {},
   "outputs": [],
   "source": [
    "sentence = 'lphone is purchased by Steve Jobs in Bangalore Market'\n",
    "fileName = \"myTagger.pickle\""
   ]
  },
  {
   "cell_type": "code",
   "execution_count": 19,
   "id": "b7d796e5",
   "metadata": {},
   "outputs": [
    {
     "name": "stdout",
     "output_type": "stream",
     "text": [
      "[('lphone', None), ('is', 'VBZ'), ('purchased', 'VBN'), ('by', 'IN'), ('Steve', 'NNP'), ('Jobs', 'NNP'), ('in', 'IN'), ('Bangalore', None), ('Market', 'NNP')]\n"
     ]
    }
   ],
   "source": [
    "saveMyTraining(fileName)\n",
    "myTagger = loadMyTagger(fileName)\n",
    "print(myTagger.tag(nltk.word_tokenize(sentence)))"
   ]
  },
  {
   "cell_type": "code",
   "execution_count": null,
   "id": "c2bb920d",
   "metadata": {},
   "outputs": [],
   "source": []
  }
 ],
 "metadata": {
  "kernelspec": {
   "display_name": "Python 3",
   "language": "python",
   "name": "python3"
  },
  "language_info": {
   "codemirror_mode": {
    "name": "ipython",
    "version": 3
   },
   "file_extension": ".py",
   "mimetype": "text/x-python",
   "name": "python",
   "nbconvert_exporter": "python",
   "pygments_lexer": "ipython3",
   "version": "3.8.8"
  }
 },
 "nbformat": 4,
 "nbformat_minor": 5
}
