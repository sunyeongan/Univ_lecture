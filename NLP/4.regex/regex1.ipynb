{
 "cells": [
  {
   "cell_type": "code",
   "execution_count": 48,
   "metadata": {},
   "outputs": [],
   "source": [
    "import re"
   ]
  },
  {
   "cell_type": "code",
   "execution_count": 49,
   "metadata": {},
   "outputs": [],
   "source": [
    "def text_match(text,patterns):\n",
    "    if re.search(patterns, text):\n",
    "        return('일치하는 항목을 찾았습니다')\n",
    "    else:\n",
    "        return('일치하지 않음.')"
   ]
  },
  {
   "cell_type": "code",
   "execution_count": 50,
   "metadata": {},
   "outputs": [
    {
     "name": "stdout",
     "output_type": "stream",
     "text": [
      "일치하는 항목을 찾았습니다\n",
      "일치하는 항목을 찾았습니다\n",
      "일치하는 항목을 찾았습니다\n",
      "일치하는 항목을 찾았습니다\n",
      "일치하는 항목을 찾았습니다\n",
      "일치하지 않음.\n"
     ]
    }
   ],
   "source": [
    "print(text_match(\"ac\",\"ab?\"))# ?왼쪽 문자에 b가 들어가도 되고 안들어가도 괜찮다.\n",
    "print(text_match(\"abc\",\"ab?\"))#a배고 아무거나 된다!\n",
    "print(text_match(\"abc\",\"ab?\"))# ?왼쪽의 문자의 존재여부를 파악\n",
    "print(text_match(\"a\",\"ab?\"))\n",
    "print(text_match(\"abbc\",\"ab?\"))#? 앞에 문자가 있던지 없던지 둘 중에 하나만 선택되면 참이다. 만약 ?앞에 문자가 아닌 다른문자 들어오면 거짓\n",
    "print(text_match(\"c\",\"ab?\"))"
   ]
  },
  {
   "cell_type": "code",
   "execution_count": 51,
   "metadata": {},
   "outputs": [
    {
     "name": "stdout",
     "output_type": "stream",
     "text": [
      "일치하는 항목을 찾았습니다\n",
      "일치하는 항목을 찾았습니다\n",
      "일치하는 항목을 찾았습니다\n",
      "일치하지 않음.\n",
      "일치하는 항목을 찾았습니다\n"
     ]
    }
   ],
   "source": [
    "print(text_match(\"ab\",\"ab*\"))# *왼쪽 문자가 0번 이상 나타나야함 여기서는 b\n",
    "print(text_match(\"abc\",\"ab*\"))# 최소 a는 있어야함 \n",
    "print(text_match(\"abbc\",\"ab*\"))# * 왼쪽의 문자의 반복여부\n",
    "print(text_match(\"cb\",\"ab*\"))#??????\n",
    "print(text_match(\"ac\",\"ab*\"))#a뒤에 b가 아닌 다른 문자가 와도 참이다. 왜냐하면 b가 존재하지 않아도 참이므로"
   ]
  },
  {
   "cell_type": "code",
   "execution_count": 52,
   "metadata": {},
   "outputs": [
    {
     "name": "stdout",
     "output_type": "stream",
     "text": [
      "일치하지 않음.\n",
      "일치하는 항목을 찾았습니다\n",
      "일치하는 항목을 찾았습니다\n",
      "일치하지 않음.\n"
     ]
    }
   ],
   "source": [
    "print(text_match(\"ac\",\"ab+\"))# + -> 1 or more , 최소 ab는 있어야함\n",
    "print(text_match(\"abc\",\"ab+\"))# + 왼쪽 문자가 1번이상은 나타나야함\n",
    "print(text_match(\"abbc\",\"ab+\"))\n",
    "print(text_match(\"acb\",\"ab+\"))"
   ]
  },
  {
   "cell_type": "code",
   "execution_count": 53,
   "metadata": {},
   "outputs": [
    {
     "name": "stdout",
     "output_type": "stream",
     "text": [
      "일치하는 항목을 찾았습니다\n",
      "일치하지 않음.\n"
     ]
    }
   ],
   "source": [
    "print(text_match(\"abbc\",\"ab{2}\"))#abb b가 딱 2번 나와야한다!\n",
    "print(text_match(\"abcb\",\"ab{2}\"))# ab 바로 뒤에 무조건 b가 와야한다.\n"
   ]
  },
  {
   "cell_type": "code",
   "execution_count": 54,
   "metadata": {},
   "outputs": [
    {
     "name": "stdout",
     "output_type": "stream",
     "text": [
      "일치하는 항목을 찾았습니다\n",
      "일치하는 항목을 찾았습니다\n",
      "일치하지 않음.\n"
     ]
    }
   ],
   "source": [
    "print(text_match(\"aabbbbc\",\"ab{3,5}?\"))#ab{n,m} -> ab를 n번부터 m번까지 반복한다.\n",
    "print(text_match(\"aabbbc\",\"ab{3,5}?\"))# b가 최대 3개는 들어가야한다...\n",
    "print(text_match(\"aaabbc\",\"ab{3,5}?\"))# b가 최대 3개는 들어가야한다..."
   ]
  },
  {
   "cell_type": "code",
   "execution_count": 67,
   "metadata": {},
   "outputs": [
    {
     "name": "stdout",
     "output_type": "stream",
     "text": [
      "일치하는 항목을 찾았습니다\n",
      "일치하는 항목을 찾았습니다\n",
      "일치하지 않음.\n"
     ]
    }
   ],
   "source": [
    "print(text_match(\"aaabbbb\",\"ab{3,5}?\"))\n",
    "print(text_match(\"aaabbb\",\"ab{3,5}\"))\n",
    "print(text_match(\"bbb\",\"ab{3,5}\"))"
   ]
  },
  {
   "cell_type": "code",
   "execution_count": null,
   "metadata": {},
   "outputs": [],
   "source": []
  }
 ],
 "metadata": {
  "kernelspec": {
   "display_name": "Python 3",
   "language": "python",
   "name": "python3"
  },
  "language_info": {
   "codemirror_mode": {
    "name": "ipython",
    "version": 3
   },
   "file_extension": ".py",
   "mimetype": "text/x-python",
   "name": "python",
   "nbconvert_exporter": "python",
   "pygments_lexer": "ipython3",
   "version": "3.8.5"
  }
 },
 "nbformat": 4,
 "nbformat_minor": 4
}
