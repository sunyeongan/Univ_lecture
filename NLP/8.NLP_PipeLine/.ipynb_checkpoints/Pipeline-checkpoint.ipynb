{
 "cells": [
  {
   "cell_type": "code",
   "execution_count": 1,
   "metadata": {},
   "outputs": [],
   "source": [
    "import nltk\n",
    "import threading#단일 프로그램에서 경량 테스크를 생성하는데 사용\n",
    "import queue\n",
    "import feedparser\n",
    "import uuid\n",
    "\n"
   ]
  },
  {
   "cell_type": "code",
   "execution_count": 2,
   "metadata": {},
   "outputs": [],
   "source": [
    "threads = []#프로그램의 모든 스레드를 추적하는 새로운 빈 리스트 생성\n",
    "queues = [queue.Queue(), queue.Queue()]#두 개의 대기열 목록 생성\n",
    "#대기열이 2개인 이유\n",
    "#첫 번째 대기열 : 토큰화된 문장을 저장\n",
    "#두 번쨰 대기열 : 분석된 모든 품사 단어를 저장"
   ]
  },
  {
   "cell_type": "code",
   "execution_count": 3,
   "metadata": {},
   "outputs": [],
   "source": [
    "#인터넷에서 샘플 RSS 피드를 읽고 단어와 이 텍스트의 고유 식별자도 함께 저장 \n",
    "def extractWords():\n",
    "    url = 'https://timesofindia.indiatimes.com/rssfeeds/1081479906.cms'\n",
    "    feed = feedparser.parse(url)#URL의 내용 다운로드 후 이를 뉴스 항목 리스트로 변환\n",
    "    for entry in feed['entries'][:5]:#처음 5개 항목을 entry리스트에 넣는다.\n",
    "        text = entry['title']#RSS 피드 항목의 제목이 text라는 변수에 저장됨\n",
    "        if 'ex' in text:#민감한 단어가 포함된 제목은 건너뛰기\n",
    "            continue\n",
    "        words = nltk.word_tokenize(text)\n",
    "        data = {'uuid': uuid.uuid4(), 'input': words}#UUID, word를 키에 저장\n",
    "        queues[0].put(data, True)#data 딕셔너리를 첫 번째 대기열에 저장, True ->대기열이 가득 찰 경우 스레드 일시중지\n",
    "        print(\">> {} : {}\".format(data['uuid'], text))\n",
    "\n"
   ]
  },
  {
   "cell_type": "code",
   "execution_count": 8,
   "metadata": {},
   "outputs": [],
   "source": [
    "#첫 번째 대기열에서 데이터를 읽어온 후, 두 번째 대기열에서 단어의 품사 저장\n",
    "def extractPOS():\n",
    "    while True:\n",
    "        if queues[0].empty():\n",
    "            break\n",
    "        else:\n",
    "            data = queues[0].get()\n",
    "            words = data['input']\n",
    "            postags = nltk.pos_tag(words)\n",
    "            queues[0].task_done()#첫 번째 대기열 업뎃 이 스레드가 방금 추출한 항목을 처리완료 함을 알린다. \n",
    "            queues[1].put({'uuid': data['uuid'], 'input': postags}, True)#품사태깅된 단어 목록을 두 번째 대기열에 저장\n",
    "            \n"
   ]
  },
  {
   "cell_type": "code",
   "execution_count": 9,
   "metadata": {},
   "outputs": [],
   "source": [
    "#두 번쨰 대기열에서 읽고 품사 태그가 지정된 단어를 처리해 개체명을 출력\n",
    "def extractNE():\n",
    "    while True:\n",
    "        if queues[1].empty():\n",
    "            break\n",
    "        else:\n",
    "            data = queues[1].get()\n",
    "            postags = data['input']\n",
    "            queues[1].task_done()#2\n",
    "            chunks = nltk.ne_chunk(postags, binary=False)#postag변수에서 개체명을 추출해 chunk라는 변수에 저장\n",
    "            print(\"  << {} : \".format(data['uuid']), end = '')\n",
    "            for path in chunks:\n",
    "                try:\n",
    "                    label = path.label()\n",
    "                    print(path, end=', ')\n",
    "                except:\n",
    "                    pass\n",
    "            print()\n",
    "\n"
   ]
  },
  {
   "cell_type": "code",
   "execution_count": 10,
   "metadata": {},
   "outputs": [
    {
     "name": "stdout",
     "output_type": "stream",
     "text": [
      ">> d1ee4169-35a6-4cf5-a5d5-fa3931f10d09 : SRK & Arbaaz's dad share the same birthday\n",
      ">> d7a784c9-5c3f-456e-8114-3014fe65ad92 : Salman wishes his \"Bhai\" SRK on his bday\n",
      ">> e67554aa-5a0f-40f5-86ff-5f99b4e6af2f : Blast from the past: SRK's unseen photos\n",
      ">> 75fe8830-52c0-4b67-8f4a-cefb23423181 : Newlyweds who will celebrate their 1st Diwali\n",
      ">> 147fbb71-d98a-45e2-9b90-c6e1a4740b7e : Twitter shares memes on Anushka-Virat\n",
      "  << d1ee4169-35a6-4cf5-a5d5-fa3931f10d09 : (ORGANIZATION SRK/NNP), (PERSON Arbaaz/NNP), \n",
      "  << d7a784c9-5c3f-456e-8114-3014fe65ad92 : (GPE Salman/NNP), (PERSON Bhai/NNP), \n",
      "  << e67554aa-5a0f-40f5-86ff-5f99b4e6af2f : (GPE Blast/NN), (ORGANIZATION SRK/NNP), \n",
      "  << 75fe8830-52c0-4b67-8f4a-cefb23423181 : \n",
      "  << 147fbb71-d98a-45e2-9b90-c6e1a4740b7e : \n"
     ]
    }
   ],
   "source": [
    "def runProgram():#각각의 함수를 갖는 thread생성\n",
    "    e = threading.Thread(target=extractWords())#thread 생성\n",
    "    e.start()\n",
    "    threads.append(e)\n",
    "\n",
    "    p = threading.Thread(target=extractPOS())\n",
    "    p.start()\n",
    "    threads.append(p)\n",
    "\n",
    "    n = threading.Thread(target=extractNE())\n",
    "    n.start()\n",
    "    threads.append(n)\n",
    "\n",
    "    queues[0].join()#대기열에 할당된 자원 해제\n",
    "    queues[1].join()\n",
    "\n",
    "    for t in threads:\n",
    "        t.join()\n",
    "\n",
    "if __name__ == '__main__':\n",
    "    runProgram()\n",
    "#5개의 고유 id, text 데이터, chunking된 결과 출력 "
   ]
  },
  {
   "cell_type": "code",
   "execution_count": null,
   "metadata": {},
   "outputs": [],
   "source": []
  }
 ],
 "metadata": {
  "kernelspec": {
   "display_name": "Python 3",
   "language": "python",
   "name": "python3"
  },
  "language_info": {
   "codemirror_mode": {
    "name": "ipython",
    "version": 3
   },
   "file_extension": ".py",
   "mimetype": "text/x-python",
   "name": "python",
   "nbconvert_exporter": "python",
   "pygments_lexer": "ipython3",
   "version": "3.8.5"
  }
 },
 "nbformat": 4,
 "nbformat_minor": 4
}
