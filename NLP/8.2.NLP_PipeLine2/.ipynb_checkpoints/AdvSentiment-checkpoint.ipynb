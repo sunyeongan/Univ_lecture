{
 "cells": [
  {
   "cell_type": "code",
   "execution_count": 1,
   "metadata": {},
   "outputs": [],
   "source": [
    "import nltk\n",
    "import nltk.sentiment.util\n",
    "import nltk.sentiment.sentiment_analyzer\n",
    "from nltk.sentiment.vader import SentimentIntensityAnalyzer"
   ]
  },
  {
   "cell_type": "code",
   "execution_count": 5,
   "metadata": {},
   "outputs": [
    {
     "name": "stderr",
     "output_type": "stream",
     "text": [
      "[nltk_data] Downloading package vader_lexicon to /Users/anseon-\n",
      "[nltk_data]     yeong/nltk_data...\n"
     ]
    },
    {
     "data": {
      "text/plain": [
       "True"
      ]
     },
     "execution_count": 5,
     "metadata": {},
     "output_type": "execute_result"
    }
   ],
   "source": [
    "nltk.download('vader_lexicon')"
   ]
  },
  {
   "cell_type": "code",
   "execution_count": 6,
   "metadata": {},
   "outputs": [],
   "source": [
    "def mySentimentAnalyzer():\n",
    "    def score_feedback(text):\n",
    "        positive_words = ['love', 'genuine', 'liked']\n",
    "        if '_NEG' in ' '.join(nltk.sentiment.util.mark_negation(text.split())):#_NEG접미사가 있는지 확인 \n",
    "            score = -1#부정\n",
    "        else:\n",
    "            analysis = nltk.sentiment.util.extract_unigram_feats(text.split(), positive_words)\n",
    "            if True in analysis.values():#입력텍스트에 긍정이 있다면 점수값 1\n",
    "                score = 1#긍정\n",
    "            else:\n",
    "                score = 0#중립\n",
    "        return score\n",
    "\n",
    "    feedback = \"\"\"I love the items in this shop, very genuine and quality is well maintained.\n",
    "    I have visited this shop and had samosa, my friends liked it very much.\n",
    "    ok average food in this shop.\n",
    "    Fridays are very busy in this shop, do not place orders during this day.\"\"\"\n",
    "    print(' -- custom scorer --')\n",
    "    for text in feedback.split(\"\\n\"):#줄바꿈 문자로 분리하고 feedback변수에서 문장을 추출한다.\n",
    "        print(\"score = {} for >> {}\".format(score_feedback(text), text))"
   ]
  },
  {
   "cell_type": "code",
   "execution_count": 7,
   "metadata": {},
   "outputs": [],
   "source": [
    "def advancedSentimentAnalyzer():\n",
    "    sentences = [\n",
    "        ':)',\n",
    "        ':(',\n",
    "        'She is so :(',\n",
    "        'I love the way cricket is played by the champions',\n",
    "        'She neither likes coffee nor tea',\n",
    "    ]\n",
    "    senti = SentimentIntensityAnalyzer()\n",
    "    print(' -- built-in intensity analyser --')\n",
    "    for sentence in sentences:\n",
    "        print('[{}]'.format(sentence), end=' --> ')\n",
    "        kvp = senti.polarity_scores(sentence)#계산된 점수 출력 \n",
    "        for k in kvp:\n",
    "            print('{} = {}, '.format(k, kvp[k]), end='')\n",
    "        print()\n",
    "#compound: 총 점수\n",
    "#neu : 중립적인"
   ]
  },
  {
   "cell_type": "code",
   "execution_count": 8,
   "metadata": {},
   "outputs": [
    {
     "name": "stdout",
     "output_type": "stream",
     "text": [
      " -- built-in intensity analyser --\n",
      "[:)] --> neg = 0.0, neu = 0.0, pos = 1.0, compound = 0.4588, \n",
      "[:(] --> neg = 1.0, neu = 0.0, pos = 0.0, compound = -0.4404, \n",
      "[She is so :(] --> neg = 0.555, neu = 0.445, pos = 0.0, compound = -0.5777, \n",
      "[I love the way cricket is played by the champions] --> neg = 0.0, neu = 0.375, pos = 0.625, compound = 0.875, \n",
      "[She neither likes coffee nor tea] --> neg = 0.318, neu = 0.682, pos = 0.0, compound = -0.3252, \n",
      " -- custom scorer --\n",
      "score = 1 for >> I love the items in this shop, very genuine and quality is well maintained.\n",
      "score = 1 for >>     I have visited this shop and had samosa, my friends liked it very much.\n",
      "score = 0 for >>     ok average food in this shop.\n",
      "score = -1 for >>     Fridays are very busy in this shop, do not place orders during this day.\n"
     ]
    }
   ],
   "source": [
    "if __name__ == '__main__':\n",
    "    advancedSentimentAnalyzer()\n",
    "    mySentimentAnalyzer()"
   ]
  },
  {
   "cell_type": "code",
   "execution_count": null,
   "metadata": {},
   "outputs": [],
   "source": []
  }
 ],
 "metadata": {
  "kernelspec": {
   "display_name": "Python 3",
   "language": "python",
   "name": "python3"
  },
  "language_info": {
   "codemirror_mode": {
    "name": "ipython",
    "version": 3
   },
   "file_extension": ".py",
   "mimetype": "text/x-python",
   "name": "python",
   "nbconvert_exporter": "python",
   "pygments_lexer": "ipython3",
   "version": "3.8.5"
  }
 },
 "nbformat": 4,
 "nbformat_minor": 4
}
