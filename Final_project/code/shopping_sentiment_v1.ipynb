{
 "cells": [
  {
   "cell_type": "code",
   "execution_count": 1,
   "metadata": {},
   "outputs": [
    {
     "name": "stdout",
     "output_type": "stream",
     "text": [
      "/Users/anseon-yeong/수업/2021-2/텍스트정보처리/프로젝트\n"
     ]
    }
   ],
   "source": [
    "%cd /Users/anseon-yeong/수업/2021-2/텍스트정보처리/프로젝트"
   ]
  },
  {
   "cell_type": "code",
   "execution_count": 2,
   "metadata": {},
   "outputs": [
    {
     "name": "stdout",
     "output_type": "stream",
     "text": [
      "/Users/anseon-yeong/수업/2021-2/텍스트정보처리/프로젝트/Mecab-ko-for-Google-Colab\n"
     ]
    }
   ],
   "source": [
    "%cd Mecab-ko-for-Google-Colab"
   ]
  },
  {
   "cell_type": "code",
   "execution_count": 3,
   "metadata": {},
   "outputs": [
    {
     "name": "stderr",
     "output_type": "stream",
     "text": [
      "/opt/anaconda3/lib/python3.8/site-packages/requests/__init__.py:89: RequestsDependencyWarning: urllib3 (1.26.7) or chardet (3.0.4) doesn't match a supported version!\n",
      "  warnings.warn(\"urllib3 ({}) or chardet ({}) doesn't match a supported \"\n"
     ]
    }
   ],
   "source": [
    "import pandas as pd\n",
    "import numpy as np\n",
    "import matplotlib.pyplot as plt\n",
    "\n",
    "from collections import Counter\n",
    "from konlpy.tag import Mecab\n",
    "#from eunjeon import Mecab\n",
    "from sklearn.model_selection import train_test_split\n",
    "from tensorflow.keras.preprocessing.text import Tokenizer\n",
    "from tensorflow.keras.preprocessing.sequence import pad_sequences\n",
    "from numpy import nan"
   ]
  },
  {
   "cell_type": "code",
   "execution_count": 91,
   "metadata": {},
   "outputs": [
    {
     "name": "stdout",
     "output_type": "stream",
     "text": [
      "/Users/anseon-yeong/수업/2021-2/텍스트정보처리/프로젝트\n"
     ]
    }
   ],
   "source": [
    "%cd .."
   ]
  },
  {
   "cell_type": "code",
   "execution_count": 92,
   "metadata": {},
   "outputs": [],
   "source": [
    "import pandas as pd\n",
    "total_data = pd.read_excel(io='total_data2.xlsx')"
   ]
  },
  {
   "cell_type": "code",
   "execution_count": 93,
   "metadata": {},
   "outputs": [
    {
     "name": "stdout",
     "output_type": "stream",
     "text": [
      "전체 리뷰 개수  :  453527\n"
     ]
    }
   ],
   "source": [
    "print('전체 리뷰 개수  : ', len(total_data))"
   ]
  },
  {
   "cell_type": "code",
   "execution_count": 94,
   "metadata": {},
   "outputs": [
    {
     "data": {
      "text/plain": [
       "((362821, 3), (90706, 3))"
      ]
     },
     "execution_count": 94,
     "metadata": {},
     "output_type": "execute_result"
    }
   ],
   "source": [
    "train_data, val_data = train_test_split(total_data, test_size = 0.2, random_state = 11)\n",
    "train_data.shape, val_data.shape"
   ]
  },
  {
   "cell_type": "code",
   "execution_count": 95,
   "metadata": {},
   "outputs": [
    {
     "data": {
      "text/html": [
       "<div>\n",
       "<style scoped>\n",
       "    .dataframe tbody tr th:only-of-type {\n",
       "        vertical-align: middle;\n",
       "    }\n",
       "\n",
       "    .dataframe tbody tr th {\n",
       "        vertical-align: top;\n",
       "    }\n",
       "\n",
       "    .dataframe thead th {\n",
       "        text-align: right;\n",
       "    }\n",
       "</style>\n",
       "<table border=\"1\" class=\"dataframe\">\n",
       "  <thead>\n",
       "    <tr style=\"text-align: right;\">\n",
       "      <th></th>\n",
       "      <th>reviews</th>\n",
       "      <th>label</th>\n",
       "      <th>tokenized</th>\n",
       "    </tr>\n",
       "  </thead>\n",
       "  <tbody>\n",
       "    <tr>\n",
       "      <th>304288</th>\n",
       "      <td>본점</td>\n",
       "      <td>1</td>\n",
       "      <td>['본점']</td>\n",
       "    </tr>\n",
       "    <tr>\n",
       "      <th>29972</th>\n",
       "      <td>박스포장으로 찌그러지지않게 잘 받았구요 쓰던 티슈가 남아있어서 아직 사용 전 입니다...</td>\n",
       "      <td>1</td>\n",
       "      <td>['박스', '포장', '으로', '찌그러지', '지', '않', '잘', '받',...</td>\n",
       "    </tr>\n",
       "    <tr>\n",
       "      <th>215350</th>\n",
       "      <td>언리얼 엔진이라는 훌륭한 엔진을 가지고도 정지화면만 보여주는 이 게임에 절망했다!</td>\n",
       "      <td>0</td>\n",
       "      <td>['언리얼', '엔진', '라는', '훌륭', '엔진', '가지', '정지', '화...</td>\n",
       "    </tr>\n",
       "    <tr>\n",
       "      <th>140200</th>\n",
       "      <td>재구매 늘잘이용하고있습니다 감사합니다^^ 번창하세요!</td>\n",
       "      <td>1</td>\n",
       "      <td>['재', '구매', '늘', '잘', '이용', '있', '습니다', '감사', ...</td>\n",
       "    </tr>\n",
       "    <tr>\n",
       "      <th>440650</th>\n",
       "      <td>비디오방 시절의  영화 내용은 없다 그냥 벗는거다</td>\n",
       "      <td>0</td>\n",
       "      <td>['비디오방', '시절', '내용', '없', '그냥', '벗', '거']</td>\n",
       "    </tr>\n",
       "    <tr>\n",
       "      <th>...</th>\n",
       "      <td>...</td>\n",
       "      <td>...</td>\n",
       "      <td>...</td>\n",
       "    </tr>\n",
       "    <tr>\n",
       "      <th>359761</th>\n",
       "      <td>파병다녀오신분들이라면 매우재미있게 봤을거라 생각합니다저는 년 이라크 아르빌 자이툰 ...</td>\n",
       "      <td>0</td>\n",
       "      <td>['파병', '다녀오', '신', '분', '라면', '매우', '재미있', '봤'...</td>\n",
       "    </tr>\n",
       "    <tr>\n",
       "      <th>203867</th>\n",
       "      <td>나.는.살아있다.</td>\n",
       "      <td>0</td>\n",
       "      <td>['나', '살', '아', '있']</td>\n",
       "    </tr>\n",
       "    <tr>\n",
       "      <th>283728</th>\n",
       "      <td>그냥 크게 대단히 재밌지도 않고 적당히 재밌는 턴제 RPG임. 어려운건 없는데 확률...</td>\n",
       "      <td>0</td>\n",
       "      <td>['그냥', '크', '대단히', '재밌', '지', '않', '적당히', '재밌'...</td>\n",
       "    </tr>\n",
       "    <tr>\n",
       "      <th>298687</th>\n",
       "      <td>외계인과함꼐하는재미있는레인저총놀이</td>\n",
       "      <td>0</td>\n",
       "      <td>['외계인', '함꼐', '재미', '있', '레인저', '총', '놀이']</td>\n",
       "    </tr>\n",
       "    <tr>\n",
       "      <th>403353</th>\n",
       "      <td>감독은 이소재가 좋은영화로 나올거같다고 생각했던가</td>\n",
       "      <td>0</td>\n",
       "      <td>['감독', '소재', '좋', '로', '나올', '거', '같', '다고', '...</td>\n",
       "    </tr>\n",
       "  </tbody>\n",
       "</table>\n",
       "<p>362821 rows × 3 columns</p>\n",
       "</div>"
      ],
      "text/plain": [
       "                                                  reviews  label  \\\n",
       "304288                                                 본점      1   \n",
       "29972   박스포장으로 찌그러지지않게 잘 받았구요 쓰던 티슈가 남아있어서 아직 사용 전 입니다...      1   \n",
       "215350      언리얼 엔진이라는 훌륭한 엔진을 가지고도 정지화면만 보여주는 이 게임에 절망했다!      0   \n",
       "140200                      재구매 늘잘이용하고있습니다 감사합니다^^ 번창하세요!      1   \n",
       "440650                        비디오방 시절의  영화 내용은 없다 그냥 벗는거다      0   \n",
       "...                                                   ...    ...   \n",
       "359761  파병다녀오신분들이라면 매우재미있게 봤을거라 생각합니다저는 년 이라크 아르빌 자이툰 ...      0   \n",
       "203867                                          나.는.살아있다.      0   \n",
       "283728  그냥 크게 대단히 재밌지도 않고 적당히 재밌는 턴제 RPG임. 어려운건 없는데 확률...      0   \n",
       "298687                                 외계인과함꼐하는재미있는레인저총놀이      0   \n",
       "403353                        감독은 이소재가 좋은영화로 나올거같다고 생각했던가      0   \n",
       "\n",
       "                                                tokenized  \n",
       "304288                                             ['본점']  \n",
       "29972   ['박스', '포장', '으로', '찌그러지', '지', '않', '잘', '받',...  \n",
       "215350  ['언리얼', '엔진', '라는', '훌륭', '엔진', '가지', '정지', '화...  \n",
       "140200  ['재', '구매', '늘', '잘', '이용', '있', '습니다', '감사', ...  \n",
       "440650          ['비디오방', '시절', '내용', '없', '그냥', '벗', '거']  \n",
       "...                                                   ...  \n",
       "359761  ['파병', '다녀오', '신', '분', '라면', '매우', '재미있', '봤'...  \n",
       "203867                               ['나', '살', '아', '있']  \n",
       "283728  ['그냥', '크', '대단히', '재밌', '지', '않', '적당히', '재밌'...  \n",
       "298687         ['외계인', '함꼐', '재미', '있', '레인저', '총', '놀이']  \n",
       "403353  ['감독', '소재', '좋', '로', '나올', '거', '같', '다고', '...  \n",
       "\n",
       "[362821 rows x 3 columns]"
      ]
     },
     "execution_count": 95,
     "metadata": {},
     "output_type": "execute_result"
    }
   ],
   "source": [
    "train_data"
   ]
  },
  {
   "cell_type": "code",
   "execution_count": 96,
   "metadata": {},
   "outputs": [
    {
     "data": {
      "text/plain": [
       "'/Users/anseon-yeong/수업/2021-2/텍스트정보처리/프로젝트'"
      ]
     },
     "execution_count": 96,
     "metadata": {},
     "output_type": "execute_result"
    }
   ],
   "source": [
    "pwd"
   ]
  },
  {
   "cell_type": "code",
   "execution_count": 135,
   "metadata": {},
   "outputs": [
    {
     "name": "stdout",
     "output_type": "stream",
     "text": [
      "[Errno 2] No such file or directory: 'Mecab-ko-for-Google-Colab'\n",
      "/Users/anseon-yeong/수업/2021-2/텍스트정보처리/프로젝트/Mecab-ko-for-Google-Colab\n"
     ]
    }
   ],
   "source": [
    "%cd Mecab-ko-for-Google-Colab"
   ]
  },
  {
   "cell_type": "code",
   "execution_count": 136,
   "metadata": {},
   "outputs": [],
   "source": [
    "X_train = train_data['tokenized'].values\n",
    "y_train = train_data['label'].values\n",
    "X_val = val_data['tokenized'].values\n",
    "y_val = val_data['label'].values"
   ]
  },
  {
   "cell_type": "code",
   "execution_count": 137,
   "metadata": {},
   "outputs": [],
   "source": [
    "#단어 집합 생성\n",
    "tokenizer = Tokenizer()\n",
    "tokenizer.fit_on_texts(X_train)"
   ]
  },
  {
   "cell_type": "code",
   "execution_count": 138,
   "metadata": {},
   "outputs": [
    {
     "name": "stdout",
     "output_type": "stream",
     "text": [
      "단어 집합(vocabulary)의 크기 :  83244\n"
     ]
    }
   ],
   "source": [
    "#등장 횟수가 1회인 단어들은 제거\n",
    "threshold = 2\n",
    "\n",
    "total_cnt = len(tokenizer.word_index)#총 단어수\n",
    "rare_cnt = 0 # 등장 횟수가 1회인 단어 카운트\n",
    "\n",
    "for key, value in tokenizer.word_counts.items():\n",
    "    \n",
    "    if(value < threshold):\n",
    "        rare_cnt = rare_cnt + 1\n",
    "        \n",
    "print('단어 집합(vocabulary)의 크기 : ',total_cnt)\n"
   ]
  },
  {
   "cell_type": "code",
   "execution_count": 139,
   "metadata": {},
   "outputs": [
    {
     "name": "stdout",
     "output_type": "stream",
     "text": [
      "단어 집합의 크기 : 46896\n"
     ]
    }
   ],
   "source": [
    "vocab_size = total_cnt - rare_cnt + 2\n",
    "print('단어 집합의 크기 :',vocab_size)"
   ]
  },
  {
   "cell_type": "code",
   "execution_count": 140,
   "metadata": {},
   "outputs": [],
   "source": [
    "tokenzier = Tokenizer(vocab_size, oov_token = 'OOV')\n",
    "tokenzier.fit_on_texts(X_train)\n",
    "X_train = tokenizer.texts_to_sequences(X_train)\n",
    "X_val = tokenizer.texts_to_sequences(X_val)"
   ]
  },
  {
   "cell_type": "code",
   "execution_count": 103,
   "metadata": {},
   "outputs": [],
   "source": [
    "import pickle \n",
    "\n",
    "with open('/Users/anseon-yeong/수업/2021-2/텍스트정보처리/프로젝트/tokenizer1218.bin','wb') as f:\n",
    "    pickle.dump(tokenizer, f)"
   ]
  },
  {
   "cell_type": "code",
   "execution_count": 104,
   "metadata": {},
   "outputs": [
    {
     "name": "stdout",
     "output_type": "stream",
     "text": [
      "/Users/anseon-yeong/수업/2021-2/텍스트정보처리/프로젝트\n"
     ]
    }
   ],
   "source": [
    "%cd .."
   ]
  },
  {
   "cell_type": "code",
   "execution_count": 105,
   "metadata": {},
   "outputs": [
    {
     "name": "stdout",
     "output_type": "stream",
     "text": [
      "[16265]\n",
      "[74, 557, 2, 7, 32, 63, 6, 57, 401, 150]\n"
     ]
    }
   ],
   "source": [
    "print(X_train[0])\n",
    "print(X_val[0])"
   ]
  },
  {
   "cell_type": "code",
   "execution_count": 106,
   "metadata": {},
   "outputs": [
    {
     "name": "stdout",
     "output_type": "stream",
     "text": [
      "리뷰의 최대 길이 :  104\n",
      "리뷰의 평균 길이 : 15.282238348937906\n"
     ]
    },
    {
     "data": {
      "image/png": "[encoded data removed]",
      "text/plain": [
       "<Figure size 432x288 with 1 Axes>"
      ]
     },
     "metadata": {
      "needs_background": "light"
     },
     "output_type": "display_data"
    }
   ],
   "source": [
    "#패딩을 위해 최대 길이와 길이 분포 확인\n",
    "\n",
    "print('리뷰의 최대 길이 : ', max(len(l) for l in X_train))\n",
    "print('리뷰의 평균 길이 :' , sum(map(len, X_train))/len(X_train))\n",
    "\n",
    "plt.hist([len(s) for s in X_train], bins = 50)\n",
    "plt.xlabel('length of samples')\n",
    "plt.ylabel('number of samples')\n",
    "plt.show()"
   ]
  },
  {
   "cell_type": "code",
   "execution_count": 107,
   "metadata": {},
   "outputs": [
    {
     "name": "stdout",
     "output_type": "stream",
     "text": [
      "(362821, 80)\n",
      "(90706, 80)\n"
     ]
    }
   ],
   "source": [
    "#최대 길이 80으로 패딩\n",
    "\n",
    "max_len = 80\n",
    "X_train = pad_sequences(X_train, maxlen = max_len)\n",
    "X_val = pad_sequences(X_val, maxlen = max_len)\n",
    "\n",
    "print(X_train.shape)\n",
    "print(X_val.shape)"
   ]
  },
  {
   "cell_type": "code",
   "execution_count": 108,
   "metadata": {},
   "outputs": [
    {
     "name": "stdout",
     "output_type": "stream",
     "text": [
      "[    0     0     0     0     0     0     0     0     0     0     0     0\n",
      "     0     0     0     0     0     0     0     0     0     0     0     0\n",
      "     0     0     0     0     0     0     0     0     0     0     0     0\n",
      "     0     0     0     0     0     0     0     0     0     0     0     0\n",
      "     0     0     0     0     0     0     0     0     0     0     0     0\n",
      "     0     0     0     0     0     0     0     0     0     0     0     0\n",
      "     0     0     0     0     0     0     0 16265]\n",
      "[  0   0   0   0   0   0   0   0   0   0   0   0   0   0   0   0   0   0\n",
      "   0   0   0   0   0   0   0   0   0   0   0   0   0   0   0   0   0   0\n",
      "   0   0   0   0   0   0   0   0   0   0   0   0   0   0   0   0   0   0\n",
      "   0   0   0   0   0   0   0   0   0   0   0   0   0   0   0   0  74 557\n",
      "   2   7  32  63   6  57 401 150]\n"
     ]
    }
   ],
   "source": [
    "print(X_train[0])\n",
    "print(X_val[0])"
   ]
  },
  {
   "cell_type": "code",
   "execution_count": 109,
   "metadata": {},
   "outputs": [],
   "source": [
    "from tensorflow.keras.layers import Dense, LSTM, Dropout, Conv1D, MaxPooling1D, Activation, Bidirectional\n",
    "from tensorflow.keras.models import Sequential\n",
    "from keras.layers.embeddings import Embedding\n",
    "from tensorflow.keras.callbacks import EarlyStopping, ModelCheckpoint"
   ]
  },
  {
   "cell_type": "code",
   "execution_count": 110,
   "metadata": {},
   "outputs": [
    {
     "name": "stdout",
     "output_type": "stream",
     "text": [
      "Model: \"sequential\"\n",
      "_________________________________________________________________\n",
      " Layer (type)                Output Shape              Param #   \n",
      "=================================================================\n",
      " embedding (Embedding)       (None, None, 80)          29025680  \n",
      "                                                                 \n",
      " lstm (LSTM)                 (None, 64)                37120     \n",
      "                                                                 \n",
      " dropout (Dropout)           (None, 64)                0         \n",
      "                                                                 \n",
      " dense (Dense)               (None, 1)                 65        \n",
      "                                                                 \n",
      "=================================================================\n",
      "Total params: 29,062,865\n",
      "Trainable params: 29,062,865\n",
      "Non-trainable params: 0\n",
      "_________________________________________________________________\n"
     ]
    }
   ],
   "source": [
    "#모델2 Simple LSTM\n",
    "\n",
    "model_ = Sequential()\n",
    "\n",
    "#model_.add(Embedding(vocab_size,80))\n",
    "model_.add(Embedding(362821,80))\n",
    "\n",
    "model_.add(LSTM(64, input_shape=(80,)))\n",
    "model_.add(Dropout(0.5))\n",
    "model_.add(Dense(1,activation='sigmoid'))\n",
    "\n",
    "model_.compile(optimizer='rmsprop', loss='binary_crossentropy', metrics='accuracy')\n",
    "model_.summary()"
   ]
  },
  {
   "cell_type": "code",
   "execution_count": 111,
   "metadata": {},
   "outputs": [
    {
     "name": "stdout",
     "output_type": "stream",
     "text": [
      "Epoch 1/5\n",
      "4536/4536 [==============================] - 387s 85ms/step - loss: 0.1738 - accuracy: 0.9362 - val_loss: 0.1542 - val_accuracy: 0.9442\n",
      "Epoch 2/5\n",
      "4536/4536 [==============================] - 381s 84ms/step - loss: 0.1425 - accuracy: 0.9495 - val_loss: 0.1377 - val_accuracy: 0.9506\n",
      "Epoch 3/5\n",
      "4536/4536 [==============================] - 382s 84ms/step - loss: 0.1294 - accuracy: 0.9550 - val_loss: 0.1335 - val_accuracy: 0.9533\n",
      "Epoch 4/5\n",
      "4536/4536 [==============================] - 384s 85ms/step - loss: 0.1201 - accuracy: 0.9589 - val_loss: 0.1273 - val_accuracy: 0.9546\n",
      "Epoch 5/5\n",
      "4536/4536 [==============================] - 384s 85ms/step - loss: 0.1139 - accuracy: 0.9612 - val_loss: 0.1262 - val_accuracy: 0.9551\n"
     ]
    }
   ],
   "source": [
    "history_ = model_.fit(X_train, y_train, epochs = 5,batch_size=64,validation_split=0.2)"
   ]
  },
  {
   "cell_type": "code",
   "execution_count": 112,
   "metadata": {},
   "outputs": [
    {
     "name": "stdout",
     "output_type": "stream",
     "text": [
      "2835/2835 [==============================] - 15s 5ms/step - loss: 0.1236 - accuracy: 0.9568\n",
      "\n",
      " 테스트 정확도 : 0.956806\n"
     ]
    }
   ],
   "source": [
    "print(\"\\n 테스트 정확도 : %4f\"%(model_.evaluate(X_val,y_val)[1]))"
   ]
  },
  {
   "cell_type": "code",
   "execution_count": 113,
   "metadata": {},
   "outputs": [],
   "source": [
    "model_.save('best_model_916.h5')#학습 모델 저장"
   ]
  },
  {
   "cell_type": "code",
   "execution_count": 114,
   "metadata": {},
   "outputs": [
    {
     "name": "stdout",
     "output_type": "stream",
     "text": [
      "Accuracy score :  0.9568055034948074\n",
      "              precision    recall  f1-score   support\n",
      "\n",
      "           0       0.97      0.97      0.97     70171\n",
      "           1       0.91      0.90      0.90     20535\n",
      "\n",
      "    accuracy                           0.96     90706\n",
      "   macro avg       0.94      0.94      0.94     90706\n",
      "weighted avg       0.96      0.96      0.96     90706\n",
      "\n"
     ]
    }
   ],
   "source": [
    "from sklearn.metrics import accuracy_score\n",
    "from sklearn.metrics import classification_report\n",
    "\n",
    "y_pred = model_.predict(X_val)\n",
    "y_pred = np.round(y_pred)\n",
    "print(\"Accuracy score : \", accuracy_score(y_val,y_pred))\n",
    "print(classification_report(y_val,y_pred))"
   ]
  },
  {
   "cell_type": "code",
   "execution_count": 155,
   "metadata": {},
   "outputs": [
    {
     "name": "stdout",
     "output_type": "stream",
     "text": [
      "/Users/anseon-yeong/수업/2021-2/텍스트정보처리/프로젝트\n"
     ]
    }
   ],
   "source": [
    "%cd .."
   ]
  },
  {
   "cell_type": "code",
   "execution_count": 154,
   "metadata": {},
   "outputs": [
    {
     "data": {
      "text/plain": [
       "'/Users/anseon-yeong/수업/2021-2/텍스트정보처리/프로젝트/Mecab-ko-for-Google-Colab'"
      ]
     },
     "execution_count": 154,
     "metadata": {},
     "output_type": "execute_result"
    }
   ],
   "source": [
    "pwd"
   ]
  },
  {
   "cell_type": "code",
   "execution_count": 156,
   "metadata": {},
   "outputs": [],
   "source": [
    "total_data = pd.read_csv('./ex50000data.csv')"
   ]
  },
  {
   "cell_type": "code",
   "execution_count": 157,
   "metadata": {},
   "outputs": [
    {
     "name": "stdout",
     "output_type": "stream",
     "text": [
      "전체 리뷰 개수 :  40000\n"
     ]
    }
   ],
   "source": [
    "print('전체 리뷰 개수 : ', len(total_data))"
   ]
  },
  {
   "cell_type": "code",
   "execution_count": 158,
   "metadata": {},
   "outputs": [
    {
     "data": {
      "text/html": [
       "<div>\n",
       "<style scoped>\n",
       "    .dataframe tbody tr th:only-of-type {\n",
       "        vertical-align: middle;\n",
       "    }\n",
       "\n",
       "    .dataframe tbody tr th {\n",
       "        vertical-align: top;\n",
       "    }\n",
       "\n",
       "    .dataframe thead th {\n",
       "        text-align: right;\n",
       "    }\n",
       "</style>\n",
       "<table border=\"1\" class=\"dataframe\">\n",
       "  <thead>\n",
       "    <tr style=\"text-align: right;\">\n",
       "      <th></th>\n",
       "      <th>Unnamed: 0</th>\n",
       "      <th>reviews</th>\n",
       "      <th>label</th>\n",
       "    </tr>\n",
       "  </thead>\n",
       "  <tbody>\n",
       "    <tr>\n",
       "      <th>0</th>\n",
       "      <td>561489</td>\n",
       "      <td>아이가 태어났는데 뭔가 문제가 있을 수 있다고 들었어. 너무 불안하고 두려워.</td>\n",
       "      <td>0</td>\n",
       "    </tr>\n",
       "    <tr>\n",
       "      <th>1</th>\n",
       "      <td>21222</td>\n",
       "      <td>김명민밖에 몰랐는데 지금보니 배우들이 빵빵하네</td>\n",
       "      <td>1</td>\n",
       "    </tr>\n",
       "    <tr>\n",
       "      <th>2</th>\n",
       "      <td>477522</td>\n",
       "      <td>재밌는데 재미가없음</td>\n",
       "      <td>0</td>\n",
       "    </tr>\n",
       "    <tr>\n",
       "      <th>3</th>\n",
       "      <td>311758</td>\n",
       "      <td>버튼을 누르고 있어야 되는데 생각보다 아이가 누르기에는 힘이 드네요.</td>\n",
       "      <td>0</td>\n",
       "    </tr>\n",
       "    <tr>\n",
       "      <th>4</th>\n",
       "      <td>300142</td>\n",
       "      <td>유통기한은 그냥 표시 인가요 ? 청양맛 소세지 유통기한 되기 십일전에 상해 버리고 ...</td>\n",
       "      <td>0</td>\n",
       "    </tr>\n",
       "    <tr>\n",
       "      <th>...</th>\n",
       "      <td>...</td>\n",
       "      <td>...</td>\n",
       "      <td>...</td>\n",
       "    </tr>\n",
       "    <tr>\n",
       "      <th>39995</th>\n",
       "      <td>384295</td>\n",
       "      <td>저..아직 배송이안왔어요...어떻게 된거죠??일주일이 훨씬넘었는데...당황스럽네요....</td>\n",
       "      <td>0</td>\n",
       "    </tr>\n",
       "    <tr>\n",
       "      <th>39996</th>\n",
       "      <td>392585</td>\n",
       "      <td>샵에 가서 받았었는데 이거 구매하고 집에서 셀프로 하는데 넘나 좋으네요^^* 세트로...</td>\n",
       "      <td>1</td>\n",
       "    </tr>\n",
       "    <tr>\n",
       "      <th>39997</th>\n",
       "      <td>424582</td>\n",
       "      <td>정말 잘 만들었는데 한번 깨면 다시 하고 싶지는 않다. 반복 클리어를 좋아하지 않으...</td>\n",
       "      <td>1</td>\n",
       "    </tr>\n",
       "    <tr>\n",
       "      <th>39998</th>\n",
       "      <td>281614</td>\n",
       "      <td>모양이랑 바람세기등 맘에 드는데 두개 구매한것중 하나가 완충후 금방 꺼지더니 또 나...</td>\n",
       "      <td>0</td>\n",
       "    </tr>\n",
       "    <tr>\n",
       "      <th>39999</th>\n",
       "      <td>130799</td>\n",
       "      <td>여자는 예쁜데 지루 지루</td>\n",
       "      <td>0</td>\n",
       "    </tr>\n",
       "  </tbody>\n",
       "</table>\n",
       "<p>40000 rows × 3 columns</p>\n",
       "</div>"
      ],
      "text/plain": [
       "       Unnamed: 0                                            reviews  label\n",
       "0          561489        아이가 태어났는데 뭔가 문제가 있을 수 있다고 들었어. 너무 불안하고 두려워.      0\n",
       "1           21222                          김명민밖에 몰랐는데 지금보니 배우들이 빵빵하네      1\n",
       "2          477522                                         재밌는데 재미가없음      0\n",
       "3          311758             버튼을 누르고 있어야 되는데 생각보다 아이가 누르기에는 힘이 드네요.      0\n",
       "4          300142  유통기한은 그냥 표시 인가요 ? 청양맛 소세지 유통기한 되기 십일전에 상해 버리고 ...      0\n",
       "...           ...                                                ...    ...\n",
       "39995      384295  저..아직 배송이안왔어요...어떻게 된거죠??일주일이 훨씬넘었는데...당황스럽네요....      0\n",
       "39996      392585  샵에 가서 받았었는데 이거 구매하고 집에서 셀프로 하는데 넘나 좋으네요^^* 세트로...      1\n",
       "39997      424582  정말 잘 만들었는데 한번 깨면 다시 하고 싶지는 않다. 반복 클리어를 좋아하지 않으...      1\n",
       "39998      281614  모양이랑 바람세기등 맘에 드는데 두개 구매한것중 하나가 완충후 금방 꺼지더니 또 나...      0\n",
       "39999      130799                                      여자는 예쁜데 지루 지루      0\n",
       "\n",
       "[40000 rows x 3 columns]"
      ]
     },
     "execution_count": 158,
     "metadata": {},
     "output_type": "execute_result"
    }
   ],
   "source": [
    "total_data"
   ]
  },
  {
   "cell_type": "code",
   "execution_count": 159,
   "metadata": {},
   "outputs": [
    {
     "data": {
      "text/html": [
       "<div>\n",
       "<style scoped>\n",
       "    .dataframe tbody tr th:only-of-type {\n",
       "        vertical-align: middle;\n",
       "    }\n",
       "\n",
       "    .dataframe tbody tr th {\n",
       "        vertical-align: top;\n",
       "    }\n",
       "\n",
       "    .dataframe thead th {\n",
       "        text-align: right;\n",
       "    }\n",
       "</style>\n",
       "<table border=\"1\" class=\"dataframe\">\n",
       "  <thead>\n",
       "    <tr style=\"text-align: right;\">\n",
       "      <th></th>\n",
       "      <th>reviews</th>\n",
       "      <th>label</th>\n",
       "    </tr>\n",
       "  </thead>\n",
       "  <tbody>\n",
       "    <tr>\n",
       "      <th>0</th>\n",
       "      <td>아이가 태어났는데 뭔가 문제가 있을 수 있다고 들었어. 너무 불안하고 두려워.</td>\n",
       "      <td>0</td>\n",
       "    </tr>\n",
       "    <tr>\n",
       "      <th>1</th>\n",
       "      <td>김명민밖에 몰랐는데 지금보니 배우들이 빵빵하네</td>\n",
       "      <td>1</td>\n",
       "    </tr>\n",
       "    <tr>\n",
       "      <th>2</th>\n",
       "      <td>재밌는데 재미가없음</td>\n",
       "      <td>0</td>\n",
       "    </tr>\n",
       "    <tr>\n",
       "      <th>3</th>\n",
       "      <td>버튼을 누르고 있어야 되는데 생각보다 아이가 누르기에는 힘이 드네요.</td>\n",
       "      <td>0</td>\n",
       "    </tr>\n",
       "    <tr>\n",
       "      <th>4</th>\n",
       "      <td>유통기한은 그냥 표시 인가요 ? 청양맛 소세지 유통기한 되기 십일전에 상해 버리고 ...</td>\n",
       "      <td>0</td>\n",
       "    </tr>\n",
       "    <tr>\n",
       "      <th>...</th>\n",
       "      <td>...</td>\n",
       "      <td>...</td>\n",
       "    </tr>\n",
       "    <tr>\n",
       "      <th>39995</th>\n",
       "      <td>저..아직 배송이안왔어요...어떻게 된거죠??일주일이 훨씬넘었는데...당황스럽네요....</td>\n",
       "      <td>0</td>\n",
       "    </tr>\n",
       "    <tr>\n",
       "      <th>39996</th>\n",
       "      <td>샵에 가서 받았었는데 이거 구매하고 집에서 셀프로 하는데 넘나 좋으네요^^* 세트로...</td>\n",
       "      <td>1</td>\n",
       "    </tr>\n",
       "    <tr>\n",
       "      <th>39997</th>\n",
       "      <td>정말 잘 만들었는데 한번 깨면 다시 하고 싶지는 않다. 반복 클리어를 좋아하지 않으...</td>\n",
       "      <td>1</td>\n",
       "    </tr>\n",
       "    <tr>\n",
       "      <th>39998</th>\n",
       "      <td>모양이랑 바람세기등 맘에 드는데 두개 구매한것중 하나가 완충후 금방 꺼지더니 또 나...</td>\n",
       "      <td>0</td>\n",
       "    </tr>\n",
       "    <tr>\n",
       "      <th>39999</th>\n",
       "      <td>여자는 예쁜데 지루 지루</td>\n",
       "      <td>0</td>\n",
       "    </tr>\n",
       "  </tbody>\n",
       "</table>\n",
       "<p>40000 rows × 2 columns</p>\n",
       "</div>"
      ],
      "text/plain": [
       "                                                 reviews  label\n",
       "0            아이가 태어났는데 뭔가 문제가 있을 수 있다고 들었어. 너무 불안하고 두려워.      0\n",
       "1                              김명민밖에 몰랐는데 지금보니 배우들이 빵빵하네      1\n",
       "2                                             재밌는데 재미가없음      0\n",
       "3                 버튼을 누르고 있어야 되는데 생각보다 아이가 누르기에는 힘이 드네요.      0\n",
       "4      유통기한은 그냥 표시 인가요 ? 청양맛 소세지 유통기한 되기 십일전에 상해 버리고 ...      0\n",
       "...                                                  ...    ...\n",
       "39995  저..아직 배송이안왔어요...어떻게 된거죠??일주일이 훨씬넘었는데...당황스럽네요....      0\n",
       "39996  샵에 가서 받았었는데 이거 구매하고 집에서 셀프로 하는데 넘나 좋으네요^^* 세트로...      1\n",
       "39997  정말 잘 만들었는데 한번 깨면 다시 하고 싶지는 않다. 반복 클리어를 좋아하지 않으...      1\n",
       "39998  모양이랑 바람세기등 맘에 드는데 두개 구매한것중 하나가 완충후 금방 꺼지더니 또 나...      0\n",
       "39999                                      여자는 예쁜데 지루 지루      0\n",
       "\n",
       "[40000 rows x 2 columns]"
      ]
     },
     "execution_count": 159,
     "metadata": {},
     "output_type": "execute_result"
    }
   ],
   "source": [
    "total_data = total_data.drop(total_data.columns[0],axis='columns')\n",
    "total_data"
   ]
  },
  {
   "cell_type": "code",
   "execution_count": 160,
   "metadata": {},
   "outputs": [],
   "source": [
    "total_data['reviews'] = total_data['reviews'].str.replace(\"[^ㄱ-ㅎ ㅏ-ㅣ가-힣]\",\"\")\n",
    "total_data['reviews'].replace('',np.nan, inplace=True)"
   ]
  },
  {
   "cell_type": "code",
   "execution_count": 161,
   "metadata": {},
   "outputs": [
    {
     "name": "stdout",
     "output_type": "stream",
     "text": [
      "/Users/anseon-yeong/수업/2021-2/텍스트정보처리/프로젝트/Mecab-ko-for-Google-Colab\n"
     ]
    }
   ],
   "source": [
    "%cd Mecab-ko-for-Google-Colab"
   ]
  },
  {
   "cell_type": "code",
   "execution_count": 162,
   "metadata": {},
   "outputs": [],
   "source": [
    "mecab = Mecab()\n",
    "\n",
    "#불용어 정의\n",
    "stopwords = ['은','는','이','가','도','다','의','한','에','하','고','을','를','인','듯','과','와','네','들','게','임','.','!','영화','..']"
   ]
  },
  {
   "cell_type": "code",
   "execution_count": 163,
   "metadata": {},
   "outputs": [],
   "source": [
    "total_data = total_data.dropna(axis=0)"
   ]
  },
  {
   "cell_type": "code",
   "execution_count": 164,
   "metadata": {},
   "outputs": [
    {
     "name": "stderr",
     "output_type": "stream",
     "text": [
      "<ipython-input-164-4e85d4a76500>:1: SettingWithCopyWarning: \n",
      "A value is trying to be set on a copy of a slice from a DataFrame.\n",
      "Try using .loc[row_indexer,col_indexer] = value instead\n",
      "\n",
      "See the caveats in the documentation: https://pandas.pydata.org/pandas-docs/stable/user_guide/indexing.html#returning-a-view-versus-a-copy\n",
      "  total_data['tokenized'] = total_data['reviews'].apply(mecab.morphs)\n",
      "<ipython-input-164-4e85d4a76500>:2: SettingWithCopyWarning: \n",
      "A value is trying to be set on a copy of a slice from a DataFrame.\n",
      "Try using .loc[row_indexer,col_indexer] = value instead\n",
      "\n",
      "See the caveats in the documentation: https://pandas.pydata.org/pandas-docs/stable/user_guide/indexing.html#returning-a-view-versus-a-copy\n",
      "  total_data['tokenized'] = total_data['tokenized'].apply(lambda x: [item for item in x if item not in stopwords])\n"
     ]
    }
   ],
   "source": [
    "total_data['tokenized'] = total_data['reviews'].apply(mecab.morphs)\n",
    "total_data['tokenized'] = total_data['tokenized'].apply(lambda x: [item for item in x if item not in stopwords])"
   ]
  },
  {
   "cell_type": "code",
   "execution_count": 128,
   "metadata": {},
   "outputs": [],
   "source": [
    "data = total_data['tokenized'].values"
   ]
  },
  {
   "cell_type": "code",
   "execution_count": 141,
   "metadata": {},
   "outputs": [],
   "source": [
    "final_data = tokenizer.texts_to_sequences(data)"
   ]
  },
  {
   "cell_type": "code",
   "execution_count": 142,
   "metadata": {},
   "outputs": [
    {
     "name": "stdout",
     "output_type": "stream",
     "text": [
      "리뷰의 최대 길이 :  0\n",
      "리뷰의 평균 길이 : 0.0\n"
     ]
    },
    {
     "data": {
      "image/png": "[encoded data removed]",
      "text/plain": [
       "<Figure size 432x288 with 1 Axes>"
      ]
     },
     "metadata": {
      "needs_background": "light"
     },
     "output_type": "display_data"
    }
   ],
   "source": [
    "#패딩을 위해 최대 길이와 길이 분포 확인\n",
    "\n",
    "print('리뷰의 최대 길이 : ', max(len(l) for l in final_data))\n",
    "print('리뷰의 평균 길이 :' , sum(map(len, final_data))/len(final_data))\n",
    "\n",
    "plt.hist([len(s) for s in final_data], bins = 50)\n",
    "plt.xlabel('length of samples')\n",
    "plt.ylabel('number of samples')\n",
    "plt.show()"
   ]
  },
  {
   "cell_type": "code",
   "execution_count": null,
   "metadata": {},
   "outputs": [],
   "source": []
  }
 ],
 "metadata": {
  "kernelspec": {
   "display_name": "Python 3",
   "language": "python",
   "name": "python3"
  },
  "language_info": {
   "codemirror_mode": {
    "name": "ipython",
    "version": 3
   },
   "file_extension": ".py",
   "mimetype": "text/x-python",
   "name": "python",
   "nbconvert_exporter": "python",
   "pygments_lexer": "ipython3",
   "version": "3.8.5"
  }
 },
 "nbformat": 4,
 "nbformat_minor": 4
}
