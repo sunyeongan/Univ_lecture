{
 "cells": [
  {
   "cell_type": "code",
   "execution_count": 3,
   "metadata": {},
   "outputs": [
    {
     "name": "stdout",
     "output_type": "stream",
     "text": [
      "/Users/anseon-yeong/수업/2021-2/텍스트정보처리/프로젝트\n"
     ]
    }
   ],
   "source": [
    "%cd .."
   ]
  },
  {
   "cell_type": "code",
   "execution_count": 85,
   "metadata": {},
   "outputs": [],
   "source": [
    "import pandas as pd\n",
    "import numpy as np\n",
    "import matplotlib.pyplot as plt\n",
    "from konlpy.tag import Mecab\n",
    "from tensorflow.keras.preprocessing.text import Tokenizer\n",
    "from tensorflow.keras.preprocessing.sequence import pad_sequences"
   ]
  },
  {
   "cell_type": "code",
   "execution_count": 86,
   "metadata": {},
   "outputs": [],
   "source": [
    "total_data = pd.read_csv('./ex50000data.csv')"
   ]
  },
  {
   "cell_type": "code",
   "execution_count": 87,
   "metadata": {},
   "outputs": [
    {
     "name": "stdout",
     "output_type": "stream",
     "text": [
      "전체 리뷰 개수 :  40000\n"
     ]
    }
   ],
   "source": [
    "print('전체 리뷰 개수 : ', len(total_data))"
   ]
  },
  {
   "cell_type": "code",
   "execution_count": 88,
   "metadata": {},
   "outputs": [
    {
     "data": {
      "text/html": [
       "<div>\n",
       "<style scoped>\n",
       "    .dataframe tbody tr th:only-of-type {\n",
       "        vertical-align: middle;\n",
       "    }\n",
       "\n",
       "    .dataframe tbody tr th {\n",
       "        vertical-align: top;\n",
       "    }\n",
       "\n",
       "    .dataframe thead th {\n",
       "        text-align: right;\n",
       "    }\n",
       "</style>\n",
       "<table border=\"1\" class=\"dataframe\">\n",
       "  <thead>\n",
       "    <tr style=\"text-align: right;\">\n",
       "      <th></th>\n",
       "      <th>Unnamed: 0</th>\n",
       "      <th>reviews</th>\n",
       "      <th>label</th>\n",
       "    </tr>\n",
       "  </thead>\n",
       "  <tbody>\n",
       "    <tr>\n",
       "      <th>0</th>\n",
       "      <td>561489</td>\n",
       "      <td>아이가 태어났는데 뭔가 문제가 있을 수 있다고 들었어. 너무 불안하고 두려워.</td>\n",
       "      <td>0</td>\n",
       "    </tr>\n",
       "    <tr>\n",
       "      <th>1</th>\n",
       "      <td>21222</td>\n",
       "      <td>김명민밖에 몰랐는데 지금보니 배우들이 빵빵하네</td>\n",
       "      <td>1</td>\n",
       "    </tr>\n",
       "    <tr>\n",
       "      <th>2</th>\n",
       "      <td>477522</td>\n",
       "      <td>재밌는데 재미가없음</td>\n",
       "      <td>0</td>\n",
       "    </tr>\n",
       "    <tr>\n",
       "      <th>3</th>\n",
       "      <td>311758</td>\n",
       "      <td>버튼을 누르고 있어야 되는데 생각보다 아이가 누르기에는 힘이 드네요.</td>\n",
       "      <td>0</td>\n",
       "    </tr>\n",
       "    <tr>\n",
       "      <th>4</th>\n",
       "      <td>300142</td>\n",
       "      <td>유통기한은 그냥 표시 인가요 ? 청양맛 소세지 유통기한 되기 십일전에 상해 버리고 ...</td>\n",
       "      <td>0</td>\n",
       "    </tr>\n",
       "    <tr>\n",
       "      <th>...</th>\n",
       "      <td>...</td>\n",
       "      <td>...</td>\n",
       "      <td>...</td>\n",
       "    </tr>\n",
       "    <tr>\n",
       "      <th>39995</th>\n",
       "      <td>384295</td>\n",
       "      <td>저..아직 배송이안왔어요...어떻게 된거죠??일주일이 훨씬넘었는데...당황스럽네요....</td>\n",
       "      <td>0</td>\n",
       "    </tr>\n",
       "    <tr>\n",
       "      <th>39996</th>\n",
       "      <td>392585</td>\n",
       "      <td>샵에 가서 받았었는데 이거 구매하고 집에서 셀프로 하는데 넘나 좋으네요^^* 세트로...</td>\n",
       "      <td>1</td>\n",
       "    </tr>\n",
       "    <tr>\n",
       "      <th>39997</th>\n",
       "      <td>424582</td>\n",
       "      <td>정말 잘 만들었는데 한번 깨면 다시 하고 싶지는 않다. 반복 클리어를 좋아하지 않으...</td>\n",
       "      <td>1</td>\n",
       "    </tr>\n",
       "    <tr>\n",
       "      <th>39998</th>\n",
       "      <td>281614</td>\n",
       "      <td>모양이랑 바람세기등 맘에 드는데 두개 구매한것중 하나가 완충후 금방 꺼지더니 또 나...</td>\n",
       "      <td>0</td>\n",
       "    </tr>\n",
       "    <tr>\n",
       "      <th>39999</th>\n",
       "      <td>130799</td>\n",
       "      <td>여자는 예쁜데 지루 지루</td>\n",
       "      <td>0</td>\n",
       "    </tr>\n",
       "  </tbody>\n",
       "</table>\n",
       "<p>40000 rows × 3 columns</p>\n",
       "</div>"
      ],
      "text/plain": [
       "       Unnamed: 0                                            reviews  label\n",
       "0          561489        아이가 태어났는데 뭔가 문제가 있을 수 있다고 들었어. 너무 불안하고 두려워.      0\n",
       "1           21222                          김명민밖에 몰랐는데 지금보니 배우들이 빵빵하네      1\n",
       "2          477522                                         재밌는데 재미가없음      0\n",
       "3          311758             버튼을 누르고 있어야 되는데 생각보다 아이가 누르기에는 힘이 드네요.      0\n",
       "4          300142  유통기한은 그냥 표시 인가요 ? 청양맛 소세지 유통기한 되기 십일전에 상해 버리고 ...      0\n",
       "...           ...                                                ...    ...\n",
       "39995      384295  저..아직 배송이안왔어요...어떻게 된거죠??일주일이 훨씬넘었는데...당황스럽네요....      0\n",
       "39996      392585  샵에 가서 받았었는데 이거 구매하고 집에서 셀프로 하는데 넘나 좋으네요^^* 세트로...      1\n",
       "39997      424582  정말 잘 만들었는데 한번 깨면 다시 하고 싶지는 않다. 반복 클리어를 좋아하지 않으...      1\n",
       "39998      281614  모양이랑 바람세기등 맘에 드는데 두개 구매한것중 하나가 완충후 금방 꺼지더니 또 나...      0\n",
       "39999      130799                                      여자는 예쁜데 지루 지루      0\n",
       "\n",
       "[40000 rows x 3 columns]"
      ]
     },
     "execution_count": 88,
     "metadata": {},
     "output_type": "execute_result"
    }
   ],
   "source": [
    "total_data"
   ]
  },
  {
   "cell_type": "code",
   "execution_count": 89,
   "metadata": {},
   "outputs": [
    {
     "data": {
      "text/html": [
       "<div>\n",
       "<style scoped>\n",
       "    .dataframe tbody tr th:only-of-type {\n",
       "        vertical-align: middle;\n",
       "    }\n",
       "\n",
       "    .dataframe tbody tr th {\n",
       "        vertical-align: top;\n",
       "    }\n",
       "\n",
       "    .dataframe thead th {\n",
       "        text-align: right;\n",
       "    }\n",
       "</style>\n",
       "<table border=\"1\" class=\"dataframe\">\n",
       "  <thead>\n",
       "    <tr style=\"text-align: right;\">\n",
       "      <th></th>\n",
       "      <th>reviews</th>\n",
       "      <th>label</th>\n",
       "    </tr>\n",
       "  </thead>\n",
       "  <tbody>\n",
       "    <tr>\n",
       "      <th>0</th>\n",
       "      <td>아이가 태어났는데 뭔가 문제가 있을 수 있다고 들었어. 너무 불안하고 두려워.</td>\n",
       "      <td>0</td>\n",
       "    </tr>\n",
       "    <tr>\n",
       "      <th>1</th>\n",
       "      <td>김명민밖에 몰랐는데 지금보니 배우들이 빵빵하네</td>\n",
       "      <td>1</td>\n",
       "    </tr>\n",
       "    <tr>\n",
       "      <th>2</th>\n",
       "      <td>재밌는데 재미가없음</td>\n",
       "      <td>0</td>\n",
       "    </tr>\n",
       "    <tr>\n",
       "      <th>3</th>\n",
       "      <td>버튼을 누르고 있어야 되는데 생각보다 아이가 누르기에는 힘이 드네요.</td>\n",
       "      <td>0</td>\n",
       "    </tr>\n",
       "    <tr>\n",
       "      <th>4</th>\n",
       "      <td>유통기한은 그냥 표시 인가요 ? 청양맛 소세지 유통기한 되기 십일전에 상해 버리고 ...</td>\n",
       "      <td>0</td>\n",
       "    </tr>\n",
       "    <tr>\n",
       "      <th>...</th>\n",
       "      <td>...</td>\n",
       "      <td>...</td>\n",
       "    </tr>\n",
       "    <tr>\n",
       "      <th>39995</th>\n",
       "      <td>저..아직 배송이안왔어요...어떻게 된거죠??일주일이 훨씬넘었는데...당황스럽네요....</td>\n",
       "      <td>0</td>\n",
       "    </tr>\n",
       "    <tr>\n",
       "      <th>39996</th>\n",
       "      <td>샵에 가서 받았었는데 이거 구매하고 집에서 셀프로 하는데 넘나 좋으네요^^* 세트로...</td>\n",
       "      <td>1</td>\n",
       "    </tr>\n",
       "    <tr>\n",
       "      <th>39997</th>\n",
       "      <td>정말 잘 만들었는데 한번 깨면 다시 하고 싶지는 않다. 반복 클리어를 좋아하지 않으...</td>\n",
       "      <td>1</td>\n",
       "    </tr>\n",
       "    <tr>\n",
       "      <th>39998</th>\n",
       "      <td>모양이랑 바람세기등 맘에 드는데 두개 구매한것중 하나가 완충후 금방 꺼지더니 또 나...</td>\n",
       "      <td>0</td>\n",
       "    </tr>\n",
       "    <tr>\n",
       "      <th>39999</th>\n",
       "      <td>여자는 예쁜데 지루 지루</td>\n",
       "      <td>0</td>\n",
       "    </tr>\n",
       "  </tbody>\n",
       "</table>\n",
       "<p>40000 rows × 2 columns</p>\n",
       "</div>"
      ],
      "text/plain": [
       "                                                 reviews  label\n",
       "0            아이가 태어났는데 뭔가 문제가 있을 수 있다고 들었어. 너무 불안하고 두려워.      0\n",
       "1                              김명민밖에 몰랐는데 지금보니 배우들이 빵빵하네      1\n",
       "2                                             재밌는데 재미가없음      0\n",
       "3                 버튼을 누르고 있어야 되는데 생각보다 아이가 누르기에는 힘이 드네요.      0\n",
       "4      유통기한은 그냥 표시 인가요 ? 청양맛 소세지 유통기한 되기 십일전에 상해 버리고 ...      0\n",
       "...                                                  ...    ...\n",
       "39995  저..아직 배송이안왔어요...어떻게 된거죠??일주일이 훨씬넘었는데...당황스럽네요....      0\n",
       "39996  샵에 가서 받았었는데 이거 구매하고 집에서 셀프로 하는데 넘나 좋으네요^^* 세트로...      1\n",
       "39997  정말 잘 만들었는데 한번 깨면 다시 하고 싶지는 않다. 반복 클리어를 좋아하지 않으...      1\n",
       "39998  모양이랑 바람세기등 맘에 드는데 두개 구매한것중 하나가 완충후 금방 꺼지더니 또 나...      0\n",
       "39999                                      여자는 예쁜데 지루 지루      0\n",
       "\n",
       "[40000 rows x 2 columns]"
      ]
     },
     "execution_count": 89,
     "metadata": {},
     "output_type": "execute_result"
    }
   ],
   "source": [
    "total_data = total_data.drop(total_data.columns[0],axis='columns')\n",
    "total_data"
   ]
  },
  {
   "cell_type": "code",
   "execution_count": 90,
   "metadata": {},
   "outputs": [],
   "source": [
    "total_data['reviews'] = total_data['reviews'].str.replace(\"[^ㄱ-하-ㅣ가-힣]\",\"\")\n",
    "total_data['reviews'].replace('',np.nan, inplace=True)"
   ]
  },
  {
   "cell_type": "code",
   "execution_count": 91,
   "metadata": {},
   "outputs": [
    {
     "name": "stdout",
     "output_type": "stream",
     "text": [
      "/Users/anseon-yeong/수업/2021-2/텍스트정보처리/프로젝트/Mecab-ko-for-Google-Colab\n"
     ]
    }
   ],
   "source": [
    "%cd Mecab-ko-for-Google-Colab"
   ]
  },
  {
   "cell_type": "code",
   "execution_count": 92,
   "metadata": {},
   "outputs": [
    {
     "data": {
      "text/plain": [
       "'/Users/anseon-yeong/수업/2021-2/텍스트정보처리/프로젝트/Mecab-ko-for-Google-Colab'"
      ]
     },
     "execution_count": 92,
     "metadata": {},
     "output_type": "execute_result"
    }
   ],
   "source": [
    "pwd"
   ]
  },
  {
   "cell_type": "code",
   "execution_count": 93,
   "metadata": {},
   "outputs": [],
   "source": [
    "\n",
    "#형태소 분석기로 토큰화\n",
    "mecab = Mecab()\n",
    "\n",
    "#불용어 정의\n",
    "stopwords = ['은','는','이','가','도','다','의','한','에','하','고','을','를','인','듯','과','와','네','들','게','임','.','!','영화','..']"
   ]
  },
  {
   "cell_type": "code",
   "execution_count": 94,
   "metadata": {},
   "outputs": [],
   "source": [
    "total_data = total_data.dropna(axis=0)"
   ]
  },
  {
   "cell_type": "code",
   "execution_count": 95,
   "metadata": {},
   "outputs": [
    {
     "name": "stderr",
     "output_type": "stream",
     "text": [
      "<ipython-input-95-4e85d4a76500>:1: SettingWithCopyWarning: \n",
      "A value is trying to be set on a copy of a slice from a DataFrame.\n",
      "Try using .loc[row_indexer,col_indexer] = value instead\n",
      "\n",
      "See the caveats in the documentation: https://pandas.pydata.org/pandas-docs/stable/user_guide/indexing.html#returning-a-view-versus-a-copy\n",
      "  total_data['tokenized'] = total_data['reviews'].apply(mecab.morphs)\n",
      "<ipython-input-95-4e85d4a76500>:2: SettingWithCopyWarning: \n",
      "A value is trying to be set on a copy of a slice from a DataFrame.\n",
      "Try using .loc[row_indexer,col_indexer] = value instead\n",
      "\n",
      "See the caveats in the documentation: https://pandas.pydata.org/pandas-docs/stable/user_guide/indexing.html#returning-a-view-versus-a-copy\n",
      "  total_data['tokenized'] = total_data['tokenized'].apply(lambda x: [item for item in x if item not in stopwords])\n"
     ]
    }
   ],
   "source": [
    "total_data['tokenized'] = total_data['reviews'].apply(mecab.morphs)\n",
    "total_data['tokenized'] = total_data['tokenized'].apply(lambda x: [item for item in x if item not in stopwords])"
   ]
  },
  {
   "cell_type": "code",
   "execution_count": 96,
   "metadata": {},
   "outputs": [],
   "source": [
    "X_val = total_data['tokenized'].values\n",
    "y_val = total_data['label'].values"
   ]
  },
  {
   "cell_type": "code",
   "execution_count": 97,
   "metadata": {},
   "outputs": [],
   "source": [
    "#단어 집합 생성\n",
    "tokenizer = Tokenizer()\n",
    "tokenizer.fit_on_texts(X_val)"
   ]
  },
  {
   "cell_type": "code",
   "execution_count": 98,
   "metadata": {},
   "outputs": [
    {
     "name": "stdout",
     "output_type": "stream",
     "text": [
      "단어 집합(vocabulary)의 크기 :  32788\n"
     ]
    }
   ],
   "source": [
    "#등장 횟수가 1회인 단어들은 제거\n",
    "threshold = 2\n",
    "\n",
    "total_cnt = len(tokenizer.word_index)#총 단어수\n",
    "rare_cnt = 0 # 등장 횟수가 1회인 단어 카운트\n",
    "\n",
    "for key, value in tokenizer.word_counts.items():\n",
    "    \n",
    "    if(value < threshold):\n",
    "        rare_cnt = rare_cnt + 1\n",
    "        \n",
    "print('단어 집합(vocabulary)의 크기 : ',total_cnt)\n"
   ]
  },
  {
   "cell_type": "code",
   "execution_count": 99,
   "metadata": {},
   "outputs": [
    {
     "name": "stdout",
     "output_type": "stream",
     "text": [
      "단어 집합의 크기 : 16093\n"
     ]
    }
   ],
   "source": [
    "vocab_size = total_cnt - rare_cnt + 2\n",
    "print('단어 집합의 크기 :',vocab_size)"
   ]
  },
  {
   "cell_type": "code",
   "execution_count": 100,
   "metadata": {},
   "outputs": [],
   "source": [
    "tokenzier = Tokenizer(vocab_size, oov_token = 'OOV')\n",
    "tokenzier.fit_on_texts(X_val)\n",
    "X_val = tokenizer.texts_to_sequences(X_val)"
   ]
  },
  {
   "cell_type": "code",
   "execution_count": 101,
   "metadata": {},
   "outputs": [
    {
     "name": "stdout",
     "output_type": "stream",
     "text": [
      "[165, 6795, 4, 367, 292, 3, 40, 3, 102, 28, 7, 8, 1530, 5483]\n"
     ]
    }
   ],
   "source": [
    "print(X_val[0])"
   ]
  },
  {
   "cell_type": "code",
   "execution_count": 102,
   "metadata": {},
   "outputs": [
    {
     "name": "stdout",
     "output_type": "stream",
     "text": [
      "리뷰의 최대 길이 :  182\n",
      "리뷰의 평균 길이 : 13.548493726992712\n"
     ]
    },
    {
     "data": {
      "image/png": "[encoded data removed]",
      "text/plain": [
       "<Figure size 432x288 with 1 Axes>"
      ]
     },
     "metadata": {
      "needs_background": "light"
     },
     "output_type": "display_data"
    }
   ],
   "source": [
    "#패딩을 위해 최대 길이와 길이 분포 확인\n",
    "\n",
    "print('리뷰의 최대 길이 : ', max(len(l) for l in X_val))\n",
    "print('리뷰의 평균 길이 :' , sum(map(len, X_val))/len(X_val))\n",
    "\n",
    "plt.hist([len(s) for s in X_val], bins = 50)\n",
    "plt.xlabel('length of samples')\n",
    "plt.ylabel('number of samples')\n",
    "plt.show()"
   ]
  },
  {
   "cell_type": "code",
   "execution_count": 103,
   "metadata": {},
   "outputs": [
    {
     "name": "stdout",
     "output_type": "stream",
     "text": [
      "(39933, 300)\n",
      "[   0    0    0    0    0    0    0    0    0    0    0    0    0    0\n",
      "    0    0    0    0    0    0    0    0    0    0    0    0    0    0\n",
      "    0    0    0    0    0    0    0    0    0    0    0    0    0    0\n",
      "    0    0    0    0    0    0    0    0    0    0    0    0    0    0\n",
      "    0    0    0    0    0    0    0    0    0    0    0    0    0    0\n",
      "    0    0    0    0    0    0    0    0    0    0    0    0    0    0\n",
      "    0    0    0    0    0    0    0    0    0    0    0    0    0    0\n",
      "    0    0    0    0    0    0    0    0    0    0    0    0    0    0\n",
      "    0    0    0    0    0    0    0    0    0    0    0    0    0    0\n",
      "    0    0    0    0    0    0    0    0    0    0    0    0    0    0\n",
      "    0    0    0    0    0    0    0    0    0    0    0    0    0    0\n",
      "    0    0    0    0    0    0    0    0    0    0    0    0    0    0\n",
      "    0    0    0    0    0    0    0    0    0    0    0    0    0    0\n",
      "    0    0    0    0    0    0    0    0    0    0    0    0    0    0\n",
      "    0    0    0    0    0    0    0    0    0    0    0    0    0    0\n",
      "    0    0    0    0    0    0    0    0    0    0    0    0    0    0\n",
      "    0    0    0    0    0    0    0    0    0    0    0    0    0    0\n",
      "    0    0    0    0    0    0    0    0    0    0    0    0    0    0\n",
      "    0    0    0    0    0    0    0    0    0    0    0    0    0    0\n",
      "    0    0    0    0    0    0    0    0    0    0    0    0    0    0\n",
      "    0    0    0    0    0    0  165 6795    4  367  292    3   40    3\n",
      "  102   28    7    8 1530 5483]\n"
     ]
    }
   ],
   "source": [
    "#최대 길이 80으로 패딩\n",
    "\n",
    "max_len = 300\n",
    "X_val = pad_sequences(X_val, maxlen = max_len)\n",
    "\n",
    "print(X_val.shape)\n",
    "print(X_val[0])"
   ]
  },
  {
   "cell_type": "code",
   "execution_count": 105,
   "metadata": {},
   "outputs": [
    {
     "name": "stdout",
     "output_type": "stream",
     "text": [
      "/Users/anseon-yeong/수업/2021-2/텍스트정보처리/프로젝트\n"
     ]
    }
   ],
   "source": [
    "%cd .."
   ]
  },
  {
   "cell_type": "code",
   "execution_count": 106,
   "metadata": {},
   "outputs": [],
   "source": [
    "from keras.models import load_model\n",
    "loaded_model = load_model('./best_model_916.h5')#저장한 모델 불러오기\n",
    "\n",
    "y_pred = loaded_model.predict(test_data)\n",
    "y_pred = np.round(y_pred)\n",
    "\n",
    "import pandas as pd\n",
    "predictions = pd.DataFrame(y_pred).to_csv('./prediction_916.csv')"
   ]
  },
  {
   "cell_type": "code",
   "execution_count": 107,
   "metadata": {},
   "outputs": [
    {
     "name": "stdout",
     "output_type": "stream",
     "text": [
      "1248/1248 [==============================] - 21s 16ms/step - loss: 0.1297 - accuracy: 0.9998\n",
      "\n",
      " 테스트 정확도 : 0.999775\n"
     ]
    }
   ],
   "source": [
    "print(\"\\n 테스트 정확도 : %4f\"%(loaded_model.evaluate(X_val,y_pred)[1]))"
   ]
  },
  {
   "cell_type": "code",
   "execution_count": 108,
   "metadata": {},
   "outputs": [
    {
     "name": "stdout",
     "output_type": "stream",
     "text": [
      "Accuracy score :  0.5343199859765106\n",
      "              precision    recall  f1-score   support\n",
      "\n",
      "           0       0.53      0.93      0.67     20781\n",
      "           1       0.58      0.11      0.18     19152\n",
      "\n",
      "    accuracy                           0.53     39933\n",
      "   macro avg       0.55      0.52      0.43     39933\n",
      "weighted avg       0.55      0.53      0.44     39933\n",
      "\n"
     ]
    }
   ],
   "source": [
    "from sklearn.metrics import accuracy_score\n",
    "from sklearn.metrics import classification_report\n",
    "\n",
    "print(\"Accuracy score : \", accuracy_score(y_val,y_pred))\n",
    "print(classification_report(y_val,y_pred))"
   ]
  },
  {
   "cell_type": "code",
   "execution_count": null,
   "metadata": {},
   "outputs": [],
   "source": [
    "from sklearn.metrics import accuracy_score\n",
    "from sklearn.metrics import classification_report\n",
    "\n",
    "y_pred = model_.predict()\n",
    "y_pred = np.round(y_pred)\n",
    "print(\"Accuracy score : \", accuracy_score(y_val,y_pred))\n",
    "print(classification_report(y_val,y_pred))"
   ]
  }
 ],
 "metadata": {
  "kernelspec": {
   "display_name": "Python 3",
   "language": "python",
   "name": "python3"
  },
  "language_info": {
   "codemirror_mode": {
    "name": "ipython",
    "version": 3
   },
   "file_extension": ".py",
   "mimetype": "text/x-python",
   "name": "python",
   "nbconvert_exporter": "python",
   "pygments_lexer": "ipython3",
   "version": "3.8.5"
  }
 },
 "nbformat": 4,
 "nbformat_minor": 4
}
