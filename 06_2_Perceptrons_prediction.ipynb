{
 "cells": [
  {
   "cell_type": "markdown",
   "metadata": {},
   "source": [
    "### Perceptrons - Making Predictions"
   ]
  },
  {
   "cell_type": "markdown",
   "metadata": {},
   "source": [
    "Assuming that we have\n",
    "```\n",
    "weights = [-0.1, 0.206, -0.234]  \n",
    "```"
   ]
  },
  {
   "cell_type": "code",
   "execution_count": 1,
   "metadata": {},
   "outputs": [],
   "source": [
    "def predict2(X, w):\n",
    "    activation = w[0] + w[1]* X[0] + w[2]* X[1]\n",
    "    if activation >= 0.0:\n",
    "        return 1.0\n",
    "    else:\n",
    "        return 0.0"
   ]
  },
  {
   "cell_type": "code",
   "execution_count": 2,
   "metadata": {},
   "outputs": [],
   "source": [
    "# test predictions\n",
    "dataset = [[2.7810836,2.550537003,0],\n",
    "    [1.465489372,2.362125076,0],\n",
    "    [3.396561688,4.400293529,0],\n",
    "    [1.38807019,1.850220317,0],\n",
    "    [3.06407232,3.005305973,0],\n",
    "    [7.627531214,2.759262235,1],\n",
    "    [5.332441248,2.088626775,1],\n",
    "    [6.922596716,1.77106367,1],\n",
    "    [8.675418651,-0.242068655,1],\n",
    "    [7.673756466,3.508563011,1]]"
   ]
  },
  {
   "cell_type": "code",
   "execution_count": 3,
   "metadata": {},
   "outputs": [],
   "source": [
    "weights = [-0.1, 0.206, -0.234]"
   ]
  },
  {
   "cell_type": "code",
   "execution_count": 4,
   "metadata": {},
   "outputs": [
    {
     "name": "stdout",
     "output_type": "stream",
     "text": [
      "Expected=0, Predicted=0.0\n",
      "Expected=0, Predicted=0.0\n",
      "Expected=0, Predicted=0.0\n",
      "Expected=0, Predicted=0.0\n",
      "Expected=0, Predicted=0.0\n",
      "Expected=1, Predicted=1.0\n",
      "Expected=1, Predicted=1.0\n",
      "Expected=1, Predicted=1.0\n",
      "Expected=1, Predicted=1.0\n",
      "Expected=1, Predicted=1.0\n"
     ]
    }
   ],
   "source": [
    "for row in dataset:\n",
    "    prediction = predict2(row, weights)\n",
    "    print(\"Expected={}, Predicted={}\".format(row[-1], prediction))"
   ]
  },
  {
   "cell_type": "markdown",
   "metadata": {},
   "source": [
    "* More fancy !"
   ]
  },
  {
   "cell_type": "code",
   "execution_count": 1,
   "metadata": {},
   "outputs": [],
   "source": [
    "def predict(row, weights):\n",
    "    activation = weights[0]\n",
    "    for i in range(len(row)-1):\n",
    "        activation += weights[i + 1] * row[i]\n",
    "    return 1.0 if activation >= 0.0 else 0.0"
   ]
  },
  {
   "cell_type": "code",
   "execution_count": 10,
   "metadata": {},
   "outputs": [
    {
     "name": "stdout",
     "output_type": "stream",
     "text": [
      "Expected=0, Predicted=0.0\n",
      "Expected=0, Predicted=0.0\n",
      "Expected=0, Predicted=0.0\n",
      "Expected=0, Predicted=0.0\n",
      "Expected=0, Predicted=0.0\n",
      "Expected=1, Predicted=1.0\n",
      "Expected=1, Predicted=1.0\n",
      "Expected=1, Predicted=1.0\n",
      "Expected=1, Predicted=1.0\n",
      "Expected=1, Predicted=1.0\n"
     ]
    }
   ],
   "source": [
    "for row in dataset:\n",
    "    prediction = predict(row, weights)\n",
    "    print(\"Expected={}, Predicted={}\".format(row[-1], prediction))"
   ]
  },
  {
   "cell_type": "markdown",
   "metadata": {},
   "source": [
    "#### References"
   ]
  },
  {
   "cell_type": "markdown",
   "metadata": {},
   "source": [
    "https://machinelearningmastery.com/implement-perceptron-algorithm-scratch-python/"
   ]
  }
 ],
 "metadata": {
  "kernelspec": {
   "display_name": "Py35_keras",
   "language": "python",
   "name": "py35_keras"
  },
  "language_info": {
   "codemirror_mode": {
    "name": "ipython",
    "version": 3
   },
   "file_extension": ".py",
   "mimetype": "text/x-python",
   "name": "python",
   "nbconvert_exporter": "python",
   "pygments_lexer": "ipython3",
   "version": "3.5.2"
  }
 },
 "nbformat": 4,
 "nbformat_minor": 2
}
