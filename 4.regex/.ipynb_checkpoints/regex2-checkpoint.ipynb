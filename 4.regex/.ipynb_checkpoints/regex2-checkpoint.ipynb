{
 "cells": [
  {
   "cell_type": "code",
   "execution_count": 1,
   "metadata": {},
   "outputs": [],
   "source": [
    "import re"
   ]
  },
  {
   "cell_type": "code",
   "execution_count": 2,
   "metadata": {},
   "outputs": [],
   "source": [
    "def text_match(text,patterns):\n",
    "    if re.search(patterns, text):\n",
    "        return('일치하는 항목을 찾았습니다')\n",
    "    else:\n",
    "        return('일치하지 않음.')"
   ]
  },
  {
   "cell_type": "code",
   "execution_count": 7,
   "metadata": {},
   "outputs": [
    {
     "name": "stdout",
     "output_type": "stream",
     "text": [
      "테스트 패턴은 다음으로 시작하고 끝남\n",
      "일치하는 항목을 찾았습니다\n",
      "일치하는 항목을 찾았습니다\n"
     ]
    }
   ],
   "source": [
    "print(\"테스트 패턴은 다음으로 시작하고 끝남\")\n",
    "print(text_match(\"abbc\",\"^a.*c$\"))# ^ -> 시작 , . -> 무엇이 와도 상관없음 $ ->끝\n",
    "# a로 시작해서 c로 끝나는 패턴\n",
    "print(text_match(\"abc\",\"^a.c$\"))"
   ]
  },
  {
   "cell_type": "code",
   "execution_count": 29,
   "metadata": {},
   "outputs": [
    {
     "name": "stdout",
     "output_type": "stream",
     "text": [
      "단어로 시작함\n",
      "일치하는 항목을 찾았습니다\n",
      "일치하지 않음.\n"
     ]
    }
   ],
   "source": [
    "print(\"단어로 시작함\")\n",
    "print(text_match(\"Tuffy eats pie, Loki eats peas!\", \"^\\w+\"))# \\w 는 word 를 표현하며 알파벳 + 숫자 + _ 중의 한 문자임을 의미한다. \n",
    "print(text_match(\"T\", \"^\\w+\"))"
   ]
  },
  {
   "cell_type": "code",
   "execution_count": 51,
   "metadata": {},
   "outputs": [
    {
     "name": "stdout",
     "output_type": "stream",
     "text": [
      "단어와 선택적 문장부호로 끝남\n",
      "일치하는 항목을 찾았습니다\n",
      "일치하지 않음.\n"
     ]
    }
   ],
   "source": [
    "print(\"단어와 선택적 문장부호로 끝남\")# '\\w' -> word , '+' -> 왼쪽 문자가 1번이상은 나와야함 , '\\S' -> 공백문자가 아닌것을 표현 \n",
    "#'*' -> 왼쪽 문자가 0번이상 나와야함. '?' -> 왼쪽 문자가 들어가도 되고 안들어가도됨 '$'-> 문장의 맨뒤에 \n",
    "print(text_match(\"Tuffy eats pie, Loki eats peas!\", \"\\w+\\S*?$\"))\n",
    "print(text_match(\"T d \", \"\\w+\\S*?$\"))#맨 뒤에 공백만 없으면 참 \n",
    "\n"
   ]
  },
  {
   "cell_type": "code",
   "execution_count": 62,
   "metadata": {},
   "outputs": [
    {
     "name": "stdout",
     "output_type": "stream",
     "text": [
      "단어의 시작이나 끝이 아닌 문자가 포함된 단어 찾기\n",
      "일치하는 항목을 찾았습니다\n",
      "일치하지 않음.\n"
     ]
    }
   ],
   "source": [
    "print(\"단어의 시작이나 끝이 아닌 문자가 포함된 단어 찾기\")\n",
    "print(text_match(\"Tuffy eats pie, Loki eats peas!\", \"\\Bu\\B\"))\n",
    "print(text_match(\"ut\", \"\\Bu\\B\"))#u의 앞 뒤로 문자가 꼭 와야함 !!"
   ]
  },
  {
   "cell_type": "code",
   "execution_count": null,
   "metadata": {},
   "outputs": [],
   "source": []
  }
 ],
 "metadata": {
  "kernelspec": {
   "display_name": "Python 3",
   "language": "python",
   "name": "python3"
  },
  "language_info": {
   "codemirror_mode": {
    "name": "ipython",
    "version": 3
   },
   "file_extension": ".py",
   "mimetype": "text/x-python",
   "name": "python",
   "nbconvert_exporter": "python",
   "pygments_lexer": "ipython3",
   "version": "3.8.5"
  }
 },
 "nbformat": 4,
 "nbformat_minor": 4
}
