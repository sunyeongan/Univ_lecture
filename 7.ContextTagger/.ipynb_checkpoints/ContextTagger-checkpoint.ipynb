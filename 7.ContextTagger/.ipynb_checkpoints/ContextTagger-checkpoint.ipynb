{
 "cells": [
  {
   "cell_type": "code",
   "execution_count": 1,
   "metadata": {},
   "outputs": [],
   "source": [
    "import nltk\n",
    "sentences = [\n",
    "    \"What is your address when you're in Bangalore?\",\n",
    "    \"the president's address on the state of the economy.\",\n",
    "    \"He addressed his remarks to the lawyers in the audience.\",\n",
    "    \"In order to address an assembly, we should be ready\",\n",
    "    \"He laughed inwardly at the scene.\",\n",
    "    \"After all the advance publicity, the prizefight turned out to be a laugh.\",\n",
    "    \"We can learn to laugh a little at even our most serious foibles.\"\n",
    "]\n",
    "#문장에서 단어의 품사를 찾기 위해 피처 추출 개념을 활용하는 프로그램 "
   ]
  },
  {
   "cell_type": "code",
   "execution_count": 11,
   "metadata": {},
   "outputs": [],
   "source": [
    "def getSentenceWords():#문장을 나눠서 품사 태그 후 반환\n",
    "    sentwords = []\n",
    "    for sentence in sentences:\n",
    "        words = nltk.pos_tag(nltk.word_tokenize(sentence))#품사태그와 함께 단어가 포함\n",
    "        sentwords.append(words)\n",
    "    return sentwords\n",
    "\n",
    "def noContextTagger():#UnigramTagge로 태깅\n",
    "    tagger = nltk.UnigramTagger(getSentenceWords())#현재 단어를 보고 단어의 품사를 출력함\n",
    "    print(tagger.tag('the little remarks towards assembly are laughable'.split()))\n",
    "\n",
    "def withContextTagger():#주어진 단어 집합에 대한 피처 추출을 수행, 현재 단어와 이전 단어 정보의 마지막 세 문자의 딕셔너리 반환\n",
    "    def wordFeatures(words, wordPosInSentence):\n",
    "        \n",
    "        endFeatures = {\n",
    "            'last(1)': words[wordPosInSentence][-1],\n",
    "            'last(2)': words[wordPosInSentence][-2:],\n",
    "            'last(3)': words[wordPosInSentence][-3:],\n",
    "        }\n",
    "        #이전 단어를 사용해 현재 단어가 동사인지 명사인지 확인\n",
    "        if wordPosInSentence > 1:\n",
    "            endFeatures['prev'] = words[wordPosInSentence - 1]\n",
    "        else:\n",
    "            endFeatures['prev'] = '|NONE|'\n",
    "        return endFeatures\n",
    "    \n",
    "    allsentences = getSentenceWords()\n",
    "    featureddata = []\n",
    "    for sentence in allsentences:#분류할 때 사용하는 featurelist 및 tag 멤버의 튜플 포함\n",
    "        untaggedSentence = nltk.tag.untag(sentence)\n",
    "        featuredsentence = [(wordFeatures(untaggedSentence, index), tag) for index, (word, tag) in enumerate(sentence)]\n",
    "        featureddata.extend(featuredsentence)\n",
    "        \n",
    "    backup = int(len(featureddata) * 0.5)#train 50 , test 50 으로 데이터 나누기\n",
    "    traindata = featureddata[backup:]\n",
    "    testdata = featureddata[:backup]\n",
    "    classifier = nltk.NaiveBayesClassifier.train(traindata)\n",
    "    print(\"분류기 정확도 : {}\".format(nltk.classify.accuracy(classifier, testdata)))\n",
    "\n"
   ]
  },
  {
   "cell_type": "code",
   "execution_count": 12,
   "metadata": {},
   "outputs": [
    {
     "name": "stdout",
     "output_type": "stream",
     "text": [
      "[('the', 'DT'), ('little', 'JJ'), ('remarks', 'NNS'), ('towards', None), ('assembly', 'NN'), ('are', None), ('laughable', None)]\n",
      "분류기 정확도 : 0.46153846153846156\n"
     ]
    }
   ],
   "source": [
    "noContextTagger()\n",
    "withContextTagger()"
   ]
  },
  {
   "cell_type": "code",
   "execution_count": null,
   "metadata": {},
   "outputs": [],
   "source": []
  }
 ],
 "metadata": {
  "kernelspec": {
   "display_name": "Python 3",
   "language": "python",
   "name": "python3"
  },
  "language_info": {
   "codemirror_mode": {
    "name": "ipython",
    "version": 3
   },
   "file_extension": ".py",
   "mimetype": "text/x-python",
   "name": "python",
   "nbconvert_exporter": "python",
   "pygments_lexer": "ipython3",
   "version": "3.8.5"
  }
 },
 "nbformat": 4,
 "nbformat_minor": 4
}
