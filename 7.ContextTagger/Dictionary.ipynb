{
 "cells": [
  {
   "cell_type": "code",
   "execution_count": 2,
   "metadata": {},
   "outputs": [],
   "source": [
    "import nltk\n",
    "\n",
    "class LearningDictionary():\n",
    "    def __init__(self, sentence):\n",
    "        self.words = nltk.word_tokenize(sentence)#토큰화\n",
    "        self.tagged = nltk.pos_tag(self.words)#품사태깅\n",
    "        self.buildDictionary()#사전 생성?\n",
    "        self.buildReverseDictionary()\n",
    "\n",
    "    def buildDictionary(self):\n",
    "        self.dictionary = {}\n",
    "        for (word, pos) in self.tagged:\n",
    "            self.dictionary[word] = pos\n",
    "\n",
    "    def buildReverseDictionary(self):\n",
    "        self.rdictionary = {}\n",
    "        for key in self.dictionary.keys():\n",
    "            value = self.dictionary[key]\n",
    "            if value not in self.rdictionary:\n",
    "                self.rdictionary[value] = [key]\n",
    "            else:\n",
    "                self.rdictionary[value].append(key)\n",
    "\n",
    "    def isWordPresent(self, word):\n",
    "        return 'Yes' if word in self.dictionary else 'No'\n",
    "\n",
    "\n",
    "    def getPOSForWord(self, word):\n",
    "        return self.dictionary[word] if word in self.dictionary else None\n",
    "\n",
    "    def getWordsForPOS(self, pos):\n",
    "        return self.rdictionary[pos] if pos in self.rdictionary else None\n",
    "\n",
    "\n"
   ]
  },
  {
   "cell_type": "code",
   "execution_count": 4,
   "metadata": {},
   "outputs": [
    {
     "name": "stdout",
     "output_type": "stream",
     "text": [
      "Is 'chair' present in dictionary ? : 'No'\n",
      "POS 'NN' has '['weather']' words\n",
      "POS 'VBS' has 'None' words\n",
      "POS 'NNS' has '['flights']' words\n",
      "Is 'flights' present in dictionary ? : 'Yes'\n",
      "POS 'NN' has '['weather']' words\n",
      "POS 'VBS' has 'None' words\n",
      "POS 'NNS' has '['flights']' words\n",
      "Is 'delayed' present in dictionary ? : 'Yes'\n",
      "POS 'NN' has '['weather']' words\n",
      "POS 'VBS' has 'None' words\n",
      "POS 'NNS' has '['flights']' words\n",
      "Is 'pencil' present in dictionary ? : 'No'\n",
      "POS 'NN' has '['weather']' words\n",
      "POS 'VBS' has 'None' words\n",
      "POS 'NNS' has '['flights']' words\n",
      "Is 'weather' present in dictionary ? : 'Yes'\n",
      "POS 'NN' has '['weather']' words\n",
      "POS 'VBS' has 'None' words\n",
      "POS 'NNS' has '['flights']' words\n"
     ]
    }
   ],
   "source": [
    "sentence = \"All the flights got delayed due to bad weather\"\n",
    "learning = LearningDictionary(sentence)#위의 문장으로 딕셔너리 생성함\n",
    "\n",
    "words = [\"chair\", \"flights\", \"delayed\", \"pencil\", \"weather\"]\n",
    "pos = [\"NN\", \"VBS\", \"NNS\"]\n",
    "for word in words:\n",
    "    status = learning.isWordPresent(word)\n",
    "    print(\"Is '{}' present in dictionary ? : '{}'\".format(word, status))\n",
    "    if status is True:\n",
    "        print(\"\\tPOS For '{}' is '{}'\".format(word, learning.getPOSForWord(word)))\n",
    "    \n",
    "    \n",
    "    for pword in pos:\n",
    "        print(\"POS '{}' has '{}' words\".format(pword, learning.getWordsForPOS(pword)))\n",
    "    \n",
    "    "
   ]
  },
  {
   "cell_type": "code",
   "execution_count": null,
   "metadata": {},
   "outputs": [],
   "source": []
  }
 ],
 "metadata": {
  "kernelspec": {
   "display_name": "Python 3",
   "language": "python",
   "name": "python3"
  },
  "language_info": {
   "codemirror_mode": {
    "name": "ipython",
    "version": 3
   },
   "file_extension": ".py",
   "mimetype": "text/x-python",
   "name": "python",
   "nbconvert_exporter": "python",
   "pygments_lexer": "ipython3",
   "version": "3.8.5"
  }
 },
 "nbformat": 4,
 "nbformat_minor": 4
}
